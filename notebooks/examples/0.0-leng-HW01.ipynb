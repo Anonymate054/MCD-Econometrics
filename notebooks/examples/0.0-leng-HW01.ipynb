{
 "cells": [
  {
   "cell_type": "markdown",
   "metadata": {},
   "source": [
    "# Auto reload modules"
   ]
  },
  {
   "cell_type": "code",
   "execution_count": 35,
   "metadata": {},
   "outputs": [
    {
     "name": "stdout",
     "output_type": "stream",
     "text": [
      "The autoreload extension is already loaded. To reload it, use:\n",
      "  %reload_ext autoreload\n"
     ]
    }
   ],
   "source": [
    "%load_ext autoreload\n",
    "%autoreload 2"
   ]
  },
  {
   "cell_type": "code",
   "execution_count": 36,
   "metadata": {},
   "outputs": [],
   "source": [
    "import pandas as pd"
   ]
  },
  {
   "cell_type": "markdown",
   "metadata": {},
   "source": [
    "# Tarea 1\n",
    "\n",
    "## Ejercicio 1\n",
    "\n",
    "Se realizó un estudio para determinar si ciertas medidas de la fuerza estática del brazo influyen en las características de “levantamiento dinámico” de un individuo. Veinticinco individuos se sometieron a pruebas de fuerza y luego se les pidió que hicieran una prueba de levantamiento de peso, en el que el peso se elevaba en forma dinámica por encima de la cabeza. A continuación se presentan los datos."
   ]
  },
  {
   "cell_type": "code",
   "execution_count": 37,
   "metadata": {},
   "outputs": [
    {
     "data": {
      "text/html": [
       "<div>\n",
       "<style scoped>\n",
       "    .dataframe tbody tr th:only-of-type {\n",
       "        vertical-align: middle;\n",
       "    }\n",
       "\n",
       "    .dataframe tbody tr th {\n",
       "        vertical-align: top;\n",
       "    }\n",
       "\n",
       "    .dataframe thead th {\n",
       "        text-align: right;\n",
       "    }\n",
       "</style>\n",
       "<table border=\"1\" class=\"dataframe\">\n",
       "  <thead>\n",
       "    <tr style=\"text-align: right;\">\n",
       "      <th></th>\n",
       "      <th>Fuerza_brazo_x</th>\n",
       "      <th>Levantamiento_dinamico_y</th>\n",
       "    </tr>\n",
       "  </thead>\n",
       "  <tbody>\n",
       "    <tr>\n",
       "      <th>0</th>\n",
       "      <td>17.3</td>\n",
       "      <td>71.7</td>\n",
       "    </tr>\n",
       "    <tr>\n",
       "      <th>1</th>\n",
       "      <td>19.3</td>\n",
       "      <td>48.3</td>\n",
       "    </tr>\n",
       "    <tr>\n",
       "      <th>2</th>\n",
       "      <td>19.5</td>\n",
       "      <td>88.3</td>\n",
       "    </tr>\n",
       "    <tr>\n",
       "      <th>3</th>\n",
       "      <td>19.7</td>\n",
       "      <td>75.0</td>\n",
       "    </tr>\n",
       "    <tr>\n",
       "      <th>4</th>\n",
       "      <td>22.9</td>\n",
       "      <td>91.7</td>\n",
       "    </tr>\n",
       "    <tr>\n",
       "      <th>5</th>\n",
       "      <td>23.1</td>\n",
       "      <td>100.0</td>\n",
       "    </tr>\n",
       "    <tr>\n",
       "      <th>6</th>\n",
       "      <td>26.4</td>\n",
       "      <td>73.3</td>\n",
       "    </tr>\n",
       "    <tr>\n",
       "      <th>7</th>\n",
       "      <td>26.8</td>\n",
       "      <td>65.0</td>\n",
       "    </tr>\n",
       "    <tr>\n",
       "      <th>8</th>\n",
       "      <td>27.6</td>\n",
       "      <td>75.0</td>\n",
       "    </tr>\n",
       "    <tr>\n",
       "      <th>9</th>\n",
       "      <td>28.1</td>\n",
       "      <td>88.3</td>\n",
       "    </tr>\n",
       "    <tr>\n",
       "      <th>10</th>\n",
       "      <td>28.2</td>\n",
       "      <td>68.3</td>\n",
       "    </tr>\n",
       "    <tr>\n",
       "      <th>11</th>\n",
       "      <td>28.7</td>\n",
       "      <td>96.7</td>\n",
       "    </tr>\n",
       "    <tr>\n",
       "      <th>12</th>\n",
       "      <td>29.0</td>\n",
       "      <td>76.7</td>\n",
       "    </tr>\n",
       "    <tr>\n",
       "      <th>13</th>\n",
       "      <td>29.6</td>\n",
       "      <td>78.3</td>\n",
       "    </tr>\n",
       "    <tr>\n",
       "      <th>14</th>\n",
       "      <td>29.9</td>\n",
       "      <td>60.0</td>\n",
       "    </tr>\n",
       "    <tr>\n",
       "      <th>15</th>\n",
       "      <td>29.9</td>\n",
       "      <td>71.7</td>\n",
       "    </tr>\n",
       "    <tr>\n",
       "      <th>16</th>\n",
       "      <td>30.3</td>\n",
       "      <td>85.0</td>\n",
       "    </tr>\n",
       "    <tr>\n",
       "      <th>17</th>\n",
       "      <td>31.3</td>\n",
       "      <td>85.0</td>\n",
       "    </tr>\n",
       "    <tr>\n",
       "      <th>18</th>\n",
       "      <td>36.0</td>\n",
       "      <td>88.3</td>\n",
       "    </tr>\n",
       "    <tr>\n",
       "      <th>19</th>\n",
       "      <td>39.5</td>\n",
       "      <td>100.0</td>\n",
       "    </tr>\n",
       "    <tr>\n",
       "      <th>20</th>\n",
       "      <td>40.4</td>\n",
       "      <td>100.0</td>\n",
       "    </tr>\n",
       "    <tr>\n",
       "      <th>21</th>\n",
       "      <td>44.3</td>\n",
       "      <td>100.0</td>\n",
       "    </tr>\n",
       "    <tr>\n",
       "      <th>22</th>\n",
       "      <td>44.6</td>\n",
       "      <td>91.7</td>\n",
       "    </tr>\n",
       "    <tr>\n",
       "      <th>23</th>\n",
       "      <td>50.4</td>\n",
       "      <td>100.0</td>\n",
       "    </tr>\n",
       "    <tr>\n",
       "      <th>24</th>\n",
       "      <td>55.9</td>\n",
       "      <td>71.7</td>\n",
       "    </tr>\n",
       "  </tbody>\n",
       "</table>\n",
       "</div>"
      ],
      "text/plain": [
       "    Fuerza_brazo_x  Levantamiento_dinamico_y\n",
       "0             17.3                      71.7\n",
       "1             19.3                      48.3\n",
       "2             19.5                      88.3\n",
       "3             19.7                      75.0\n",
       "4             22.9                      91.7\n",
       "5             23.1                     100.0\n",
       "6             26.4                      73.3\n",
       "7             26.8                      65.0\n",
       "8             27.6                      75.0\n",
       "9             28.1                      88.3\n",
       "10            28.2                      68.3\n",
       "11            28.7                      96.7\n",
       "12            29.0                      76.7\n",
       "13            29.6                      78.3\n",
       "14            29.9                      60.0\n",
       "15            29.9                      71.7\n",
       "16            30.3                      85.0\n",
       "17            31.3                      85.0\n",
       "18            36.0                      88.3\n",
       "19            39.5                     100.0\n",
       "20            40.4                     100.0\n",
       "21            44.3                     100.0\n",
       "22            44.6                      91.7\n",
       "23            50.4                     100.0\n",
       "24            55.9                      71.7"
      ]
     },
     "execution_count": 37,
     "metadata": {},
     "output_type": "execute_result"
    }
   ],
   "source": [
    "data = {\n",
    "    # 'Individual': [1, 2, 3, 4, 5, 6, 7, 8, 9, 10, 11, 12, 13, 14, 15, 16, 17, 18, 19, 20, 21, 22, 23, 24, 25],\n",
    "    'Fuerza_brazo_x': [17.3, 19.3, 19.5, 19.7, 22.9, 23.1, 26.4, 26.8, 27.6, 28.1, 28.2, 28.7, 29.0, 29.6, 29.9, 29.9, 30.3, 31.3, 36.0, 39.5, 40.4, 44.3, 44.6, 50.4, 55.9],\n",
    "    'Levantamiento_dinamico_y': [71.7, 48.3, 88.3, 75.0, 91.7, 100.0, 73.3, 65.0, 75.0, 88.3, 68.3, 96.7, 76.7, 78.3, 60.0, 71.7, 85.0, 85.0, 88.3, 100.0, 100.0, 100.0, 91.7, 100.0, 71.7]\n",
    "}\n",
    "\n",
    "df = pd.DataFrame(data)\n",
    "# df.set_index('Individual', inplace=True)\n",
    "\n",
    "df"
   ]
  },
  {
   "cell_type": "markdown",
   "metadata": {},
   "source": [
    "### a. Realice el diagrama de dispersión entre las variables, obtenga e interpreta las estadisticas descriptivas de las mismas."
   ]
  },
  {
   "cell_type": "code",
   "execution_count": 38,
   "metadata": {},
   "outputs": [
    {
     "data": {
      "image/png": "[encoded data removed]",
      "text/plain": [
       "<Figure size 600x600 with 3 Axes>"
      ]
     },
     "metadata": {},
     "output_type": "display_data"
    }
   ],
   "source": [
    "import matplotlib.pyplot as plt\n",
    "import seaborn as sns\n",
    "import warnings\n",
    "\n",
    "warnings.filterwarnings(\"ignore\")\n",
    "sns.set_style(\"whitegrid\")\n",
    "sns.jointplot(data=df, x='Fuerza_brazo_x', y='Levantamiento_dinamico_y')\n",
    "plt.show()"
   ]
  },
  {
   "cell_type": "code",
   "execution_count": 39,
   "metadata": {},
   "outputs": [
    {
     "data": {
      "text/html": [
       "<div>\n",
       "<style scoped>\n",
       "    .dataframe tbody tr th:only-of-type {\n",
       "        vertical-align: middle;\n",
       "    }\n",
       "\n",
       "    .dataframe tbody tr th {\n",
       "        vertical-align: top;\n",
       "    }\n",
       "\n",
       "    .dataframe thead th {\n",
       "        text-align: right;\n",
       "    }\n",
       "</style>\n",
       "<table border=\"1\" class=\"dataframe\">\n",
       "  <thead>\n",
       "    <tr style=\"text-align: right;\">\n",
       "      <th></th>\n",
       "      <th>Fuerza_brazo_x</th>\n",
       "      <th>Levantamiento_dinamico_y</th>\n",
       "    </tr>\n",
       "  </thead>\n",
       "  <tbody>\n",
       "    <tr>\n",
       "      <th>count</th>\n",
       "      <td>25.000000</td>\n",
       "      <td>25.000000</td>\n",
       "    </tr>\n",
       "    <tr>\n",
       "      <th>mean</th>\n",
       "      <td>31.148000</td>\n",
       "      <td>82.000000</td>\n",
       "    </tr>\n",
       "    <tr>\n",
       "      <th>std</th>\n",
       "      <td>9.867207</td>\n",
       "      <td>14.129549</td>\n",
       "    </tr>\n",
       "    <tr>\n",
       "      <th>min</th>\n",
       "      <td>17.300000</td>\n",
       "      <td>48.300000</td>\n",
       "    </tr>\n",
       "    <tr>\n",
       "      <th>25%</th>\n",
       "      <td>26.400000</td>\n",
       "      <td>71.700000</td>\n",
       "    </tr>\n",
       "    <tr>\n",
       "      <th>50%</th>\n",
       "      <td>29.000000</td>\n",
       "      <td>85.000000</td>\n",
       "    </tr>\n",
       "    <tr>\n",
       "      <th>75%</th>\n",
       "      <td>36.000000</td>\n",
       "      <td>91.700000</td>\n",
       "    </tr>\n",
       "    <tr>\n",
       "      <th>max</th>\n",
       "      <td>55.900000</td>\n",
       "      <td>100.000000</td>\n",
       "    </tr>\n",
       "  </tbody>\n",
       "</table>\n",
       "</div>"
      ],
      "text/plain": [
       "       Fuerza_brazo_x  Levantamiento_dinamico_y\n",
       "count       25.000000                 25.000000\n",
       "mean        31.148000                 82.000000\n",
       "std          9.867207                 14.129549\n",
       "min         17.300000                 48.300000\n",
       "25%         26.400000                 71.700000\n",
       "50%         29.000000                 85.000000\n",
       "75%         36.000000                 91.700000\n",
       "max         55.900000                100.000000"
      ]
     },
     "execution_count": 39,
     "metadata": {},
     "output_type": "execute_result"
    }
   ],
   "source": [
    "df.describe()"
   ]
  },
  {
   "cell_type": "code",
   "execution_count": 40,
   "metadata": {},
   "outputs": [
    {
     "name": "stdout",
     "output_type": "stream",
     "text": [
      "Rango para Fuerza brazo x = 38.60 \n",
      "Rango para Levantamiento dinamico y = 51.70 \n"
     ]
    }
   ],
   "source": [
    "print(f\"Rango para Fuerza brazo x = {df['Fuerza_brazo_x'].max() - df['Fuerza_brazo_x'].min():.2f} \")\n",
    "print(f\"Rango para Levantamiento dinamico y = {df['Levantamiento_dinamico_y'].max() - df['Levantamiento_dinamico_y'].min():.2f} \")"
   ]
  },
  {
   "cell_type": "markdown",
   "metadata": {},
   "source": [
    "- Se puede observar que en el caso de la columna \"Fuerza del brazo x\", tiene una mayor desviación estándar que la columna de \"Levantamiento dinámico\".\n",
    "- Para la variable \"x\" el rango es menor.\n",
    "- Como primera impresión, no se ven muy correlacionados. \n",
    "- Cuentan con medidas de tendencia central diferentes.\n",
    "- Gran parte de los datos se encuentran entre 25 a 30 en \"x\", y 90 a 100 en \"y\"."
   ]
  },
  {
   "cell_type": "markdown",
   "metadata": {},
   "source": [
    "### b. Calcule el coeﬁciente de correlación lineal y reliace la prueba de hipótesis correspondiente para validar si existe o no relación lineal entre las variable, con una signiﬁcancia del 5%."
   ]
  },
  {
   "cell_type": "markdown",
   "metadata": {},
   "source": [
    "*Notas:*\n",
    "\n",
    "La función `pearsonr` de la librería `scipy.stats` se utiliza para calcular el coeficiente de correlación de Pearson y el p-valor correspondiente. Este coeficiente mide la fuerza y la dirección de la relación lineal entre dos variables. A continuación te explico cómo funciona:\n",
    "\n",
    "### ¿Qué es el coeficiente de correlación de Pearson?\n",
    "El coeficiente de correlación de Pearson, denotado como $ r $, es un valor que oscila entre -1 y 1:\n",
    "\n",
    "- **$ r = 1 $**: Indica una correlación positiva perfecta; cuando una variable aumenta, la otra también lo hace de manera proporcional.\n",
    "- **$ r = -1 $**: Indica una correlación negativa perfecta; cuando una variable aumenta, la otra disminuye de manera proporcional.\n",
    "- **$ r = 0 $**: Indica que no hay una relación lineal entre las variables.\n",
    "\n",
    "### ¿Cómo se usa la función `pearsonr`?\n",
    "La función `pearsonr` toma dos argumentos: las dos series de datos para las cuales deseas calcular la correlación. Retorna dos valores:\n",
    "\n",
    "1. **Coeficiente de correlación de Pearson ($ r $)**: Indica la fuerza y la dirección de la relación lineal entre las dos variables.\n",
    "2. **P-valor**: Indica la probabilidad de observar un coeficiente de correlación tan extremo como el calculado, bajo la suposición de que no existe correlación en la población (es decir, bajo la hipótesis nula de $ r = 0 $).\n",
    "\n",
    "### Ejemplo de uso\n",
    "Supongamos que tienes dos conjuntos de datos, `x` y `y`, y deseas calcular la correlación entre ellos:\n",
    "\n",
    "```python\n",
    "from scipy.stats import pearsonr\n",
    "\n",
    "# Datos de ejemplo\n",
    "x = [1, 2, 3, 4, 5]\n",
    "y = [2, 4, 6, 8, 10]\n",
    "\n",
    "# Calcular el coeficiente de correlación y el p-valor\n",
    "r, p_value = pearsonr(x, y)\n",
    "\n",
    "print(f\"Coeficiente de correlación: {r:.2f}\")\n",
    "print(f\"P-valor: {p_value:.5f}\")\n",
    "```\n",
    "\n",
    "### Interpretación\n",
    "- **Coeficiente de correlación ($ r $)**: Indica la magnitud de la correlación. Por ejemplo, un valor cercano a 1 o -1 indica una fuerte correlación.\n",
    "- **P-valor**: Se utiliza para realizar la prueba de hipótesis. Si el p-valor es menor que un nivel de significancia (por ejemplo, 0.05), se rechaza la hipótesis nula y se concluye que existe una correlación significativa entre las variables.\n",
    "\n",
    "### Internamente, ¿cómo funciona `pearsonr`?\n",
    "Internamente, la función `pearsonr` realiza los siguientes pasos:\n",
    "\n",
    "1. **Cálculo del coeficiente $ r $**:\n",
    "   $$\n",
    "   r = \\frac{\\sum{(x_i - \\bar{x})(y_i - \\bar{y})}}{\\sqrt{\\sum{(x_i - \\bar{x})^2} \\sum{(y_i - \\bar{y})^2}}}\n",
    "   $$\n",
    "   Donde $\\bar{x} $ y $ \\bar{y} $ son las medias de las series $ x $ y $ y $.\n",
    "\n",
    "2. **Cálculo del p-valor**:\n",
    "   - Asume que las variables tienen una distribución normal conjunta.\n",
    "   - Utiliza el valor de $ r $ y el número de datos para calcular el estadístico de prueba $ t $, y posteriormente obtiene el p-valor.\n",
    "\n",
    "### Ventajas de usar `pearsonr`\n",
    "- **Facilidad de uso**: La función maneja todo el cálculo internamente, proporcionando directamente el coeficiente y el p-valor.\n",
    "- **Precisión**: La implementación en `scipy.stats` es eficiente y está optimizada para manejar una amplia gama de casos de uso.\n",
    "\n",
    "### Limitaciones\n",
    "- **Suposición de linealidad**: `pearsonr` solo mide relaciones lineales. No es adecuado para relaciones no lineales.\n",
    "- **Sensibilidad a valores atípicos**: Unos pocos valores atípicos pueden influir fuertemente en el valor de $ r $.\n",
    "  \n",
    "En resumen, `pearsonr` es una herramienta poderosa y fácil de usar para evaluar la relación lineal entre dos conjuntos de datos, permitiendo también realizar pruebas de hipótesis estadísticas para validar la significancia de esa relación."
   ]
  },
  {
   "cell_type": "code",
   "execution_count": 41,
   "metadata": {},
   "outputs": [
    {
     "name": "stdout",
     "output_type": "stream",
     "text": [
      "Coeficiente de correlación: 0.39\n"
     ]
    }
   ],
   "source": [
    "coef_corr = df['Fuerza_brazo_x'].corr(df['Levantamiento_dinamico_y'])\n",
    "print(f\"Coeficiente de correlación: {coef_corr:.2f}\")"
   ]
  },
  {
   "cell_type": "markdown",
   "metadata": {},
   "source": [
    "El coeficiente de correlación implica que existe una baja corelación lineal entre los datos. "
   ]
  },
  {
   "cell_type": "code",
   "execution_count": 42,
   "metadata": {},
   "outputs": [
    {
     "name": "stdout",
     "output_type": "stream",
     "text": [
      "Coeficiente de correlación: 0.39\n",
      "P-valor: 0.05282\n"
     ]
    }
   ],
   "source": [
    "from scipy.stats import pearsonr\n",
    "coef_corr, p_value = pearsonr(df['Fuerza_brazo_x'], df['Levantamiento_dinamico_y'])\n",
    "print(f\"Coeficiente de correlación: {coef_corr:.2f}\")\n",
    "print(f\"P-valor: {p_value:.5f}\")"
   ]
  },
  {
   "cell_type": "code",
   "execution_count": 43,
   "metadata": {},
   "outputs": [
    {
     "name": "stdout",
     "output_type": "stream",
     "text": [
      "No se puede rechazar la hipótesis nula. No hay evidencia suficiente para afirmar que existe una relación lineal significativa entre las variables.\n"
     ]
    }
   ],
   "source": [
    "if p_value < 0.05:\n",
    "    print(\"Rechazamos la hipótesis nula. Existe una relación lineal significativa entre las variables.\")\n",
    "else:\n",
    "    print(\"No se puede rechazar la hipótesis nula. No hay evidencia suficiente para afirmar que existe una relación lineal significativa entre las variables.\")"
   ]
  },
  {
   "cell_type": "markdown",
   "metadata": {},
   "source": [
    "### Estime los coeﬁcientes del modelo de regresión lineal simple por MCO.\n",
    "\n",
    "#### Solución manual\n",
    "\n",
    "Cálculo de los coeficientes:\n",
    "\n",
    "$$ b_1 = \\frac{n \\displaystyle \\sum_{i=1}^{n} x_iy_i - (\\displaystyle \\sum_{i=1}^{n}x_i)( \\displaystyle \\sum_{i=1}^{n}y_i)}{n \\displaystyle \\sum_{i=1}^{n}x_{i}^{2}  - (\\displaystyle \\sum_{i=1}^{n}x_i)^2} = \\frac{\\displaystyle \\sum_{i=1}^{n}((x_i-\\bar{x})(y_i-\\bar{y}))}{\\displaystyle \\sum_{i=1}^{n}(x_i-\\bar{x})^2} $$\n",
    "\n",
    "$$ b_0 = \\frac{\\displaystyle \\sum_{i=1}^{n} y_i - b_1 \\displaystyle \\sum_{i=1}^{n} x_i }{n} = \\bar{y} - b_1 \\bar{x} $$\n",
    "\n",
    "$$ \\hat{y} = b_0 + b_1 x $$\n",
    "\n",
    "$$ r = \\frac{\\displaystyle \\sum (x-\\bar{x})(y-\\bar{y})}{\\sqrt{\\displaystyle \\sum (x-\\bar{x})^2} \\sqrt{\\displaystyle \\sum (y-\\bar{y})^2} } = \\sqrt{1 - \\frac{\\sum(y-\\hat{y})^2}{\\sum(y-\\bar{y})^2}} $$"
   ]
  },
  {
   "cell_type": "code",
   "execution_count": 44,
   "metadata": {},
   "outputs": [
    {
     "data": {
      "text/html": [
       "<div>\n",
       "<style scoped>\n",
       "    .dataframe tbody tr th:only-of-type {\n",
       "        vertical-align: middle;\n",
       "    }\n",
       "\n",
       "    .dataframe tbody tr th {\n",
       "        vertical-align: top;\n",
       "    }\n",
       "\n",
       "    .dataframe thead th {\n",
       "        text-align: right;\n",
       "    }\n",
       "</style>\n",
       "<table border=\"1\" class=\"dataframe\">\n",
       "  <thead>\n",
       "    <tr style=\"text-align: right;\">\n",
       "      <th></th>\n",
       "      <th>Fuerza_brazo_x</th>\n",
       "      <th>Levantamiento_dinamico_y</th>\n",
       "      <th>x_bar</th>\n",
       "      <th>y_bar</th>\n",
       "      <th>x-x_bar</th>\n",
       "      <th>y-y_bar</th>\n",
       "      <th>num_b1</th>\n",
       "      <th>den_b1</th>\n",
       "    </tr>\n",
       "  </thead>\n",
       "  <tbody>\n",
       "    <tr>\n",
       "      <th>0</th>\n",
       "      <td>17.3</td>\n",
       "      <td>71.7</td>\n",
       "      <td>31.148</td>\n",
       "      <td>82.0</td>\n",
       "      <td>-13.848</td>\n",
       "      <td>-10.3</td>\n",
       "      <td>142.6344</td>\n",
       "      <td>191.767104</td>\n",
       "    </tr>\n",
       "    <tr>\n",
       "      <th>1</th>\n",
       "      <td>19.3</td>\n",
       "      <td>48.3</td>\n",
       "      <td>31.148</td>\n",
       "      <td>82.0</td>\n",
       "      <td>-11.848</td>\n",
       "      <td>-33.7</td>\n",
       "      <td>399.2776</td>\n",
       "      <td>140.375104</td>\n",
       "    </tr>\n",
       "    <tr>\n",
       "      <th>2</th>\n",
       "      <td>19.5</td>\n",
       "      <td>88.3</td>\n",
       "      <td>31.148</td>\n",
       "      <td>82.0</td>\n",
       "      <td>-11.648</td>\n",
       "      <td>6.3</td>\n",
       "      <td>-73.3824</td>\n",
       "      <td>135.675904</td>\n",
       "    </tr>\n",
       "    <tr>\n",
       "      <th>3</th>\n",
       "      <td>19.7</td>\n",
       "      <td>75.0</td>\n",
       "      <td>31.148</td>\n",
       "      <td>82.0</td>\n",
       "      <td>-11.448</td>\n",
       "      <td>-7.0</td>\n",
       "      <td>80.1360</td>\n",
       "      <td>131.056704</td>\n",
       "    </tr>\n",
       "    <tr>\n",
       "      <th>4</th>\n",
       "      <td>22.9</td>\n",
       "      <td>91.7</td>\n",
       "      <td>31.148</td>\n",
       "      <td>82.0</td>\n",
       "      <td>-8.248</td>\n",
       "      <td>9.7</td>\n",
       "      <td>-80.0056</td>\n",
       "      <td>68.029504</td>\n",
       "    </tr>\n",
       "  </tbody>\n",
       "</table>\n",
       "</div>"
      ],
      "text/plain": [
       "   Fuerza_brazo_x  Levantamiento_dinamico_y   x_bar  y_bar  x-x_bar  y-y_bar  \\\n",
       "0            17.3                      71.7  31.148   82.0  -13.848    -10.3   \n",
       "1            19.3                      48.3  31.148   82.0  -11.848    -33.7   \n",
       "2            19.5                      88.3  31.148   82.0  -11.648      6.3   \n",
       "3            19.7                      75.0  31.148   82.0  -11.448     -7.0   \n",
       "4            22.9                      91.7  31.148   82.0   -8.248      9.7   \n",
       "\n",
       "     num_b1      den_b1  \n",
       "0  142.6344  191.767104  \n",
       "1  399.2776  140.375104  \n",
       "2  -73.3824  135.675904  \n",
       "3   80.1360  131.056704  \n",
       "4  -80.0056   68.029504  "
      ]
     },
     "execution_count": 44,
     "metadata": {},
     "output_type": "execute_result"
    }
   ],
   "source": [
    "import numpy as np\n",
    "df_cop = df.copy()\n",
    "df_cop['x_bar'] = df_cop['Fuerza_brazo_x'].mean()\n",
    "df_cop['y_bar'] = df_cop['Levantamiento_dinamico_y'].mean()\n",
    "\n",
    "df_cop['x-x_bar'] = df_cop['Fuerza_brazo_x'] - df_cop['x_bar']\n",
    "df_cop['y-y_bar'] = df_cop['Levantamiento_dinamico_y'] - df_cop['y_bar']\n",
    "\n",
    "df_cop['num_b1'] = df_cop['x-x_bar'] * df_cop['y-y_bar']\n",
    "df_cop['den_b1'] = df_cop['x-x_bar'] ** 2\n",
    "\n",
    "df_cop.head(5)"
   ]
  },
  {
   "cell_type": "code",
   "execution_count": 45,
   "metadata": {},
   "outputs": [
    {
     "name": "stdout",
     "output_type": "stream",
     "text": [
      "El coeficiente b1 = slope = 0.561\n",
      "El coeficiente b0 = intercept = 64.529\n"
     ]
    }
   ],
   "source": [
    "b1 = df_cop['num_b1'].sum() / df_cop['den_b1'].sum()\n",
    "b0 = df_cop['Levantamiento_dinamico_y'].mean() - b1 * df_cop['Fuerza_brazo_x'].mean()\n",
    "print(f\"El coeficiente b1 = slope = {b1:.3f}\")\n",
    "print(f\"El coeficiente b0 = intercept = {b0:.3f}\")"
   ]
  },
  {
   "cell_type": "markdown",
   "metadata": {},
   "source": [
    "#### Solución mediante librerías"
   ]
  },
  {
   "cell_type": "code",
   "execution_count": 46,
   "metadata": {},
   "outputs": [
    {
     "name": "stdout",
     "output_type": "stream",
     "text": [
      "Slope = 0.561\n",
      "Intercept = 64.529\n"
     ]
    }
   ],
   "source": [
    "from scipy import stats\n",
    "slope, intercept, r, p, std_err = stats.linregress(df_cop['Fuerza_brazo_x'], df_cop['Levantamiento_dinamico_y'])\n",
    "print(f\"Slope = {slope:.3f}\")\n",
    "print(f\"Intercept = {intercept:.3f}\")"
   ]
  },
  {
   "cell_type": "markdown",
   "metadata": {},
   "source": [
    "### d. Obtenga la estimación puntual para una fuerza del brazo de 30."
   ]
  },
  {
   "cell_type": "code",
   "execution_count": 47,
   "metadata": {},
   "outputs": [
    {
     "name": "stdout",
     "output_type": "stream",
     "text": [
      "Estimación puntual de 30 es: 81.35608933417738\n"
     ]
    }
   ],
   "source": [
    "estimacion = 30\n",
    "\n",
    "def y_hat(x: int | float, slope : float, intercept: float): \n",
    "    \"\"\" \"\"\"\n",
    "    return slope * x + intercept\n",
    "\n",
    "print(f\"Estimación puntual de {estimacion} es: {y_hat(estimacion, slope=slope, intercept=intercept)}\")"
   ]
  },
  {
   "cell_type": "markdown",
   "metadata": {},
   "source": [
    "### e. Graﬁque los residuales en comparación con la variable independiente y comente los resultados."
   ]
  },
  {
   "cell_type": "code",
   "execution_count": 48,
   "metadata": {},
   "outputs": [
    {
     "data": {
      "text/html": [
       "<div>\n",
       "<style scoped>\n",
       "    .dataframe tbody tr th:only-of-type {\n",
       "        vertical-align: middle;\n",
       "    }\n",
       "\n",
       "    .dataframe tbody tr th {\n",
       "        vertical-align: top;\n",
       "    }\n",
       "\n",
       "    .dataframe thead th {\n",
       "        text-align: right;\n",
       "    }\n",
       "</style>\n",
       "<table border=\"1\" class=\"dataframe\">\n",
       "  <thead>\n",
       "    <tr style=\"text-align: right;\">\n",
       "      <th></th>\n",
       "      <th>Fuerza_brazo_x</th>\n",
       "      <th>Levantamiento_dinamico_y</th>\n",
       "      <th>y_hat</th>\n",
       "      <th>err</th>\n",
       "    </tr>\n",
       "  </thead>\n",
       "  <tbody>\n",
       "    <tr>\n",
       "      <th>0</th>\n",
       "      <td>17.3</td>\n",
       "      <td>71.7</td>\n",
       "      <td>74.232687</td>\n",
       "      <td>-2.532687</td>\n",
       "    </tr>\n",
       "    <tr>\n",
       "      <th>1</th>\n",
       "      <td>19.3</td>\n",
       "      <td>48.3</td>\n",
       "      <td>75.354483</td>\n",
       "      <td>-27.054483</td>\n",
       "    </tr>\n",
       "    <tr>\n",
       "      <th>2</th>\n",
       "      <td>19.5</td>\n",
       "      <td>88.3</td>\n",
       "      <td>75.466663</td>\n",
       "      <td>12.833337</td>\n",
       "    </tr>\n",
       "    <tr>\n",
       "      <th>3</th>\n",
       "      <td>19.7</td>\n",
       "      <td>75.0</td>\n",
       "      <td>75.578842</td>\n",
       "      <td>-0.578842</td>\n",
       "    </tr>\n",
       "    <tr>\n",
       "      <th>4</th>\n",
       "      <td>22.9</td>\n",
       "      <td>91.7</td>\n",
       "      <td>77.373715</td>\n",
       "      <td>14.326285</td>\n",
       "    </tr>\n",
       "  </tbody>\n",
       "</table>\n",
       "</div>"
      ],
      "text/plain": [
       "   Fuerza_brazo_x  Levantamiento_dinamico_y      y_hat        err\n",
       "0            17.3                      71.7  74.232687  -2.532687\n",
       "1            19.3                      48.3  75.354483 -27.054483\n",
       "2            19.5                      88.3  75.466663  12.833337\n",
       "3            19.7                      75.0  75.578842  -0.578842\n",
       "4            22.9                      91.7  77.373715  14.326285"
      ]
     },
     "execution_count": 48,
     "metadata": {},
     "output_type": "execute_result"
    }
   ],
   "source": [
    "df_res = df.copy()\n",
    "df_res['y_hat'] = df_res.apply(lambda row: y_hat(row['Fuerza_brazo_x'], slope=slope, intercept=intercept), axis=1)\n",
    "df_res['err'] = df_res['Levantamiento_dinamico_y'] - df_res['y_hat']\n",
    "df_res.head(5)"
   ]
  },
  {
   "cell_type": "code",
   "execution_count": 49,
   "metadata": {},
   "outputs": [
    {
     "data": {
      "image/png": "[encoded data removed]",
      "text/plain": [
       "<Figure size 1000x600 with 1 Axes>"
      ]
     },
     "metadata": {},
     "output_type": "display_data"
    }
   ],
   "source": [
    "plt.figure(figsize=(10, 6))\n",
    "sns.scatterplot(x=df['Fuerza_brazo_x'], y=df_res['err'])\n",
    "plt.axhline(0, color='gray', linestyle='--', linewidth=2)\n",
    "plt.xlabel('Fuerza del brazo, x')\n",
    "plt.ylabel('Residuals')\n",
    "plt.title('Gráfico de los Residuales vs Fuerza del brazo, x')\n",
    "plt.show()"
   ]
  },
  {
   "cell_type": "markdown",
   "metadata": {},
   "source": [
    "Con librerías:"
   ]
  },
  {
   "cell_type": "code",
   "execution_count": 50,
   "metadata": {},
   "outputs": [
    {
     "data": {
      "text/plain": [
       "<Axes: xlabel='Fuerza_brazo_x', ylabel='Levantamiento_dinamico_y'>"
      ]
     },
     "execution_count": 50,
     "metadata": {},
     "output_type": "execute_result"
    },
    {
     "data": {
      "image/png": "[encoded data removed]",
      "text/plain": [
       "<Figure size 640x480 with 1 Axes>"
      ]
     },
     "metadata": {},
     "output_type": "display_data"
    }
   ],
   "source": [
    "sns.residplot(data=df, x=\"Fuerza_brazo_x\", y=\"Levantamiento_dinamico_y\")"
   ]
  },
  {
   "cell_type": "markdown",
   "metadata": {},
   "source": [
    "## Ejercicio 2\n",
    "Doce marcas de shampoo de venta en México han compartido información acerca de sus ventas y del monto en inversión publicitaria durante 2023. Los datos anuales de ambas variables se presentan a continuación:\n"
   ]
  },
  {
   "cell_type": "code",
   "execution_count": 51,
   "metadata": {},
   "outputs": [
    {
     "data": {
      "text/html": [
       "<div>\n",
       "<style scoped>\n",
       "    .dataframe tbody tr th:only-of-type {\n",
       "        vertical-align: middle;\n",
       "    }\n",
       "\n",
       "    .dataframe tbody tr th {\n",
       "        vertical-align: top;\n",
       "    }\n",
       "\n",
       "    .dataframe thead th {\n",
       "        text-align: right;\n",
       "    }\n",
       "</style>\n",
       "<table border=\"1\" class=\"dataframe\">\n",
       "  <thead>\n",
       "    <tr style=\"text-align: right;\">\n",
       "      <th></th>\n",
       "      <th>Marca</th>\n",
       "      <th>Venta</th>\n",
       "      <th>Inversion</th>\n",
       "    </tr>\n",
       "  </thead>\n",
       "  <tbody>\n",
       "    <tr>\n",
       "      <th>0</th>\n",
       "      <td>A</td>\n",
       "      <td>2.4</td>\n",
       "      <td>6</td>\n",
       "    </tr>\n",
       "    <tr>\n",
       "      <th>1</th>\n",
       "      <td>B</td>\n",
       "      <td>1.6</td>\n",
       "      <td>2</td>\n",
       "    </tr>\n",
       "    <tr>\n",
       "      <th>2</th>\n",
       "      <td>C</td>\n",
       "      <td>2.3</td>\n",
       "      <td>5</td>\n",
       "    </tr>\n",
       "    <tr>\n",
       "      <th>3</th>\n",
       "      <td>D</td>\n",
       "      <td>1.5</td>\n",
       "      <td>1</td>\n",
       "    </tr>\n",
       "    <tr>\n",
       "      <th>4</th>\n",
       "      <td>E</td>\n",
       "      <td>3.2</td>\n",
       "      <td>4</td>\n",
       "    </tr>\n",
       "    <tr>\n",
       "      <th>5</th>\n",
       "      <td>F</td>\n",
       "      <td>2.5</td>\n",
       "      <td>7</td>\n",
       "    </tr>\n",
       "    <tr>\n",
       "      <th>6</th>\n",
       "      <td>G</td>\n",
       "      <td>1.8</td>\n",
       "      <td>4</td>\n",
       "    </tr>\n",
       "    <tr>\n",
       "      <th>7</th>\n",
       "      <td>H</td>\n",
       "      <td>1.8</td>\n",
       "      <td>3</td>\n",
       "    </tr>\n",
       "    <tr>\n",
       "      <th>8</th>\n",
       "      <td>I</td>\n",
       "      <td>3.5</td>\n",
       "      <td>8</td>\n",
       "    </tr>\n",
       "    <tr>\n",
       "      <th>9</th>\n",
       "      <td>J</td>\n",
       "      <td>3.4</td>\n",
       "      <td>11</td>\n",
       "    </tr>\n",
       "    <tr>\n",
       "      <th>10</th>\n",
       "      <td>K</td>\n",
       "      <td>1.5</td>\n",
       "      <td>2</td>\n",
       "    </tr>\n",
       "    <tr>\n",
       "      <th>11</th>\n",
       "      <td>L</td>\n",
       "      <td>3.2</td>\n",
       "      <td>12</td>\n",
       "    </tr>\n",
       "  </tbody>\n",
       "</table>\n",
       "</div>"
      ],
      "text/plain": [
       "   Marca  Venta  Inversion\n",
       "0      A    2.4          6\n",
       "1      B    1.6          2\n",
       "2      C    2.3          5\n",
       "3      D    1.5          1\n",
       "4      E    3.2          4\n",
       "5      F    2.5          7\n",
       "6      G    1.8          4\n",
       "7      H    1.8          3\n",
       "8      I    3.5          8\n",
       "9      J    3.4         11\n",
       "10     K    1.5          2\n",
       "11     L    3.2         12"
      ]
     },
     "execution_count": 51,
     "metadata": {},
     "output_type": "execute_result"
    }
   ],
   "source": [
    "import pandas as pd\n",
    "data = {\n",
    "    'Marca': [\"A\", \"B\", \"C\", \"D\", \"E\", \"F\", \"G\", \"H\", \"I\", \"J\", \"K\", \"L\"],\n",
    "    'Venta': [2.4, 1.6, 2.3, 1.5, 3.2, 2.5, 1.8, 1.8, 3.5, 3.4, 1.5, 3.2],\n",
    "    'Inversion': [6, 2, 5, 1, 4, 7, 4, 3, 8, 11, 2, 12]\n",
    "}\n",
    "\n",
    "df2 = pd.DataFrame(data)\n",
    "# df.set_index('Marca', inplace=True)\n",
    "\n",
    "df2"
   ]
  },
  {
   "cell_type": "code",
   "execution_count": 52,
   "metadata": {},
   "outputs": [
    {
     "data": {
      "text/html": [
       "<div>\n",
       "<style scoped>\n",
       "    .dataframe tbody tr th:only-of-type {\n",
       "        vertical-align: middle;\n",
       "    }\n",
       "\n",
       "    .dataframe tbody tr th {\n",
       "        vertical-align: top;\n",
       "    }\n",
       "\n",
       "    .dataframe thead th {\n",
       "        text-align: right;\n",
       "    }\n",
       "</style>\n",
       "<table border=\"1\" class=\"dataframe\">\n",
       "  <thead>\n",
       "    <tr style=\"text-align: right;\">\n",
       "      <th></th>\n",
       "      <th>Venta</th>\n",
       "      <th>Inversion</th>\n",
       "    </tr>\n",
       "  </thead>\n",
       "  <tbody>\n",
       "    <tr>\n",
       "      <th>count</th>\n",
       "      <td>12.000000</td>\n",
       "      <td>12.000000</td>\n",
       "    </tr>\n",
       "    <tr>\n",
       "      <th>mean</th>\n",
       "      <td>2.391667</td>\n",
       "      <td>5.416667</td>\n",
       "    </tr>\n",
       "    <tr>\n",
       "      <th>std</th>\n",
       "      <td>0.768065</td>\n",
       "      <td>3.528026</td>\n",
       "    </tr>\n",
       "    <tr>\n",
       "      <th>min</th>\n",
       "      <td>1.500000</td>\n",
       "      <td>1.000000</td>\n",
       "    </tr>\n",
       "    <tr>\n",
       "      <th>25%</th>\n",
       "      <td>1.750000</td>\n",
       "      <td>2.750000</td>\n",
       "    </tr>\n",
       "    <tr>\n",
       "      <th>50%</th>\n",
       "      <td>2.350000</td>\n",
       "      <td>4.500000</td>\n",
       "    </tr>\n",
       "    <tr>\n",
       "      <th>75%</th>\n",
       "      <td>3.200000</td>\n",
       "      <td>7.250000</td>\n",
       "    </tr>\n",
       "    <tr>\n",
       "      <th>max</th>\n",
       "      <td>3.500000</td>\n",
       "      <td>12.000000</td>\n",
       "    </tr>\n",
       "  </tbody>\n",
       "</table>\n",
       "</div>"
      ],
      "text/plain": [
       "           Venta  Inversion\n",
       "count  12.000000  12.000000\n",
       "mean    2.391667   5.416667\n",
       "std     0.768065   3.528026\n",
       "min     1.500000   1.000000\n",
       "25%     1.750000   2.750000\n",
       "50%     2.350000   4.500000\n",
       "75%     3.200000   7.250000\n",
       "max     3.500000  12.000000"
      ]
     },
     "execution_count": 52,
     "metadata": {},
     "output_type": "execute_result"
    }
   ],
   "source": [
    "df2.describe()"
   ]
  },
  {
   "cell_type": "code",
   "execution_count": 53,
   "metadata": {},
   "outputs": [
    {
     "name": "stdout",
     "output_type": "stream",
     "text": [
      "Rango para la columna Venta son de 2.0 Millones de litros\n",
      "Rango para la columna Inversion son de 11 Millones de pesos\n",
      "El coeficiente de correlación es: 0.833\n"
     ]
    }
   ],
   "source": [
    "# Cálculo del rango\n",
    "\n",
    "print(f\"Rango para la columna Venta son de {df2['Venta'].max() - df2['Venta'].min()} Millones de litros\")\n",
    "print(f\"Rango para la columna Inversion son de {df2['Inversion'].max() - df2['Inversion'].min()} Millones de pesos\")\n",
    "df_corr = df2['Venta'].corr(df2['Inversion'])\n",
    "print(f\"El coeficiente de correlación es: {df_corr:.3f}\")"
   ]
  },
  {
   "cell_type": "markdown",
   "metadata": {},
   "source": [
    "Diagrama de dispersión"
   ]
  },
  {
   "cell_type": "code",
   "execution_count": 54,
   "metadata": {},
   "outputs": [
    {
     "data": {
      "text/plain": [
       "<seaborn.axisgrid.JointGrid at 0x786b7bb7aa90>"
      ]
     },
     "execution_count": 54,
     "metadata": {},
     "output_type": "execute_result"
    },
    {
     "data": {
      "image/png": "[encoded data removed]",
      "text/plain": [
       "<Figure size 600x600 with 3 Axes>"
      ]
     },
     "metadata": {},
     "output_type": "display_data"
    }
   ],
   "source": [
    "import matplotlib.pyplot as plt\n",
    "import seaborn as sns\n",
    "\n",
    "sns.jointplot(data=df2, x=\"Venta\", y=\"Inversion\")"
   ]
  },
  {
   "cell_type": "markdown",
   "metadata": {},
   "source": [
    "*Observaciones*\n",
    "\n",
    "- Existe una alta correlación entre las variables.\n",
    "- El rango de las variables no es muy alto.\n",
    "- Hay una mayor concentración en la columna venta que en inversión"
   ]
  },
  {
   "cell_type": "markdown",
   "metadata": {},
   "source": [
    "### b. Calcule el intervalo de conﬁanza al 95% para coeﬁciente de correlación lineal\n",
    "\n",
    "Para calcular el intervalo de confianza al 95% para el coeficiente de correlación lineal (r), puedes usar la transformación de Fisher para convertir la correlación a una escala donde el intervalo de confianza es más fácil de calcular. Luego, transformas el intervalo de confianza de vuelta a la escala original.\n",
    "\n",
    "Aquí tienes los pasos:\n",
    "\n",
    "1. **Transforma la correlación con la transformación de Fisher:**\n",
    "\n",
    "   La transformación de Fisher se define como:\n",
    "\n",
    "   $$ z = \\frac{1}{2} \\ln\\left(\\frac{1 + r}{1 - r}\\right) $$\n",
    "   \n",
    "\n",
    "   Donde $ r $ es el coeficiente de correlación.\n",
    "\n",
    "2. **Calcula el intervalo de confianza para $ z $:**\n",
    "\n",
    "   Para un intervalo de confianza del 95%, se usa una distribución normal estándar. El intervalo de confianza para $ z $ es:\n",
    "\n",
    "   $$\n",
    "   z \\pm z_{0.025} \\cdot \\frac{1}{\\sqrt{n - 3}}\n",
    "   $$\n",
    "\n",
    "   Aquí, $ z_{0.025} $ es el valor crítico de la distribución normal estándar para un nivel de confianza del 95% (aproximadamente 1.96), y $ n $ es el número de pares de datos.\n",
    "\n",
    "3. **Transforma el intervalo de vuelta a la escala de $ r $:**\n",
    "\n",
    "   La transformación inversa de Fisher es:\n",
    "\n",
    "   $$\n",
    "   r = \\frac{e^{2z} - 1}{e^{2z} + 1}\n",
    "   $$\n",
    "\n",
    "   Donde $ e $ es la base del logaritmo natural.\n",
    "\n",
    "\n",
    "En este código, reemplaza `r` con el coeficiente de correlación que tienes y `n` con el número de pares de datos para obtener el intervalo de confianza."
   ]
  },
  {
   "cell_type": "code",
   "execution_count": 55,
   "metadata": {},
   "outputs": [
    {
     "name": "stdout",
     "output_type": "stream",
     "text": [
      "Intervalo de confianza al 95% para r: (0.4974210995327289, 0.9519823610817848)\n"
     ]
    }
   ],
   "source": [
    "import numpy as np\n",
    "import scipy.stats as stats\n",
    "\n",
    "def confidence_interval_r(r, n, confidence=0.95):\n",
    "    # Transformación de Fisher\n",
    "    z = 0.5 * np.log((1 + r) / (1 - r))\n",
    "    \n",
    "    # Intervalo de confianza para z\n",
    "    z_critical = stats.norm.ppf((1 + confidence) / 2)\n",
    "    se_z = 1 / np.sqrt(n - 3)\n",
    "    z_low = z - z_critical * se_z\n",
    "    z_high = z + z_critical * se_z\n",
    "    \n",
    "    # Transformación inversa de Fisher\n",
    "    r_low = (np.exp(2 * z_low) - 1) / (np.exp(2 * z_low) + 1)\n",
    "    r_high = (np.exp(2 * z_high) - 1) / (np.exp(2 * z_high) + 1)\n",
    "    \n",
    "    return r_low, r_high\n",
    "\n",
    "# Ejemplo\n",
    "r = df_corr  # Coeficiente de correlación\n",
    "n = len(df2['Venta'])   # Número de pares de datos\n",
    "ci = confidence_interval_r(r, n)\n",
    "print(f\"Intervalo de confianza al 95% para r: {ci}\")"
   ]
  },
  {
   "cell_type": "markdown",
   "metadata": {},
   "source": [
    "### c. Estime los coeﬁcientes del modelo de regresión lineal simple por MCO. \n",
    "\n",
    "*Usando la referencia del ejercicio pasado*"
   ]
  },
  {
   "cell_type": "code",
   "execution_count": 56,
   "metadata": {},
   "outputs": [
    {
     "data": {
      "text/html": [
       "<div>\n",
       "<style scoped>\n",
       "    .dataframe tbody tr th:only-of-type {\n",
       "        vertical-align: middle;\n",
       "    }\n",
       "\n",
       "    .dataframe tbody tr th {\n",
       "        vertical-align: top;\n",
       "    }\n",
       "\n",
       "    .dataframe thead th {\n",
       "        text-align: right;\n",
       "    }\n",
       "</style>\n",
       "<table border=\"1\" class=\"dataframe\">\n",
       "  <thead>\n",
       "    <tr style=\"text-align: right;\">\n",
       "      <th></th>\n",
       "      <th>Marca</th>\n",
       "      <th>Venta</th>\n",
       "      <th>Inversion</th>\n",
       "      <th>x_bar</th>\n",
       "      <th>y_bar</th>\n",
       "      <th>x-x_bar</th>\n",
       "      <th>y-y_bar</th>\n",
       "      <th>num_b1</th>\n",
       "      <th>den_b1</th>\n",
       "    </tr>\n",
       "  </thead>\n",
       "  <tbody>\n",
       "    <tr>\n",
       "      <th>0</th>\n",
       "      <td>A</td>\n",
       "      <td>2.4</td>\n",
       "      <td>6</td>\n",
       "      <td>2.391667</td>\n",
       "      <td>5.416667</td>\n",
       "      <td>0.008333</td>\n",
       "      <td>0.583333</td>\n",
       "      <td>0.004861</td>\n",
       "      <td>0.000069</td>\n",
       "    </tr>\n",
       "    <tr>\n",
       "      <th>1</th>\n",
       "      <td>B</td>\n",
       "      <td>1.6</td>\n",
       "      <td>2</td>\n",
       "      <td>2.391667</td>\n",
       "      <td>5.416667</td>\n",
       "      <td>-0.791667</td>\n",
       "      <td>-3.416667</td>\n",
       "      <td>2.704861</td>\n",
       "      <td>0.626736</td>\n",
       "    </tr>\n",
       "    <tr>\n",
       "      <th>2</th>\n",
       "      <td>C</td>\n",
       "      <td>2.3</td>\n",
       "      <td>5</td>\n",
       "      <td>2.391667</td>\n",
       "      <td>5.416667</td>\n",
       "      <td>-0.091667</td>\n",
       "      <td>-0.416667</td>\n",
       "      <td>0.038194</td>\n",
       "      <td>0.008403</td>\n",
       "    </tr>\n",
       "    <tr>\n",
       "      <th>3</th>\n",
       "      <td>D</td>\n",
       "      <td>1.5</td>\n",
       "      <td>1</td>\n",
       "      <td>2.391667</td>\n",
       "      <td>5.416667</td>\n",
       "      <td>-0.891667</td>\n",
       "      <td>-4.416667</td>\n",
       "      <td>3.938194</td>\n",
       "      <td>0.795069</td>\n",
       "    </tr>\n",
       "    <tr>\n",
       "      <th>4</th>\n",
       "      <td>E</td>\n",
       "      <td>3.2</td>\n",
       "      <td>4</td>\n",
       "      <td>2.391667</td>\n",
       "      <td>5.416667</td>\n",
       "      <td>0.808333</td>\n",
       "      <td>-1.416667</td>\n",
       "      <td>-1.145139</td>\n",
       "      <td>0.653403</td>\n",
       "    </tr>\n",
       "  </tbody>\n",
       "</table>\n",
       "</div>"
      ],
      "text/plain": [
       "  Marca  Venta  Inversion     x_bar     y_bar   x-x_bar   y-y_bar    num_b1  \\\n",
       "0     A    2.4          6  2.391667  5.416667  0.008333  0.583333  0.004861   \n",
       "1     B    1.6          2  2.391667  5.416667 -0.791667 -3.416667  2.704861   \n",
       "2     C    2.3          5  2.391667  5.416667 -0.091667 -0.416667  0.038194   \n",
       "3     D    1.5          1  2.391667  5.416667 -0.891667 -4.416667  3.938194   \n",
       "4     E    3.2          4  2.391667  5.416667  0.808333 -1.416667 -1.145139   \n",
       "\n",
       "     den_b1  \n",
       "0  0.000069  \n",
       "1  0.626736  \n",
       "2  0.008403  \n",
       "3  0.795069  \n",
       "4  0.653403  "
      ]
     },
     "execution_count": 56,
     "metadata": {},
     "output_type": "execute_result"
    }
   ],
   "source": [
    "import numpy as np\n",
    "df_cop = df2.copy()\n",
    "df_cop['x_bar'] = df_cop['Venta'].mean()\n",
    "df_cop['y_bar'] = df_cop['Inversion'].mean()\n",
    "\n",
    "df_cop['x-x_bar'] = df_cop['Venta'] - df_cop['x_bar']\n",
    "df_cop['y-y_bar'] = df_cop['Inversion'] - df_cop['y_bar']\n",
    "\n",
    "df_cop['num_b1'] = df_cop['x-x_bar'] * df_cop['y-y_bar']\n",
    "df_cop['den_b1'] = df_cop['x-x_bar'] ** 2\n",
    "\n",
    "df_cop.head(5)"
   ]
  },
  {
   "cell_type": "code",
   "execution_count": 57,
   "metadata": {},
   "outputs": [
    {
     "name": "stdout",
     "output_type": "stream",
     "text": [
      "El coeficiente b1 = slope = 3.828\n",
      "El coeficiente b0 = intercept = -3.739\n"
     ]
    }
   ],
   "source": [
    "b1 = df_cop['num_b1'].sum() / df_cop['den_b1'].sum()\n",
    "b0 = df_cop['Inversion'].mean() - b1 * df_cop['Venta'].mean()\n",
    "print(f\"El coeficiente b1 = slope = {b1:.3f}\")\n",
    "print(f\"El coeficiente b0 = intercept = {b0:.3f}\")"
   ]
  },
  {
   "cell_type": "markdown",
   "metadata": {},
   "source": [
    "### d. Utilizando un nivel de signiﬁcancia del 5%, pruebe la hipótesis estadística de que por cada 500mil pesos adicionales de inversión anual en redes sociales, se espera un incremento en las ventas anuales de shampoo mayor a 50 mil litros."
   ]
  },
  {
   "cell_type": "code",
   "execution_count": null,
   "metadata": {},
   "outputs": [],
   "source": []
  },
  {
   "cell_type": "markdown",
   "metadata": {},
   "source": [
    "## 3. El siguiente juego de datos describe la producción de esencia ﬂoral en una comunidad en Francia. La variable independiente (X ) se refiere a la cantidad de flores procesadas para extraer su esencia por cada productor. La variable dependiente (Y) es una medida del aceite extraído en onzas por la cantidad de ores (en miles de unidades) procesadas."
   ]
  },
  {
   "cell_type": "code",
   "execution_count": 58,
   "metadata": {},
   "outputs": [
    {
     "data": {
      "text/html": [
       "<div>\n",
       "<style scoped>\n",
       "    .dataframe tbody tr th:only-of-type {\n",
       "        vertical-align: middle;\n",
       "    }\n",
       "\n",
       "    .dataframe tbody tr th {\n",
       "        vertical-align: top;\n",
       "    }\n",
       "\n",
       "    .dataframe thead th {\n",
       "        text-align: right;\n",
       "    }\n",
       "</style>\n",
       "<table border=\"1\" class=\"dataframe\">\n",
       "  <thead>\n",
       "    <tr style=\"text-align: right;\">\n",
       "      <th></th>\n",
       "      <th>cons</th>\n",
       "      <th>acres</th>\n",
       "    </tr>\n",
       "  </thead>\n",
       "  <tbody>\n",
       "    <tr>\n",
       "      <th>0</th>\n",
       "      <td>1.00</td>\n",
       "      <td>1.71</td>\n",
       "    </tr>\n",
       "    <tr>\n",
       "      <th>1</th>\n",
       "      <td>1.08</td>\n",
       "      <td>1.52</td>\n",
       "    </tr>\n",
       "    <tr>\n",
       "      <th>2</th>\n",
       "      <td>1.15</td>\n",
       "      <td>1.23</td>\n",
       "    </tr>\n",
       "    <tr>\n",
       "      <th>3</th>\n",
       "      <td>1.15</td>\n",
       "      <td>3.09</td>\n",
       "    </tr>\n",
       "    <tr>\n",
       "      <th>4</th>\n",
       "      <td>1.20</td>\n",
       "      <td>2.21</td>\n",
       "    </tr>\n",
       "    <tr>\n",
       "      <th>5</th>\n",
       "      <td>1.30</td>\n",
       "      <td>2.26</td>\n",
       "    </tr>\n",
       "    <tr>\n",
       "      <th>6</th>\n",
       "      <td>1.37</td>\n",
       "      <td>2.40</td>\n",
       "    </tr>\n",
       "    <tr>\n",
       "      <th>7</th>\n",
       "      <td>1.37</td>\n",
       "      <td>2.10</td>\n",
       "    </tr>\n",
       "    <tr>\n",
       "      <th>8</th>\n",
       "      <td>1.43</td>\n",
       "      <td>1.96</td>\n",
       "    </tr>\n",
       "    <tr>\n",
       "      <th>9</th>\n",
       "      <td>1.46</td>\n",
       "      <td>2.09</td>\n",
       "    </tr>\n",
       "    <tr>\n",
       "      <th>10</th>\n",
       "      <td>1.52</td>\n",
       "      <td>2.02</td>\n",
       "    </tr>\n",
       "    <tr>\n",
       "      <th>11</th>\n",
       "      <td>1.57</td>\n",
       "      <td>1.31</td>\n",
       "    </tr>\n",
       "    <tr>\n",
       "      <th>12</th>\n",
       "      <td>1.65</td>\n",
       "      <td>2.17</td>\n",
       "    </tr>\n",
       "    <tr>\n",
       "      <th>13</th>\n",
       "      <td>1.65</td>\n",
       "      <td>2.28</td>\n",
       "    </tr>\n",
       "    <tr>\n",
       "      <th>14</th>\n",
       "      <td>1.65</td>\n",
       "      <td>2.41</td>\n",
       "    </tr>\n",
       "    <tr>\n",
       "      <th>15</th>\n",
       "      <td>1.66</td>\n",
       "      <td>2.23</td>\n",
       "    </tr>\n",
       "    <tr>\n",
       "      <th>16</th>\n",
       "      <td>1.87</td>\n",
       "      <td>3.04</td>\n",
       "    </tr>\n",
       "    <tr>\n",
       "      <th>17</th>\n",
       "      <td>2.03</td>\n",
       "      <td>2.06</td>\n",
       "    </tr>\n",
       "    <tr>\n",
       "      <th>18</th>\n",
       "      <td>2.05</td>\n",
       "      <td>2.73</td>\n",
       "    </tr>\n",
       "    <tr>\n",
       "      <th>19</th>\n",
       "      <td>2.30</td>\n",
       "      <td>2.36</td>\n",
       "    </tr>\n",
       "  </tbody>\n",
       "</table>\n",
       "</div>"
      ],
      "text/plain": [
       "    cons  acres\n",
       "0   1.00   1.71\n",
       "1   1.08   1.52\n",
       "2   1.15   1.23\n",
       "3   1.15   3.09\n",
       "4   1.20   2.21\n",
       "5   1.30   2.26\n",
       "6   1.37   2.40\n",
       "7   1.37   2.10\n",
       "8   1.43   1.96\n",
       "9   1.46   2.09\n",
       "10  1.52   2.02\n",
       "11  1.57   1.31\n",
       "12  1.65   2.17\n",
       "13  1.65   2.28\n",
       "14  1.65   2.41\n",
       "15  1.66   2.23\n",
       "16  1.87   3.04\n",
       "17  2.03   2.06\n",
       "18  2.05   2.73\n",
       "19  2.30   2.36"
      ]
     },
     "execution_count": 58,
     "metadata": {},
     "output_type": "execute_result"
    }
   ],
   "source": [
    "import pandas as pd\n",
    "data = {\n",
    "    'cons': [1,1.08,1.15,1.15,1.2,1.3,1.37,1.37,1.43,1.46,1.52,1.57,1.65,1.65,1.65,1.66,1.87,2.03,2.05,2.3],\n",
    "    'acres': [1.71,1.52,1.23,3.09,2.21,2.26,2.4,2.1,1.96,2.09,2.02,1.31,2.17,2.28,2.41,2.23,3.04,2.06,2.73,2.36]\n",
    "}\n",
    "\n",
    "df3 = pd.DataFrame(data)\n",
    "# df.set_index('Marca', inplace=True)\n",
    "\n",
    "df3"
   ]
  },
  {
   "cell_type": "markdown",
   "metadata": {},
   "source": [
    "### a. Graﬁque los datos en un diagrama de dispersión."
   ]
  },
  {
   "cell_type": "code",
   "execution_count": 59,
   "metadata": {},
   "outputs": [
    {
     "data": {
      "text/plain": [
       "<seaborn.axisgrid.JointGrid at 0x786b7baca750>"
      ]
     },
     "execution_count": 59,
     "metadata": {},
     "output_type": "execute_result"
    },
    {
     "data": {
      "image/png": "[encoded data removed]",
      "text/plain": [
       "<Figure size 600x600 with 3 Axes>"
      ]
     },
     "metadata": {},
     "output_type": "display_data"
    }
   ],
   "source": [
    "import matplotlib.pyplot as plt\n",
    "import seaborn as sns\n",
    "\n",
    "sns.jointplot(data=df3, x=\"cons\", y=\"acres\")"
   ]
  },
  {
   "cell_type": "markdown",
   "metadata": {},
   "source": [
    "### b. ¿Cree que exista una relación entre la producción de esencia y la cantidad de flores procesadas? ¿Es esta positiva o negativa?"
   ]
  },
  {
   "cell_type": "code",
   "execution_count": 60,
   "metadata": {},
   "outputs": [
    {
     "data": {
      "text/html": [
       "<div>\n",
       "<style scoped>\n",
       "    .dataframe tbody tr th:only-of-type {\n",
       "        vertical-align: middle;\n",
       "    }\n",
       "\n",
       "    .dataframe tbody tr th {\n",
       "        vertical-align: top;\n",
       "    }\n",
       "\n",
       "    .dataframe thead th {\n",
       "        text-align: right;\n",
       "    }\n",
       "</style>\n",
       "<table border=\"1\" class=\"dataframe\">\n",
       "  <thead>\n",
       "    <tr style=\"text-align: right;\">\n",
       "      <th></th>\n",
       "      <th>cons</th>\n",
       "      <th>acres</th>\n",
       "    </tr>\n",
       "  </thead>\n",
       "  <tbody>\n",
       "    <tr>\n",
       "      <th>count</th>\n",
       "      <td>20.000000</td>\n",
       "      <td>20.00000</td>\n",
       "    </tr>\n",
       "    <tr>\n",
       "      <th>mean</th>\n",
       "      <td>1.523000</td>\n",
       "      <td>2.15900</td>\n",
       "    </tr>\n",
       "    <tr>\n",
       "      <th>std</th>\n",
       "      <td>0.347155</td>\n",
       "      <td>0.48307</td>\n",
       "    </tr>\n",
       "    <tr>\n",
       "      <th>min</th>\n",
       "      <td>1.000000</td>\n",
       "      <td>1.23000</td>\n",
       "    </tr>\n",
       "    <tr>\n",
       "      <th>25%</th>\n",
       "      <td>1.275000</td>\n",
       "      <td>2.00500</td>\n",
       "    </tr>\n",
       "    <tr>\n",
       "      <th>50%</th>\n",
       "      <td>1.490000</td>\n",
       "      <td>2.19000</td>\n",
       "    </tr>\n",
       "    <tr>\n",
       "      <th>75%</th>\n",
       "      <td>1.652500</td>\n",
       "      <td>2.37000</td>\n",
       "    </tr>\n",
       "    <tr>\n",
       "      <th>max</th>\n",
       "      <td>2.300000</td>\n",
       "      <td>3.09000</td>\n",
       "    </tr>\n",
       "  </tbody>\n",
       "</table>\n",
       "</div>"
      ],
      "text/plain": [
       "            cons     acres\n",
       "count  20.000000  20.00000\n",
       "mean    1.523000   2.15900\n",
       "std     0.347155   0.48307\n",
       "min     1.000000   1.23000\n",
       "25%     1.275000   2.00500\n",
       "50%     1.490000   2.19000\n",
       "75%     1.652500   2.37000\n",
       "max     2.300000   3.09000"
      ]
     },
     "execution_count": 60,
     "metadata": {},
     "output_type": "execute_result"
    }
   ],
   "source": [
    "df3.describe()"
   ]
  },
  {
   "cell_type": "code",
   "execution_count": 61,
   "metadata": {},
   "outputs": [
    {
     "name": "stdout",
     "output_type": "stream",
     "text": [
      "El coeficiente de correlación lineal es: 0.378\n"
     ]
    }
   ],
   "source": [
    "corr_df3 = df3['cons'].corr(df3['acres'])\n",
    "print(f\"El coeficiente de correlación lineal es: {corr_df3:.3f}\")"
   ]
  },
  {
   "cell_type": "markdown",
   "metadata": {},
   "source": [
    "*Obervaciones*\n",
    "\n",
    "Dato que el coeficiente de correlación lineal es bajo, implica que si bien existe una relación esta no es muy alta. Al ser mayor que cero, implica que la correlación es positiva."
   ]
  },
  {
   "cell_type": "markdown",
   "metadata": {},
   "source": [
    "### c. Por medio del ajuste de una línea recta, verifique que:\n",
    "$bo$ = 1.38, $b1$ = 0.52, $S^2$ = 0.206"
   ]
  },
  {
   "cell_type": "code",
   "execution_count": 62,
   "metadata": {},
   "outputs": [
    {
     "data": {
      "text/html": [
       "<div>\n",
       "<style scoped>\n",
       "    .dataframe tbody tr th:only-of-type {\n",
       "        vertical-align: middle;\n",
       "    }\n",
       "\n",
       "    .dataframe tbody tr th {\n",
       "        vertical-align: top;\n",
       "    }\n",
       "\n",
       "    .dataframe thead th {\n",
       "        text-align: right;\n",
       "    }\n",
       "</style>\n",
       "<table border=\"1\" class=\"dataframe\">\n",
       "  <thead>\n",
       "    <tr style=\"text-align: right;\">\n",
       "      <th></th>\n",
       "      <th>cons</th>\n",
       "      <th>acres</th>\n",
       "      <th>x_bar</th>\n",
       "      <th>y_bar</th>\n",
       "      <th>x-x_bar</th>\n",
       "      <th>y-y_bar</th>\n",
       "      <th>num_b1</th>\n",
       "      <th>den_b1</th>\n",
       "    </tr>\n",
       "  </thead>\n",
       "  <tbody>\n",
       "    <tr>\n",
       "      <th>0</th>\n",
       "      <td>1.00</td>\n",
       "      <td>1.71</td>\n",
       "      <td>1.523</td>\n",
       "      <td>2.159</td>\n",
       "      <td>-0.523</td>\n",
       "      <td>-0.449</td>\n",
       "      <td>0.234827</td>\n",
       "      <td>0.273529</td>\n",
       "    </tr>\n",
       "    <tr>\n",
       "      <th>1</th>\n",
       "      <td>1.08</td>\n",
       "      <td>1.52</td>\n",
       "      <td>1.523</td>\n",
       "      <td>2.159</td>\n",
       "      <td>-0.443</td>\n",
       "      <td>-0.639</td>\n",
       "      <td>0.283077</td>\n",
       "      <td>0.196249</td>\n",
       "    </tr>\n",
       "    <tr>\n",
       "      <th>2</th>\n",
       "      <td>1.15</td>\n",
       "      <td>1.23</td>\n",
       "      <td>1.523</td>\n",
       "      <td>2.159</td>\n",
       "      <td>-0.373</td>\n",
       "      <td>-0.929</td>\n",
       "      <td>0.346517</td>\n",
       "      <td>0.139129</td>\n",
       "    </tr>\n",
       "    <tr>\n",
       "      <th>3</th>\n",
       "      <td>1.15</td>\n",
       "      <td>3.09</td>\n",
       "      <td>1.523</td>\n",
       "      <td>2.159</td>\n",
       "      <td>-0.373</td>\n",
       "      <td>0.931</td>\n",
       "      <td>-0.347263</td>\n",
       "      <td>0.139129</td>\n",
       "    </tr>\n",
       "    <tr>\n",
       "      <th>4</th>\n",
       "      <td>1.20</td>\n",
       "      <td>2.21</td>\n",
       "      <td>1.523</td>\n",
       "      <td>2.159</td>\n",
       "      <td>-0.323</td>\n",
       "      <td>0.051</td>\n",
       "      <td>-0.016473</td>\n",
       "      <td>0.104329</td>\n",
       "    </tr>\n",
       "  </tbody>\n",
       "</table>\n",
       "</div>"
      ],
      "text/plain": [
       "   cons  acres  x_bar  y_bar  x-x_bar  y-y_bar    num_b1    den_b1\n",
       "0  1.00   1.71  1.523  2.159   -0.523   -0.449  0.234827  0.273529\n",
       "1  1.08   1.52  1.523  2.159   -0.443   -0.639  0.283077  0.196249\n",
       "2  1.15   1.23  1.523  2.159   -0.373   -0.929  0.346517  0.139129\n",
       "3  1.15   3.09  1.523  2.159   -0.373    0.931 -0.347263  0.139129\n",
       "4  1.20   2.21  1.523  2.159   -0.323    0.051 -0.016473  0.104329"
      ]
     },
     "execution_count": 62,
     "metadata": {},
     "output_type": "execute_result"
    }
   ],
   "source": [
    "import numpy as np\n",
    "df_cop = df3.copy()\n",
    "df_cop['x_bar'] = df_cop['cons'].mean()\n",
    "df_cop['y_bar'] = df_cop['acres'].mean()\n",
    "\n",
    "df_cop['x-x_bar'] = df_cop['cons'] - df_cop['x_bar']\n",
    "df_cop['y-y_bar'] = df_cop['acres'] - df_cop['y_bar']\n",
    "\n",
    "df_cop['num_b1'] = df_cop['x-x_bar'] * df_cop['y-y_bar']\n",
    "df_cop['den_b1'] = df_cop['x-x_bar'] ** 2\n",
    "\n",
    "df_cop.head(5)"
   ]
  },
  {
   "cell_type": "code",
   "execution_count": 63,
   "metadata": {},
   "outputs": [
    {
     "name": "stdout",
     "output_type": "stream",
     "text": [
      "El coeficiente b1 = slope = 0.526\n",
      "El coeficiente b0 = intercept = 1.358\n"
     ]
    }
   ],
   "source": [
    "b1 = df_cop['num_b1'].sum() / df_cop['den_b1'].sum()\n",
    "b0 = df_cop['acres'].mean() - b1 * df_cop['cons'].mean()\n",
    "print(f\"El coeficiente b1 = slope = {b1:.3f}\")\n",
    "print(f\"El coeficiente b0 = intercept = {b0:.3f}\")"
   ]
  },
  {
   "cell_type": "code",
   "execution_count": 64,
   "metadata": {},
   "outputs": [
    {
     "data": {
      "text/html": [
       "<div>\n",
       "<style scoped>\n",
       "    .dataframe tbody tr th:only-of-type {\n",
       "        vertical-align: middle;\n",
       "    }\n",
       "\n",
       "    .dataframe tbody tr th {\n",
       "        vertical-align: top;\n",
       "    }\n",
       "\n",
       "    .dataframe thead th {\n",
       "        text-align: right;\n",
       "    }\n",
       "</style>\n",
       "<table border=\"1\" class=\"dataframe\">\n",
       "  <thead>\n",
       "    <tr style=\"text-align: right;\">\n",
       "      <th></th>\n",
       "      <th>cons</th>\n",
       "      <th>acres</th>\n",
       "      <th>y_hat</th>\n",
       "      <th>err_hat</th>\n",
       "      <th>err_bar</th>\n",
       "    </tr>\n",
       "  </thead>\n",
       "  <tbody>\n",
       "    <tr>\n",
       "      <th>0</th>\n",
       "      <td>1.00</td>\n",
       "      <td>1.71</td>\n",
       "      <td>1.883853</td>\n",
       "      <td>-0.173853</td>\n",
       "      <td>-0.449</td>\n",
       "    </tr>\n",
       "    <tr>\n",
       "      <th>1</th>\n",
       "      <td>1.08</td>\n",
       "      <td>1.52</td>\n",
       "      <td>1.925940</td>\n",
       "      <td>-0.405940</td>\n",
       "      <td>-0.639</td>\n",
       "    </tr>\n",
       "    <tr>\n",
       "      <th>2</th>\n",
       "      <td>1.15</td>\n",
       "      <td>1.23</td>\n",
       "      <td>1.962767</td>\n",
       "      <td>-0.732767</td>\n",
       "      <td>-0.929</td>\n",
       "    </tr>\n",
       "    <tr>\n",
       "      <th>3</th>\n",
       "      <td>1.15</td>\n",
       "      <td>3.09</td>\n",
       "      <td>1.962767</td>\n",
       "      <td>1.127233</td>\n",
       "      <td>0.931</td>\n",
       "    </tr>\n",
       "    <tr>\n",
       "      <th>4</th>\n",
       "      <td>1.20</td>\n",
       "      <td>2.21</td>\n",
       "      <td>1.989072</td>\n",
       "      <td>0.220928</td>\n",
       "      <td>0.051</td>\n",
       "    </tr>\n",
       "  </tbody>\n",
       "</table>\n",
       "</div>"
      ],
      "text/plain": [
       "   cons  acres     y_hat   err_hat  err_bar\n",
       "0  1.00   1.71  1.883853 -0.173853   -0.449\n",
       "1  1.08   1.52  1.925940 -0.405940   -0.639\n",
       "2  1.15   1.23  1.962767 -0.732767   -0.929\n",
       "3  1.15   3.09  1.962767  1.127233    0.931\n",
       "4  1.20   2.21  1.989072  0.220928    0.051"
      ]
     },
     "execution_count": 64,
     "metadata": {},
     "output_type": "execute_result"
    }
   ],
   "source": [
    "df_res = df3.copy()\n",
    "df_res['y_hat'] = df_res.apply(lambda row: y_hat(row['cons'], slope=b1, intercept=b0), axis=1)\n",
    "df_res['err_hat'] = df_res['acres'] - df_res['y_hat']\n",
    "df_res['err_bar'] = df_res['acres'] - df_res['acres'].mean()\n",
    "df_res.head(5)"
   ]
  },
  {
   "cell_type": "code",
   "execution_count": 65,
   "metadata": {},
   "outputs": [
    {
     "name": "stdout",
     "output_type": "stream",
     "text": [
      "El valor de r^2 o S^2 es: 0.371\n"
     ]
    }
   ],
   "source": [
    "r2 = np.sqrt(1- (df_res['err_hat'].sum() ** 2)/(df_res['err_bar'].sum() ** 2))\n",
    "print(f\"El valor de r^2 o S^2 es: {r2:.3f}\")"
   ]
  },
  {
   "cell_type": "markdown",
   "metadata": {},
   "source": [
    "Validando con librería"
   ]
  },
  {
   "cell_type": "code",
   "execution_count": 66,
   "metadata": {},
   "outputs": [
    {
     "name": "stdout",
     "output_type": "stream",
     "text": [
      "Slope = 0.526\n",
      "Intercept = 1.358\n",
      "Std_err = 0.304\n"
     ]
    }
   ],
   "source": [
    "from scipy import stats\n",
    "slope, intercept, r, p, std_err = stats.linregress(df3['cons'], df3['acres'])\n",
    "print(f\"Slope = {slope:.3f}\")\n",
    "print(f\"Intercept = {intercept:.3f}\")\n",
    "print(f\"Std_err = {std_err:.3f}\")"
   ]
  },
  {
   "cell_type": "code",
   "execution_count": null,
   "metadata": {},
   "outputs": [],
   "source": []
  },
  {
   "cell_type": "markdown",
   "metadata": {},
   "source": [
    "### d. Construya la tabla de análisis de varianza (anova) y realice la prueba de significancia para la regresión. ¿Es esta significativa o no?"
   ]
  },
  {
   "cell_type": "code",
   "execution_count": 67,
   "metadata": {},
   "outputs": [
    {
     "name": "stdout",
     "output_type": "stream",
     "text": [
      "stat=0.000, p=1.000\n",
      "Probably the same distribution\n"
     ]
    }
   ],
   "source": [
    "from scipy.stats import f_oneway\n",
    "stat, p = f_oneway(df_res['acres'], df_res['y_hat'])\n",
    "print('stat=%.3f, p=%.3f' % (stat, p))\n",
    "if p > 0.05:\n",
    " print('Probably the same distribution')\n",
    "else:\n",
    " print('Probably different distributions')"
   ]
  },
  {
   "cell_type": "markdown",
   "metadata": {},
   "source": [
    "### e. Encuentre el error estándar de la pendiente y un intervalo de conﬁanza al 95%."
   ]
  },
  {
   "cell_type": "markdown",
   "metadata": {},
   "source": [
    "### f. ¿Qué porcentaje de la variabilidad total de la respuesta es explicado por el modelo? (Sugerencia: Recordar bondad de ajuste)."
   ]
  },
  {
   "cell_type": "markdown",
   "metadata": {},
   "source": [
    "### g. Determine un intervalo de conﬁanza para la respuesta media al 95% cuando el número de ﬂores procesadas ﬂores es igual a 1.25."
   ]
  },
  {
   "cell_type": "markdown",
   "metadata": {},
   "source": [
    "### h. Determine un intervalo de predicción cuando el número de flores procesadas ﬂores es igual a 1.95."
   ]
  },
  {
   "cell_type": "markdown",
   "metadata": {},
   "source": [
    "## 4. Considere el ejemplo de servicio de TV por cable descritos en la Tabla 2.\n",
    "\n",
    "*Encuesta de televisión por cable* (Aguirre et al. (2006)):\n",
    "\n",
    "Una empresa de televisión por cable encargó a un bufete un estudio de mercado para conocer el perfil de los clientes potenciales de una zona residencial formada por dos colonias. Las colonias constan de 12 y 25 manzanas con un total de 236 y 605 hogares, respectivamente. Mediante muestreo probabilístico (no discutido aquí) se seleccion ó una muestra de ocho manzanas y cinco hogares por manzana. En cada hogar seleccionado se recabaron varias respuestas de las que presentamos solamente algunas de éstas.\n",
    "\n",
    "*Tabla 2: Encuesta de televisión por cable*\n",
    "\n",
    "| **Variable** | **Descripción** |\n",
    "|--------------|-----------------|\n",
    "| **1. Colonia** | Colonia a la que pertenece el hogar de la zona residencial |\n",
    "| **2. Manzana** | Número de manzana a la que pertenece el hogar |\n",
    "| **3. Adultos** | Número de adultos por hogar |\n",
    "| **4. Niños** | Número de niños menores de 12 años por hogar |\n",
    "| **5. Teles** | Número de televisores por hogar |\n",
    "| **6. Tipo** | Tipo de televisor que posee: blanco y negro (B), color (C), ambos (A) |\n",
    "| **7. Tvtot** | Suma del número de horas frente al televisor en la semana de todos los miembros de la familia |\n",
    "| **8. Renta** | Cantidad máxima de renta que el jefe del hogar estaría dispuesto a pagar al mes por servicio de TV por cable (múltiplos de $5) |\n",
    "| **9. Valor** | Valor catastral del hogar (m$). La respuesta se usa para dar idea aproximada del ingreso familiar |\n"
   ]
  },
  {
   "cell_type": "code",
   "execution_count": 68,
   "metadata": {},
   "outputs": [
    {
     "data": {
      "text/html": [
       "<div>\n",
       "<style scoped>\n",
       "    .dataframe tbody tr th:only-of-type {\n",
       "        vertical-align: middle;\n",
       "    }\n",
       "\n",
       "    .dataframe tbody tr th {\n",
       "        vertical-align: top;\n",
       "    }\n",
       "\n",
       "    .dataframe thead th {\n",
       "        text-align: right;\n",
       "    }\n",
       "</style>\n",
       "<table border=\"1\" class=\"dataframe\">\n",
       "  <thead>\n",
       "    <tr style=\"text-align: right;\">\n",
       "      <th></th>\n",
       "      <th>colonia</th>\n",
       "      <th>manzana</th>\n",
       "      <th>adultos</th>\n",
       "      <th>ninos</th>\n",
       "      <th>teles</th>\n",
       "      <th>renta</th>\n",
       "      <th>tvtot</th>\n",
       "      <th>tipo</th>\n",
       "      <th>valor</th>\n",
       "    </tr>\n",
       "    <tr>\n",
       "      <th>obs</th>\n",
       "      <th></th>\n",
       "      <th></th>\n",
       "      <th></th>\n",
       "      <th></th>\n",
       "      <th></th>\n",
       "      <th></th>\n",
       "      <th></th>\n",
       "      <th></th>\n",
       "      <th></th>\n",
       "    </tr>\n",
       "  </thead>\n",
       "  <tbody>\n",
       "    <tr>\n",
       "      <th>1</th>\n",
       "      <td>2</td>\n",
       "      <td>20</td>\n",
       "      <td>3</td>\n",
       "      <td>2</td>\n",
       "      <td>2</td>\n",
       "      <td>50</td>\n",
       "      <td>68</td>\n",
       "      <td>B</td>\n",
       "      <td>79928</td>\n",
       "    </tr>\n",
       "    <tr>\n",
       "      <th>2</th>\n",
       "      <td>2</td>\n",
       "      <td>25</td>\n",
       "      <td>3</td>\n",
       "      <td>3</td>\n",
       "      <td>1</td>\n",
       "      <td>65</td>\n",
       "      <td>82</td>\n",
       "      <td>B</td>\n",
       "      <td>94415</td>\n",
       "    </tr>\n",
       "    <tr>\n",
       "      <th>3</th>\n",
       "      <td>2</td>\n",
       "      <td>20</td>\n",
       "      <td>1</td>\n",
       "      <td>2</td>\n",
       "      <td>1</td>\n",
       "      <td>45</td>\n",
       "      <td>40</td>\n",
       "      <td>A</td>\n",
       "      <td>120896</td>\n",
       "    </tr>\n",
       "    <tr>\n",
       "      <th>4</th>\n",
       "      <td>2</td>\n",
       "      <td>8</td>\n",
       "      <td>2</td>\n",
       "      <td>2</td>\n",
       "      <td>2</td>\n",
       "      <td>35</td>\n",
       "      <td>56</td>\n",
       "      <td>A</td>\n",
       "      <td>132867</td>\n",
       "    </tr>\n",
       "    <tr>\n",
       "      <th>5</th>\n",
       "      <td>2</td>\n",
       "      <td>25</td>\n",
       "      <td>1</td>\n",
       "      <td>2</td>\n",
       "      <td>0</td>\n",
       "      <td>0</td>\n",
       "      <td>0</td>\n",
       "      <td>N</td>\n",
       "      <td>141901</td>\n",
       "    </tr>\n",
       "    <tr>\n",
       "      <th>6</th>\n",
       "      <td>2</td>\n",
       "      <td>14</td>\n",
       "      <td>1</td>\n",
       "      <td>2</td>\n",
       "      <td>0</td>\n",
       "      <td>0</td>\n",
       "      <td>0</td>\n",
       "      <td>N</td>\n",
       "      <td>147997</td>\n",
       "    </tr>\n",
       "    <tr>\n",
       "      <th>7</th>\n",
       "      <td>2</td>\n",
       "      <td>22</td>\n",
       "      <td>2</td>\n",
       "      <td>1</td>\n",
       "      <td>1</td>\n",
       "      <td>65</td>\n",
       "      <td>30</td>\n",
       "      <td>A</td>\n",
       "      <td>156410</td>\n",
       "    </tr>\n",
       "    <tr>\n",
       "      <th>8</th>\n",
       "      <td>2</td>\n",
       "      <td>20</td>\n",
       "      <td>3</td>\n",
       "      <td>1</td>\n",
       "      <td>3</td>\n",
       "      <td>45</td>\n",
       "      <td>62</td>\n",
       "      <td>C</td>\n",
       "      <td>156841</td>\n",
       "    </tr>\n",
       "    <tr>\n",
       "      <th>9</th>\n",
       "      <td>2</td>\n",
       "      <td>25</td>\n",
       "      <td>3</td>\n",
       "      <td>3</td>\n",
       "      <td>2</td>\n",
       "      <td>70</td>\n",
       "      <td>82</td>\n",
       "      <td>A</td>\n",
       "      <td>157041</td>\n",
       "    </tr>\n",
       "    <tr>\n",
       "      <th>10</th>\n",
       "      <td>2</td>\n",
       "      <td>20</td>\n",
       "      <td>2</td>\n",
       "      <td>2</td>\n",
       "      <td>3</td>\n",
       "      <td>45</td>\n",
       "      <td>60</td>\n",
       "      <td>C</td>\n",
       "      <td>161222</td>\n",
       "    </tr>\n",
       "    <tr>\n",
       "      <th>11</th>\n",
       "      <td>2</td>\n",
       "      <td>8</td>\n",
       "      <td>3</td>\n",
       "      <td>2</td>\n",
       "      <td>1</td>\n",
       "      <td>70</td>\n",
       "      <td>84</td>\n",
       "      <td>A</td>\n",
       "      <td>162509</td>\n",
       "    </tr>\n",
       "    <tr>\n",
       "      <th>12</th>\n",
       "      <td>2</td>\n",
       "      <td>8</td>\n",
       "      <td>2</td>\n",
       "      <td>1</td>\n",
       "      <td>3</td>\n",
       "      <td>45</td>\n",
       "      <td>34</td>\n",
       "      <td>A</td>\n",
       "      <td>180124</td>\n",
       "    </tr>\n",
       "    <tr>\n",
       "      <th>13</th>\n",
       "      <td>2</td>\n",
       "      <td>14</td>\n",
       "      <td>2</td>\n",
       "      <td>1</td>\n",
       "      <td>1</td>\n",
       "      <td>55</td>\n",
       "      <td>38</td>\n",
       "      <td>C</td>\n",
       "      <td>180437</td>\n",
       "    </tr>\n",
       "    <tr>\n",
       "      <th>14</th>\n",
       "      <td>2</td>\n",
       "      <td>8</td>\n",
       "      <td>2</td>\n",
       "      <td>1</td>\n",
       "      <td>2</td>\n",
       "      <td>45</td>\n",
       "      <td>42</td>\n",
       "      <td>A</td>\n",
       "      <td>190314</td>\n",
       "    </tr>\n",
       "    <tr>\n",
       "      <th>15</th>\n",
       "      <td>2</td>\n",
       "      <td>14</td>\n",
       "      <td>2</td>\n",
       "      <td>3</td>\n",
       "      <td>1</td>\n",
       "      <td>55</td>\n",
       "      <td>86</td>\n",
       "      <td>A</td>\n",
       "      <td>192265</td>\n",
       "    </tr>\n",
       "    <tr>\n",
       "      <th>16</th>\n",
       "      <td>2</td>\n",
       "      <td>25</td>\n",
       "      <td>1</td>\n",
       "      <td>2</td>\n",
       "      <td>3</td>\n",
       "      <td>70</td>\n",
       "      <td>40</td>\n",
       "      <td>B</td>\n",
       "      <td>192816</td>\n",
       "    </tr>\n",
       "    <tr>\n",
       "      <th>17</th>\n",
       "      <td>2</td>\n",
       "      <td>14</td>\n",
       "      <td>4</td>\n",
       "      <td>2</td>\n",
       "      <td>4</td>\n",
       "      <td>75</td>\n",
       "      <td>84</td>\n",
       "      <td>C</td>\n",
       "      <td>193279</td>\n",
       "    </tr>\n",
       "    <tr>\n",
       "      <th>18</th>\n",
       "      <td>2</td>\n",
       "      <td>20</td>\n",
       "      <td>4</td>\n",
       "      <td>3</td>\n",
       "      <td>3</td>\n",
       "      <td>55</td>\n",
       "      <td>14</td>\n",
       "      <td>C</td>\n",
       "      <td>205656</td>\n",
       "    </tr>\n",
       "    <tr>\n",
       "      <th>19</th>\n",
       "      <td>1</td>\n",
       "      <td>2</td>\n",
       "      <td>3</td>\n",
       "      <td>1</td>\n",
       "      <td>3</td>\n",
       "      <td>50</td>\n",
       "      <td>31</td>\n",
       "      <td>C</td>\n",
       "      <td>216190</td>\n",
       "    </tr>\n",
       "    <tr>\n",
       "      <th>20</th>\n",
       "      <td>2</td>\n",
       "      <td>22</td>\n",
       "      <td>1</td>\n",
       "      <td>1</td>\n",
       "      <td>3</td>\n",
       "      <td>65</td>\n",
       "      <td>42</td>\n",
       "      <td>C</td>\n",
       "      <td>216321</td>\n",
       "    </tr>\n",
       "    <tr>\n",
       "      <th>21</th>\n",
       "      <td>2</td>\n",
       "      <td>22</td>\n",
       "      <td>4</td>\n",
       "      <td>2</td>\n",
       "      <td>2</td>\n",
       "      <td>75</td>\n",
       "      <td>76</td>\n",
       "      <td>C</td>\n",
       "      <td>216465</td>\n",
       "    </tr>\n",
       "    <tr>\n",
       "      <th>22</th>\n",
       "      <td>2</td>\n",
       "      <td>22</td>\n",
       "      <td>2</td>\n",
       "      <td>3</td>\n",
       "      <td>2</td>\n",
       "      <td>40</td>\n",
       "      <td>74</td>\n",
       "      <td>C</td>\n",
       "      <td>225694</td>\n",
       "    </tr>\n",
       "    <tr>\n",
       "      <th>23</th>\n",
       "      <td>1</td>\n",
       "      <td>4</td>\n",
       "      <td>3</td>\n",
       "      <td>1</td>\n",
       "      <td>3</td>\n",
       "      <td>60</td>\n",
       "      <td>35</td>\n",
       "      <td>C</td>\n",
       "      <td>237752</td>\n",
       "    </tr>\n",
       "    <tr>\n",
       "      <th>24</th>\n",
       "      <td>2</td>\n",
       "      <td>25</td>\n",
       "      <td>1</td>\n",
       "      <td>1</td>\n",
       "      <td>1</td>\n",
       "      <td>55</td>\n",
       "      <td>22</td>\n",
       "      <td>C</td>\n",
       "      <td>241531</td>\n",
       "    </tr>\n",
       "    <tr>\n",
       "      <th>25</th>\n",
       "      <td>2</td>\n",
       "      <td>8</td>\n",
       "      <td>1</td>\n",
       "      <td>3</td>\n",
       "      <td>2</td>\n",
       "      <td>75</td>\n",
       "      <td>54</td>\n",
       "      <td>C</td>\n",
       "      <td>249098</td>\n",
       "    </tr>\n",
       "    <tr>\n",
       "      <th>26</th>\n",
       "      <td>1</td>\n",
       "      <td>9</td>\n",
       "      <td>2</td>\n",
       "      <td>1</td>\n",
       "      <td>3</td>\n",
       "      <td>65</td>\n",
       "      <td>27</td>\n",
       "      <td>C</td>\n",
       "      <td>252221</td>\n",
       "    </tr>\n",
       "    <tr>\n",
       "      <th>27</th>\n",
       "      <td>1</td>\n",
       "      <td>9</td>\n",
       "      <td>3</td>\n",
       "      <td>1</td>\n",
       "      <td>4</td>\n",
       "      <td>65</td>\n",
       "      <td>35</td>\n",
       "      <td>C</td>\n",
       "      <td>261763</td>\n",
       "    </tr>\n",
       "    <tr>\n",
       "      <th>28</th>\n",
       "      <td>2</td>\n",
       "      <td>14</td>\n",
       "      <td>2</td>\n",
       "      <td>2</td>\n",
       "      <td>1</td>\n",
       "      <td>65</td>\n",
       "      <td>52</td>\n",
       "      <td>C</td>\n",
       "      <td>269898</td>\n",
       "    </tr>\n",
       "    <tr>\n",
       "      <th>29</th>\n",
       "      <td>2</td>\n",
       "      <td>22</td>\n",
       "      <td>2</td>\n",
       "      <td>3</td>\n",
       "      <td>4</td>\n",
       "      <td>60</td>\n",
       "      <td>70</td>\n",
       "      <td>C</td>\n",
       "      <td>271556</td>\n",
       "    </tr>\n",
       "    <tr>\n",
       "      <th>30</th>\n",
       "      <td>1</td>\n",
       "      <td>2</td>\n",
       "      <td>3</td>\n",
       "      <td>3</td>\n",
       "      <td>3</td>\n",
       "      <td>65</td>\n",
       "      <td>69</td>\n",
       "      <td>C</td>\n",
       "      <td>279163</td>\n",
       "    </tr>\n",
       "    <tr>\n",
       "      <th>31</th>\n",
       "      <td>1</td>\n",
       "      <td>4</td>\n",
       "      <td>3</td>\n",
       "      <td>2</td>\n",
       "      <td>3</td>\n",
       "      <td>60</td>\n",
       "      <td>54</td>\n",
       "      <td>C</td>\n",
       "      <td>299558</td>\n",
       "    </tr>\n",
       "    <tr>\n",
       "      <th>32</th>\n",
       "      <td>1</td>\n",
       "      <td>9</td>\n",
       "      <td>4</td>\n",
       "      <td>0</td>\n",
       "      <td>4</td>\n",
       "      <td>70</td>\n",
       "      <td>32</td>\n",
       "      <td>B</td>\n",
       "      <td>311195</td>\n",
       "    </tr>\n",
       "    <tr>\n",
       "      <th>33</th>\n",
       "      <td>1</td>\n",
       "      <td>4</td>\n",
       "      <td>2</td>\n",
       "      <td>0</td>\n",
       "      <td>4</td>\n",
       "      <td>75</td>\n",
       "      <td>16</td>\n",
       "      <td>C</td>\n",
       "      <td>318551</td>\n",
       "    </tr>\n",
       "    <tr>\n",
       "      <th>34</th>\n",
       "      <td>1</td>\n",
       "      <td>2</td>\n",
       "      <td>3</td>\n",
       "      <td>0</td>\n",
       "      <td>4</td>\n",
       "      <td>70</td>\n",
       "      <td>24</td>\n",
       "      <td>A</td>\n",
       "      <td>322652</td>\n",
       "    </tr>\n",
       "    <tr>\n",
       "      <th>35</th>\n",
       "      <td>1</td>\n",
       "      <td>4</td>\n",
       "      <td>2</td>\n",
       "      <td>0</td>\n",
       "      <td>2</td>\n",
       "      <td>60</td>\n",
       "      <td>20</td>\n",
       "      <td>C</td>\n",
       "      <td>329198</td>\n",
       "    </tr>\n",
       "    <tr>\n",
       "      <th>36</th>\n",
       "      <td>1</td>\n",
       "      <td>2</td>\n",
       "      <td>2</td>\n",
       "      <td>0</td>\n",
       "      <td>2</td>\n",
       "      <td>60</td>\n",
       "      <td>20</td>\n",
       "      <td>A</td>\n",
       "      <td>332699</td>\n",
       "    </tr>\n",
       "    <tr>\n",
       "      <th>37</th>\n",
       "      <td>1</td>\n",
       "      <td>2</td>\n",
       "      <td>3</td>\n",
       "      <td>0</td>\n",
       "      <td>3</td>\n",
       "      <td>70</td>\n",
       "      <td>28</td>\n",
       "      <td>C</td>\n",
       "      <td>336290</td>\n",
       "    </tr>\n",
       "    <tr>\n",
       "      <th>38</th>\n",
       "      <td>1</td>\n",
       "      <td>9</td>\n",
       "      <td>3</td>\n",
       "      <td>0</td>\n",
       "      <td>5</td>\n",
       "      <td>85</td>\n",
       "      <td>28</td>\n",
       "      <td>C</td>\n",
       "      <td>355641</td>\n",
       "    </tr>\n",
       "    <tr>\n",
       "      <th>39</th>\n",
       "      <td>1</td>\n",
       "      <td>9</td>\n",
       "      <td>2</td>\n",
       "      <td>0</td>\n",
       "      <td>3</td>\n",
       "      <td>70</td>\n",
       "      <td>20</td>\n",
       "      <td>C</td>\n",
       "      <td>357972</td>\n",
       "    </tr>\n",
       "    <tr>\n",
       "      <th>40</th>\n",
       "      <td>1</td>\n",
       "      <td>4</td>\n",
       "      <td>3</td>\n",
       "      <td>0</td>\n",
       "      <td>4</td>\n",
       "      <td>80</td>\n",
       "      <td>28</td>\n",
       "      <td>C</td>\n",
       "      <td>370325</td>\n",
       "    </tr>\n",
       "  </tbody>\n",
       "</table>\n",
       "</div>"
      ],
      "text/plain": [
       "     colonia  manzana  adultos  ninos  teles  renta  tvtot tipo   valor\n",
       "obs                                                                    \n",
       "1          2       20        3      2      2     50     68    B   79928\n",
       "2          2       25        3      3      1     65     82    B   94415\n",
       "3          2       20        1      2      1     45     40    A  120896\n",
       "4          2        8        2      2      2     35     56    A  132867\n",
       "5          2       25        1      2      0      0      0    N  141901\n",
       "6          2       14        1      2      0      0      0    N  147997\n",
       "7          2       22        2      1      1     65     30    A  156410\n",
       "8          2       20        3      1      3     45     62    C  156841\n",
       "9          2       25        3      3      2     70     82    A  157041\n",
       "10         2       20        2      2      3     45     60    C  161222\n",
       "11         2        8        3      2      1     70     84    A  162509\n",
       "12         2        8        2      1      3     45     34    A  180124\n",
       "13         2       14        2      1      1     55     38    C  180437\n",
       "14         2        8        2      1      2     45     42    A  190314\n",
       "15         2       14        2      3      1     55     86    A  192265\n",
       "16         2       25        1      2      3     70     40    B  192816\n",
       "17         2       14        4      2      4     75     84    C  193279\n",
       "18         2       20        4      3      3     55     14    C  205656\n",
       "19         1        2        3      1      3     50     31    C  216190\n",
       "20         2       22        1      1      3     65     42    C  216321\n",
       "21         2       22        4      2      2     75     76    C  216465\n",
       "22         2       22        2      3      2     40     74    C  225694\n",
       "23         1        4        3      1      3     60     35    C  237752\n",
       "24         2       25        1      1      1     55     22    C  241531\n",
       "25         2        8        1      3      2     75     54    C  249098\n",
       "26         1        9        2      1      3     65     27    C  252221\n",
       "27         1        9        3      1      4     65     35    C  261763\n",
       "28         2       14        2      2      1     65     52    C  269898\n",
       "29         2       22        2      3      4     60     70    C  271556\n",
       "30         1        2        3      3      3     65     69    C  279163\n",
       "31         1        4        3      2      3     60     54    C  299558\n",
       "32         1        9        4      0      4     70     32    B  311195\n",
       "33         1        4        2      0      4     75     16    C  318551\n",
       "34         1        2        3      0      4     70     24    A  322652\n",
       "35         1        4        2      0      2     60     20    C  329198\n",
       "36         1        2        2      0      2     60     20    A  332699\n",
       "37         1        2        3      0      3     70     28    C  336290\n",
       "38         1        9        3      0      5     85     28    C  355641\n",
       "39         1        9        2      0      3     70     20    C  357972\n",
       "40         1        4        3      0      4     80     28    C  370325"
      ]
     },
     "execution_count": 68,
     "metadata": {},
     "output_type": "execute_result"
    }
   ],
   "source": [
    "import pandas as pd\n",
    "import fs\n",
    "\n",
    "MAIN_DIR = fs.open_fs(\"../../data/raw/HW01\")\n",
    "XLSX_DIR = MAIN_DIR.getsyspath(\"cableTV.xlsx\")\n",
    "\n",
    "df4 = pd.read_excel(XLSX_DIR, index_col=0)\n",
    "df4"
   ]
  },
  {
   "cell_type": "markdown",
   "metadata": {},
   "source": [
    "### a. Ajuste por mínimos cuadrados un modelo de regresión lineal simple para la respuesta renta, con el valor catastral (en miles de pesos) como variable independiente. Calcule los coeficientes y el error estándar de la regresión, y grafique los residuales contra el regresor xi (gráfica de dispersión)."
   ]
  },
  {
   "cell_type": "code",
   "execution_count": 69,
   "metadata": {},
   "outputs": [
    {
     "data": {
      "image/png": "[encoded data removed]",
      "text/plain": [
       "<Figure size 600x600 with 3 Axes>"
      ]
     },
     "metadata": {},
     "output_type": "display_data"
    }
   ],
   "source": [
    "import matplotlib.pyplot as plt\n",
    "import seaborn as sns\n",
    "\n",
    "sns.jointplot(data=df4, x='valor', y='renta')\n",
    "plt.show()"
   ]
  },
  {
   "cell_type": "markdown",
   "metadata": {},
   "source": [
    "Usando las librerías de python"
   ]
  },
  {
   "cell_type": "code",
   "execution_count": 70,
   "metadata": {},
   "outputs": [
    {
     "name": "stdout",
     "output_type": "stream",
     "text": [
      "Slope = 2315.210\n",
      "Intercept = 93105.302\n",
      "Std_err = 596.896\n",
      "r^2 = 0.284\n"
     ]
    }
   ],
   "source": [
    "from scipy import stats\n",
    "slope, intercept, r, p, std_err = stats.linregress(df4['renta'], df4['valor'])\n",
    "print(f\"Slope = {slope:.3f}\")\n",
    "print(f\"Intercept = {intercept:.3f}\")\n",
    "print(f\"Std_err = {std_err:.3f}\")\n",
    "print(f\"r^2 = {r**2:.3f}\")"
   ]
  },
  {
   "cell_type": "code",
   "execution_count": 71,
   "metadata": {},
   "outputs": [
    {
     "data": {
      "text/plain": [
       "<Axes: xlabel='renta', ylabel='valor'>"
      ]
     },
     "execution_count": 71,
     "metadata": {},
     "output_type": "execute_result"
    },
    {
     "data": {
      "image/png": "[encoded data removed]",
      "text/plain": [
       "<Figure size 640x480 with 1 Axes>"
      ]
     },
     "metadata": {},
     "output_type": "display_data"
    }
   ],
   "source": [
    "sns.residplot(data=df4, x=\"renta\", y=\"valor\")"
   ]
  },
  {
   "cell_type": "markdown",
   "metadata": {},
   "source": [
    "### b. ¿Cuál es la signiﬁcancia de la regresión? (Valor-p del estadístico F.)"
   ]
  },
  {
   "cell_type": "code",
   "execution_count": 72,
   "metadata": {},
   "outputs": [
    {
     "name": "stdout",
     "output_type": "stream",
     "text": [
      "p = 0.000\n"
     ]
    }
   ],
   "source": [
    "print(f\"p = {p:.3f}\")"
   ]
  },
  {
   "cell_type": "markdown",
   "metadata": {},
   "source": [
    "### c. Repita los incisos anteriores pero sin considerar los 2 casos donde y = 0. ¿Consideraría los nuevos coeﬁcientes estadíticamente iguales a los anteriores? Comente."
   ]
  },
  {
   "cell_type": "markdown",
   "metadata": {},
   "source": [
    "### d. Compare los coeﬁcientes de determinaci ́on R2 en ambos casos. Comente."
   ]
  },
  {
   "cell_type": "markdown",
   "metadata": {},
   "source": [
    "## 5. Determine cuáles de entre los siguientes modelos son lineales en los parámetros, en las variables, o en ambos ¿Cuáles de estos modelos son modelos de regresión lineal?\n",
    "\n",
    "a) $Y_i = \\beta_0 + \\beta_1 \\frac{1}{X_i} + \\epsilon_i$\n",
    "\n",
    "b) $Y_i = \\beta_0 + \\beta_1 ln(X_i) + \\epsilon_i$\n",
    "\n",
    "c) $Y_i = \\beta_0 X_i^{\\beta_1} + \\epsilon_i$\n",
    "\n",
    "d) $ln(Y_i) = \\beta_0 + \\beta_1 X_i + \\epsilon_i$\n",
    "\n",
    "e) $ln(Y_i) = ln(\\beta_0) + \\beta_1 ln(X_i) + \\epsilon_i$\n",
    "\n",
    "f) $Y_i = \\beta_0 + \\beta_1^3 X_i + \\epsilon_i$"
   ]
  },
  {
   "cell_type": "code",
   "execution_count": null,
   "metadata": {},
   "outputs": [],
   "source": [
    "def func_a(b0 : float, b1: float, e: float, x: float):\n",
    "    return b0 + b1 * (1/x) + e\n",
    "\n",
    "def func_b(b0 : float, b1: float, e: float, x: float):\n",
    "    return"
   ]
  },
  {
   "cell_type": "code",
   "execution_count": null,
   "metadata": {},
   "outputs": [],
   "source": [
    "# df_res['y_hat'] = df_res.apply(lambda row: y_hat(row['Fuerza_brazo_x'], slope=slope, intercept=intercept), axis=1)"
   ]
  }
 ],
 "metadata": {
  "kernelspec": {
   "display_name": "mcd_econometrics",
   "language": "python",
   "name": "python3"
  },
  "language_info": {
   "codemirror_mode": {
    "name": "ipython",
    "version": 3
   },
   "file_extension": ".py",
   "mimetype": "text/x-python",
   "name": "python",
   "nbconvert_exporter": "python",
   "pygments_lexer": "ipython3",
   "version": "3.11.5"
  }
 },
 "nbformat": 4,
 "nbformat_minor": 2
}
