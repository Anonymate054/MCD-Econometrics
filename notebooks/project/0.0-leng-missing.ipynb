{
 "cells": [
  {
   "cell_type": "markdown",
   "metadata": {},
   "source": [
    "# Auto reload modules"
   ]
  },
  {
   "cell_type": "code",
   "execution_count": 1,
   "metadata": {},
   "outputs": [],
   "source": [
    "%load_ext autoreload\n",
    "%autoreload 2"
   ]
  },
  {
   "cell_type": "code",
   "execution_count": null,
   "metadata": {},
   "outputs": [],
   "source": [
    "import scripts.missing as missing\n",
    "import pandas as pd\n",
    "import numpy as np\n",
    "import fs"
   ]
  },
  {
   "cell_type": "code",
   "execution_count": 18,
   "metadata": {},
   "outputs": [],
   "source": [
    "MAIN_DIR = fs.open_fs(\"../../data/raw/project\")\n",
    "CSV_DIR = MAIN_DIR.getsyspath(\"car_dataframe.csv\")\n",
    "\n",
    "ITNERIM_DIR = fs.open_fs(\"../../data/raw/project\")\n",
    "CARS_CLEAN_CSV_DIR = ITNERIM_DIR.getsyspath(\"car_dataframe.csv\")\n",
    "\n",
    "df = pd.read_csv(CSV_DIR)"
   ]
  },
  {
   "cell_type": "code",
   "execution_count": 3,
   "metadata": {},
   "outputs": [
    {
     "data": {
      "text/html": [
       "<div>\n",
       "<style scoped>\n",
       "    .dataframe tbody tr th:only-of-type {\n",
       "        vertical-align: middle;\n",
       "    }\n",
       "\n",
       "    .dataframe tbody tr th {\n",
       "        vertical-align: top;\n",
       "    }\n",
       "\n",
       "    .dataframe thead th {\n",
       "        text-align: right;\n",
       "    }\n",
       "</style>\n",
       "<table border=\"1\" class=\"dataframe\">\n",
       "  <thead>\n",
       "    <tr style=\"text-align: right;\">\n",
       "      <th></th>\n",
       "      <th>fuel_consumption_km_l</th>\n",
       "      <th>traccion</th>\n",
       "      <th>transmision</th>\n",
       "      <th>horsepower</th>\n",
       "      <th>fuel_type</th>\n",
       "      <th>displacement</th>\n",
       "      <th>gears</th>\n",
       "      <th>engine_type</th>\n",
       "      <th>torque</th>\n",
       "      <th>turbo</th>\n",
       "      <th>brand</th>\n",
       "      <th>age</th>\n",
       "    </tr>\n",
       "  </thead>\n",
       "  <tbody>\n",
       "    <tr>\n",
       "      <th>0</th>\n",
       "      <td>7</td>\n",
       "      <td>4x2</td>\n",
       "      <td>Automático</td>\n",
       "      <td>449</td>\n",
       "      <td>estándar</td>\n",
       "      <td>3.0</td>\n",
       "      <td>7</td>\n",
       "      <td>Combustión</td>\n",
       "      <td>516</td>\n",
       "      <td>Sí</td>\n",
       "      <td>Mercedes Benz</td>\n",
       "      <td>9</td>\n",
       "    </tr>\n",
       "    <tr>\n",
       "      <th>1</th>\n",
       "      <td>10</td>\n",
       "      <td>4x4</td>\n",
       "      <td>Automático</td>\n",
       "      <td>310</td>\n",
       "      <td>estándar</td>\n",
       "      <td>3.0</td>\n",
       "      <td>8</td>\n",
       "      <td>Combustión</td>\n",
       "      <td>325</td>\n",
       "      <td>Sí</td>\n",
       "      <td>Audi</td>\n",
       "      <td>7</td>\n",
       "    </tr>\n",
       "    <tr>\n",
       "      <th>2</th>\n",
       "      <td>11</td>\n",
       "      <td>4x4</td>\n",
       "      <td>Automático</td>\n",
       "      <td>300</td>\n",
       "      <td>estándar</td>\n",
       "      <td>2.0</td>\n",
       "      <td>8</td>\n",
       "      <td>Combustión</td>\n",
       "      <td>295</td>\n",
       "      <td>Sí</td>\n",
       "      <td>Jaguar Xe</td>\n",
       "      <td>6</td>\n",
       "    </tr>\n",
       "    <tr>\n",
       "      <th>3</th>\n",
       "      <td>17</td>\n",
       "      <td>4x2</td>\n",
       "      <td>Automático</td>\n",
       "      <td>150</td>\n",
       "      <td>estándar</td>\n",
       "      <td>1.4</td>\n",
       "      <td>7</td>\n",
       "      <td>Combustión</td>\n",
       "      <td>148</td>\n",
       "      <td>Sí</td>\n",
       "      <td>Seat</td>\n",
       "      <td>6</td>\n",
       "    </tr>\n",
       "    <tr>\n",
       "      <th>4</th>\n",
       "      <td>12</td>\n",
       "      <td>4x4</td>\n",
       "      <td>Automático</td>\n",
       "      <td>320</td>\n",
       "      <td>Gasolina</td>\n",
       "      <td>2.0</td>\n",
       "      <td>8</td>\n",
       "      <td>Combustión</td>\n",
       "      <td>295</td>\n",
       "      <td>Sí</td>\n",
       "      <td>Volvo</td>\n",
       "      <td>7</td>\n",
       "    </tr>\n",
       "    <tr>\n",
       "      <th>...</th>\n",
       "      <td>...</td>\n",
       "      <td>...</td>\n",
       "      <td>...</td>\n",
       "      <td>...</td>\n",
       "      <td>...</td>\n",
       "      <td>...</td>\n",
       "      <td>...</td>\n",
       "      <td>...</td>\n",
       "      <td>...</td>\n",
       "      <td>...</td>\n",
       "      <td>...</td>\n",
       "      <td>...</td>\n",
       "    </tr>\n",
       "    <tr>\n",
       "      <th>1872</th>\n",
       "      <td>14</td>\n",
       "      <td>4x2</td>\n",
       "      <td>Manual</td>\n",
       "      <td>100</td>\n",
       "      <td>Gasolina</td>\n",
       "      <td>1.6</td>\n",
       "      <td>5</td>\n",
       "      <td>Combustión</td>\n",
       "      <td>105</td>\n",
       "      <td>No</td>\n",
       "      <td>Volkswagen</td>\n",
       "      <td>9</td>\n",
       "    </tr>\n",
       "    <tr>\n",
       "      <th>1873</th>\n",
       "      <td>14</td>\n",
       "      <td>4x2</td>\n",
       "      <td>Manual</td>\n",
       "      <td>105</td>\n",
       "      <td>estándar</td>\n",
       "      <td>1.6</td>\n",
       "      <td>5</td>\n",
       "      <td>Combustión</td>\n",
       "      <td>107</td>\n",
       "      <td>No</td>\n",
       "      <td>Renault</td>\n",
       "      <td>7</td>\n",
       "    </tr>\n",
       "    <tr>\n",
       "      <th>1874</th>\n",
       "      <td>15</td>\n",
       "      <td>4x2</td>\n",
       "      <td>Manual</td>\n",
       "      <td>115</td>\n",
       "      <td>NoInfo</td>\n",
       "      <td>NaN</td>\n",
       "      <td>0</td>\n",
       "      <td>NoInfo</td>\n",
       "      <td>114</td>\n",
       "      <td>No</td>\n",
       "      <td>Chevrolet</td>\n",
       "      <td>8</td>\n",
       "    </tr>\n",
       "    <tr>\n",
       "      <th>1875</th>\n",
       "      <td>9</td>\n",
       "      <td>4x4</td>\n",
       "      <td>Automático</td>\n",
       "      <td>285</td>\n",
       "      <td>estándar</td>\n",
       "      <td>NaN</td>\n",
       "      <td>0</td>\n",
       "      <td>NoInfo</td>\n",
       "      <td>300</td>\n",
       "      <td>No</td>\n",
       "      <td>Lincoln</td>\n",
       "      <td>9</td>\n",
       "    </tr>\n",
       "    <tr>\n",
       "      <th>1876</th>\n",
       "      <td>16</td>\n",
       "      <td>4x2</td>\n",
       "      <td>Automático</td>\n",
       "      <td>84</td>\n",
       "      <td>NoInfo</td>\n",
       "      <td>NaN</td>\n",
       "      <td>0</td>\n",
       "      <td>NoInfo</td>\n",
       "      <td>89</td>\n",
       "      <td>No</td>\n",
       "      <td>Smart</td>\n",
       "      <td>10</td>\n",
       "    </tr>\n",
       "  </tbody>\n",
       "</table>\n",
       "<p>1877 rows × 12 columns</p>\n",
       "</div>"
      ],
      "text/plain": [
       "      fuel_consumption_km_l traccion transmision  horsepower fuel_type  \\\n",
       "0                         7      4x2  Automático         449  estándar   \n",
       "1                        10      4x4  Automático         310  estándar   \n",
       "2                        11      4x4  Automático         300  estándar   \n",
       "3                        17      4x2  Automático         150  estándar   \n",
       "4                        12      4x4  Automático         320  Gasolina   \n",
       "...                     ...      ...         ...         ...       ...   \n",
       "1872                     14      4x2      Manual         100  Gasolina   \n",
       "1873                     14      4x2      Manual         105  estándar   \n",
       "1874                     15      4x2      Manual         115    NoInfo   \n",
       "1875                      9      4x4  Automático         285  estándar   \n",
       "1876                     16      4x2  Automático          84    NoInfo   \n",
       "\n",
       "      displacement  gears engine_type  torque turbo          brand  age  \n",
       "0              3.0      7  Combustión     516    Sí  Mercedes Benz    9  \n",
       "1              3.0      8  Combustión     325    Sí           Audi    7  \n",
       "2              2.0      8  Combustión     295    Sí      Jaguar Xe    6  \n",
       "3              1.4      7  Combustión     148    Sí           Seat    6  \n",
       "4              2.0      8  Combustión     295    Sí          Volvo    7  \n",
       "...            ...    ...         ...     ...   ...            ...  ...  \n",
       "1872           1.6      5  Combustión     105    No     Volkswagen    9  \n",
       "1873           1.6      5  Combustión     107    No        Renault    7  \n",
       "1874           NaN      0      NoInfo     114    No      Chevrolet    8  \n",
       "1875           NaN      0      NoInfo     300    No        Lincoln    9  \n",
       "1876           NaN      0      NoInfo      89    No          Smart   10  \n",
       "\n",
       "[1877 rows x 12 columns]"
      ]
     },
     "execution_count": 3,
     "metadata": {},
     "output_type": "execute_result"
    }
   ],
   "source": [
    "df"
   ]
  },
  {
   "cell_type": "code",
   "execution_count": 21,
   "metadata": {},
   "outputs": [
    {
     "data": {
      "text/plain": [
       "traccion                                              [4x2, 4x4]\n",
       "transmision                                 [Automático, Manual]\n",
       "fuel_type      [estándar, Gasolina, Híbrido, Eléctrico, Diese...\n",
       "engine_type    [Combustión, Eléctrico, Híbrido, Mild Hybrid, ...\n",
       "turbo                                                   [Sí, No]\n",
       "brand          [Mercedes Benz, Audi, Jaguar Xe, Seat, Volvo, ...\n",
       "dtype: object"
      ]
     },
     "execution_count": 21,
     "metadata": {},
     "output_type": "execute_result"
    }
   ],
   "source": [
    "(\n",
    "    df\n",
    "    .select_dtypes(object)\n",
    "    .apply(pd.unique)\n",
    ")"
   ]
  },
  {
   "cell_type": "code",
   "execution_count": 24,
   "metadata": {},
   "outputs": [
    {
     "data": {
      "text/plain": [
       "array(['estándar', 'Gasolina', 'Híbrido', 'Eléctrico', 'Diesel', 'NoInfo'],\n",
       "      dtype=object)"
      ]
     },
     "execution_count": 24,
     "metadata": {},
     "output_type": "execute_result"
    }
   ],
   "source": [
    "df['fuel_type'].unique()"
   ]
  },
  {
   "cell_type": "code",
   "execution_count": 25,
   "metadata": {},
   "outputs": [
    {
     "data": {
      "text/plain": [
       "array(['Combustión', 'Eléctrico', 'Híbrido', 'Mild Hybrid', 'NoInfo',\n",
       "       'Motor Supercargado'], dtype=object)"
      ]
     },
     "execution_count": 25,
     "metadata": {},
     "output_type": "execute_result"
    }
   ],
   "source": [
    "df['engine_type'].unique()"
   ]
  },
  {
   "cell_type": "code",
   "execution_count": 26,
   "metadata": {},
   "outputs": [],
   "source": [
    "df = (\n",
    "    df\n",
    "    .replace(\n",
    "        to_replace=[0,'NoInfo'],\n",
    "        value=np.nan\n",
    "    )\n",
    "        .replace(\n",
    "        to_replace=['estándar'],\n",
    "        value='Estándar'\n",
    "    )\n",
    ")"
   ]
  },
  {
   "cell_type": "code",
   "execution_count": 29,
   "metadata": {},
   "outputs": [
    {
     "data": {
      "image/png": "[encoded data removed]",
      "text/plain": [
       "<Figure size 640x480 with 1 Axes>"
      ]
     },
     "metadata": {},
     "output_type": "display_data"
    }
   ],
   "source": [
    "df.missing.missing_variable_plot()"
   ]
  },
  {
   "cell_type": "code",
   "execution_count": 4,
   "metadata": {},
   "outputs": [],
   "source": [
    "# df.to_csv(CARS_CLEAN_CSV_DIR, encoding='utf-8', index=False)"
   ]
  }
 ],
 "metadata": {
  "kernelspec": {
   "display_name": "mcd_econometrics",
   "language": "python",
   "name": "python3"
  },
  "language_info": {
   "codemirror_mode": {
    "name": "ipython",
    "version": 3
   },
   "file_extension": ".py",
   "mimetype": "text/x-python",
   "name": "python",
   "nbconvert_exporter": "python",
   "pygments_lexer": "ipython3",
   "version": "3.11.5"
  }
 },
 "nbformat": 4,
 "nbformat_minor": 2
}
