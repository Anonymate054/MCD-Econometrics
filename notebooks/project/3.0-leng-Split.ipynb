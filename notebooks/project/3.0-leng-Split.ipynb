{
 "cells": [
  {
   "cell_type": "markdown",
   "metadata": {},
   "source": [
    "# Auto reload modules"
   ]
  },
  {
   "cell_type": "code",
   "execution_count": 1,
   "metadata": {},
   "outputs": [],
   "source": [
    "%load_ext autoreload\n",
    "%autoreload 2"
   ]
  },
  {
   "cell_type": "code",
   "execution_count": 2,
   "metadata": {},
   "outputs": [],
   "source": [
    "from sklearn.model_selection import train_test_split\n",
    "import pandas as pd\n",
    "import fs\n",
    "\n",
    "\n",
    "INTERIM_PROJECT_DIR = fs.open_fs(\"../../data/interim/project\")\n",
    "INTERIM_FILE_NAME = INTERIM_PROJECT_DIR.getsyspath(\"car_dataframe_clean.csv\")\n",
    "\n",
    "PROCESSED_PROJECT_DIR = fs.open_fs(\"../../data/processed/project\")\n",
    "X_TRAIN_DIR = PROCESSED_PROJECT_DIR.getsyspath(\"x_train.csv\")\n",
    "X_TEST_DIR = PROCESSED_PROJECT_DIR.getsyspath(\"x_test.csv\")\n",
    "X_VAL_DIR = PROCESSED_PROJECT_DIR.getsyspath(\"x_val.csv\")\n",
    "Y_TRAIN_DIR = PROCESSED_PROJECT_DIR.getsyspath(\"y_train.csv\")\n",
    "Y_TEST_DIR = PROCESSED_PROJECT_DIR.getsyspath(\"y_test.csv\")\n",
    "Y_VAL_DIR = PROCESSED_PROJECT_DIR.getsyspath(\"y_val.csv\")"
   ]
  },
  {
   "cell_type": "code",
   "execution_count": 3,
   "metadata": {},
   "outputs": [
    {
     "data": {
      "text/html": [
       "<div>\n",
       "<style scoped>\n",
       "    .dataframe tbody tr th:only-of-type {\n",
       "        vertical-align: middle;\n",
       "    }\n",
       "\n",
       "    .dataframe tbody tr th {\n",
       "        vertical-align: top;\n",
       "    }\n",
       "\n",
       "    .dataframe thead th {\n",
       "        text-align: right;\n",
       "    }\n",
       "</style>\n",
       "<table border=\"1\" class=\"dataframe\">\n",
       "  <thead>\n",
       "    <tr style=\"text-align: right;\">\n",
       "      <th></th>\n",
       "      <th>fuel_consumption_km_l</th>\n",
       "      <th>traccion</th>\n",
       "      <th>transmision</th>\n",
       "      <th>horsepower</th>\n",
       "      <th>fuel_type</th>\n",
       "      <th>displacement</th>\n",
       "      <th>gears</th>\n",
       "      <th>engine_type</th>\n",
       "      <th>torque</th>\n",
       "      <th>turbo</th>\n",
       "      <th>brand</th>\n",
       "      <th>age</th>\n",
       "      <th>body_type</th>\n",
       "    </tr>\n",
       "  </thead>\n",
       "  <tbody>\n",
       "    <tr>\n",
       "      <th>0</th>\n",
       "      <td>7.0</td>\n",
       "      <td>4x2</td>\n",
       "      <td>Automático</td>\n",
       "      <td>449</td>\n",
       "      <td>Estándar</td>\n",
       "      <td>3.0</td>\n",
       "      <td>7.0</td>\n",
       "      <td>Combustión</td>\n",
       "      <td>516</td>\n",
       "      <td>Sí</td>\n",
       "      <td>Mercedes Benz</td>\n",
       "      <td>9</td>\n",
       "      <td>Sedan</td>\n",
       "    </tr>\n",
       "    <tr>\n",
       "      <th>1</th>\n",
       "      <td>10.0</td>\n",
       "      <td>4x4</td>\n",
       "      <td>Automático</td>\n",
       "      <td>310</td>\n",
       "      <td>Estándar</td>\n",
       "      <td>3.0</td>\n",
       "      <td>8.0</td>\n",
       "      <td>Combustión</td>\n",
       "      <td>325</td>\n",
       "      <td>Sí</td>\n",
       "      <td>Audi</td>\n",
       "      <td>7</td>\n",
       "      <td>Sedan</td>\n",
       "    </tr>\n",
       "    <tr>\n",
       "      <th>2</th>\n",
       "      <td>11.0</td>\n",
       "      <td>4x4</td>\n",
       "      <td>Automático</td>\n",
       "      <td>300</td>\n",
       "      <td>Estándar</td>\n",
       "      <td>2.0</td>\n",
       "      <td>8.0</td>\n",
       "      <td>Combustión</td>\n",
       "      <td>295</td>\n",
       "      <td>Sí</td>\n",
       "      <td>Jaguar Xe</td>\n",
       "      <td>6</td>\n",
       "      <td>Sedan</td>\n",
       "    </tr>\n",
       "    <tr>\n",
       "      <th>3</th>\n",
       "      <td>17.0</td>\n",
       "      <td>4x2</td>\n",
       "      <td>Automático</td>\n",
       "      <td>150</td>\n",
       "      <td>Estándar</td>\n",
       "      <td>1.4</td>\n",
       "      <td>7.0</td>\n",
       "      <td>Combustión</td>\n",
       "      <td>148</td>\n",
       "      <td>Sí</td>\n",
       "      <td>Seat</td>\n",
       "      <td>6</td>\n",
       "      <td>Suv</td>\n",
       "    </tr>\n",
       "    <tr>\n",
       "      <th>4</th>\n",
       "      <td>12.0</td>\n",
       "      <td>4x4</td>\n",
       "      <td>Automático</td>\n",
       "      <td>320</td>\n",
       "      <td>Gasolina</td>\n",
       "      <td>2.0</td>\n",
       "      <td>8.0</td>\n",
       "      <td>Combustión</td>\n",
       "      <td>295</td>\n",
       "      <td>Sí</td>\n",
       "      <td>Volvo</td>\n",
       "      <td>7</td>\n",
       "      <td>Suv</td>\n",
       "    </tr>\n",
       "  </tbody>\n",
       "</table>\n",
       "</div>"
      ],
      "text/plain": [
       "   fuel_consumption_km_l traccion transmision  horsepower fuel_type  \\\n",
       "0                    7.0      4x2  Automático         449  Estándar   \n",
       "1                   10.0      4x4  Automático         310  Estándar   \n",
       "2                   11.0      4x4  Automático         300  Estándar   \n",
       "3                   17.0      4x2  Automático         150  Estándar   \n",
       "4                   12.0      4x4  Automático         320  Gasolina   \n",
       "\n",
       "   displacement  gears engine_type  torque turbo          brand  age body_type  \n",
       "0           3.0    7.0  Combustión     516    Sí  Mercedes Benz    9     Sedan  \n",
       "1           3.0    8.0  Combustión     325    Sí           Audi    7     Sedan  \n",
       "2           2.0    8.0  Combustión     295    Sí      Jaguar Xe    6     Sedan  \n",
       "3           1.4    7.0  Combustión     148    Sí           Seat    6       Suv  \n",
       "4           2.0    8.0  Combustión     295    Sí          Volvo    7       Suv  "
      ]
     },
     "execution_count": 3,
     "metadata": {},
     "output_type": "execute_result"
    }
   ],
   "source": [
    "df = pd.read_csv(INTERIM_FILE_NAME)\n",
    "df.head()"
   ]
  },
  {
   "cell_type": "code",
   "execution_count": 4,
   "metadata": {},
   "outputs": [],
   "source": [
    "target = \"fuel_consumption_km_l\"\n",
    "X = df.drop(columns=[target]).copy()\n",
    "y = df[target].copy()"
   ]
  },
  {
   "cell_type": "code",
   "execution_count": 5,
   "metadata": {},
   "outputs": [],
   "source": [
    "X_train, X_test, y_train, y_test = train_test_split(X, y, test_size=0.2, random_state=1)\n",
    "X_train, X_val, y_train, y_val = train_test_split(X_train, y_train, test_size=0.25, random_state=1) # 0.25 x 0.8 = 0.2"
   ]
  },
  {
   "cell_type": "code",
   "execution_count": 6,
   "metadata": {},
   "outputs": [],
   "source": [
    "X_train.to_csv(X_TRAIN_DIR, encoding='utf-8', index=False)\n",
    "X_test.to_csv(X_TEST_DIR, encoding='utf-8', index=False)\n",
    "X_val.to_csv(X_VAL_DIR, encoding='utf-8', index=False)\n",
    "\n",
    "y_train.to_csv(Y_TRAIN_DIR, encoding='utf-8', index=False)\n",
    "y_test.to_csv(Y_TEST_DIR, encoding='utf-8', index=False)\n",
    "y_val.to_csv(Y_VAL_DIR, encoding='utf-8', index=False)"
   ]
  }
 ],
 "metadata": {
  "kernelspec": {
   "display_name": "mcd_econometrics",
   "language": "python",
   "name": "python3"
  },
  "language_info": {
   "codemirror_mode": {
    "name": "ipython",
    "version": 3
   },
   "file_extension": ".py",
   "mimetype": "text/x-python",
   "name": "python",
   "nbconvert_exporter": "python",
   "pygments_lexer": "ipython3",
   "version": "3.11.5"
  }
 },
 "nbformat": 4,
 "nbformat_minor": 2
}
