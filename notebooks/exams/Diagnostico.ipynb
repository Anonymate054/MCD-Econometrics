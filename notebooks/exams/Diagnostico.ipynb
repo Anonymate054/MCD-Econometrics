{
 "cells": [
  {
   "cell_type": "markdown",
   "metadata": {},
   "source": [
    "# Diagnóstico\n",
    "\n",
    "## Econometría - Agosto 2024\n",
    "\n",
    "Marque claramente encerrando en un círculo las respuestas correctas:\n",
    "\n",
    "1. Identifique la aseveración verdadera:\n",
    "\n",
    "   **a) Las medidas de dispersión, varianza, desviación estándar y coeficiente de variación tienen todas distintas unidades.**\n",
    "   \n",
    "   | Medida de dispersión   | Unidad                          |\n",
    "   |------------------------|---------------------------------|\n",
    "   | Varianza               | Cuadrado de la unidad de la variable |\n",
    "   | Desviación estándar    | Misma unidad que la variable    |\n",
    "   | Coeficiente de variación | Adimensional (sin unidades)   |\n",
    "   \n",
    "   <span style=\"color: green;\">Por lo tanto, esta respuesta es correcta.</span>\n",
    "\n",
    "   **b) La covarianza no es una medida de asociación ni de variabilidad conjunta.**\n",
    "   \n",
    "\n",
    "   <span style=\"color: red;\">Por lo tanto, esta respuesta es incorrecta.</span>\n",
    "\n",
    "   **c) Siempre es posible dibujar un diagrama de caja y brazos para una variable independientemente de que esta sea cuantitativa o cualitativa.**\n",
    "\n",
    "   Los diagramas de caja sólo sirven para variables cuantitativas, ya que es una forma de la ubicación de los datos (outliers) y la forma de la distribución.\n",
    "\n",
    "   <span style=\"color: red;\">Por lo tanto, esta respuesta es incorrecta.</span>\n",
    "\n",
    "   **d) Una variable cuantitativa discreta sólo puede tener valores positivos.**\n",
    "\n",
    "   Considerando que se cuenta del dominio de los reales, es posible que existan valores negativos. Como puede ser el caso de variables físicas como la temperatura.\n",
    "\n",
    "   <span style=\"color: red;\">Por lo tanto, esta respuesta es incorrecta.</span>"
   ]
  },
  {
   "cell_type": "markdown",
   "metadata": {},
   "source": [
    "### Notas\n",
    "\n",
    "#### Covarianza \n",
    "\n",
    "Sean $X$ y $Y$ dos variables aleatorias con medias $\\mu_x$ y $\\mu_y$, respectivamente. Entonces, la **covarianza** entre las dos variables se define como\n",
    "\n",
    "$$\n",
    "\\text{cov}(X, Y) = E\\{(X - \\mu_x)(Y - \\mu_y)\\} = E(XY) - \\mu_x \\mu_y\n",
    "$$\n",
    "\n",
    "Se observa con facilidad que la varianza de una variable es la covarianza de dicha variable con ella misma.\n",
    "\n",
    "La covarianza se calcula de la siguiente manera:\n",
    "\n",
    "$$\n",
    "\\text{cov}(X, Y) = \\sum_y \\sum_x (X - \\mu_x)(Y - \\mu_y)f(x, y)\n",
    "$$\n",
    "\n",
    "$$\n",
    "= \\sum_y \\sum_x XYf(x, y) - \\mu_x \\mu_y\n",
    "$$\n",
    "\n",
    "si $X$ y $Y$ son variables aleatorias discretas y\n",
    "\n",
    "$$\n",
    "\\text{cov}(X, Y) = \\int_{-\\infty}^{\\infty} \\int_{-\\infty}^{\\infty} (X - \\mu_x)(Y - \\mu_y)f(x, y) \\, dx \\, dy\n",
    "$$\n",
    "\n",
    "$$\n",
    "= \\int_{-\\infty}^{\\infty} \\int_{-\\infty}^{\\infty} XYf(x, y) \\, dx \\, dy - \\mu_x \\mu_y\n",
    "$$\n",
    "\n",
    "si $X$ y $Y$ son variables aleatorias continuas.\n",
    "\n",
    "### Propiedades de la covarianza\n",
    "\n",
    "1. Si $X$ y $Y$ son independientes, su covarianza es cero, pues\n",
    "\n",
    "$$\n",
    "\\text{cov}(X, Y) = E(XY) - \\mu_x \\mu_y\n",
    "$$\n",
    "\n",
    "$$\n",
    "= \\mu_x \\mu_y - \\mu_x \\mu_y = 0 \\quad \\text{porque } E(XY) = E(X)E(Y) = \\mu_x \\mu_y \\text{ cuando } X \\text{ y } Y \\text{ son independientes}\n",
    "$$\n",
    "\n",
    "2. \n",
    "$$\n",
    "\\text{cov}(a + bX, c + dY) = bd \\, \\text{cov}(X, Y)\n",
    "$$\n",
    "\n",
    "donde $a$, $b$, $c$ y $d$ son constantes. \n",
    "\n",
    "*Referencia:* Gujarati 5ta edición página 811 - 812"
   ]
  },
  {
   "cell_type": "markdown",
   "metadata": {},
   "source": [
    "#### Varianza \n",
    "\n",
    "La varianza tiene las siguientes propiedades:\n",
    "\n",
    "La varianza de cualquier variable aleatoria siempre será mayor o igual que cero. Asimismo, si la varianza es igual a cero significa que todos los datos estadísticos son idénticos.\n",
    "\n",
    "$$Var(x)\\ge 0$$\n",
    "\n",
    "Evidentemente, la varianza de un único valor es nula.\n",
    "\n",
    "$$Var(a)=0\\qquad a\\in \\mathbb{R}$$\n",
    "\n",
    "La varianza del producto de un escalar por una variable es equivalente a dicho escalar al cuadrado multiplicado por la varianza de la variable.\n",
    "\n",
    "$$Var(aX)=a^2\\cdot Var(X)\\qquad a\\in \\mathbb{R}$$\n",
    "\n",
    "La varianza de la suma de dos variables dependientes es equivalente a la suma de la varianza de cada variable por separado más dos veces la covarianza entre las dos variables.\n",
    "\n",
    "$$Var(X+Y)=Var(X)+Var(Y)+2Cov(X,Y)$$\n",
    "\n",
    "$$Var(X-Y)=Var(X)+Var(Y)-2Cov(X,Y)$$\n",
    "\n",
    "En consecuencia, si las dos variables son independientes, para determinar la varianza de su suma solamente es necesario sumar sus varianzas:\n",
    "\n",
    "$$Var(X+Y)=Var(X)+Var(Y)$$\n",
    "\n",
    "La varianza también se puede definir con la esperanza matemática mediante la siguiente fórmula:\n",
    "\n",
    "$$Var(X)=E\\bigl[(X-\\overline{X})^2\\bigr]$$\n",
    "\n",
    "*Referencia:* https://www.probabilidadyestadistica.net/varianza/ "
   ]
  },
  {
   "cell_type": "markdown",
   "metadata": {},
   "source": [
    "2. Indique cual(es) aseveraciones son falsas:\n",
    "\n",
    "    a) Sean $X$ y $Y$ variables aleatorias discretas que toman valores positivos solamente. Entonces su covarianza, $cov(X,Y)$ nunca puede ser negativa.\n",
    "\n",
    "    La covarianza si puede tener valores negativos cuando la relación lineal entre los datos sea decreciente, puesto que $y_i -\\bar{y}$ es negativa. Por tanto, la multiplicación de positivo $(+)$ por negativo $(-)$ es negativo $(-)$\n",
    "\n",
    "    <span style=\"color: red;\">Por lo tanto, esta respuesta es incorrecta.</span>\n",
    "\n",
    "    b) Sea $W$ una variable aleatoria $\\sigma_W^2 > 0$. Si $b<0$, entonces $var(bW)>0$\n",
    "\n",
    "    $var(bW) = b^2 var(W)$ Considerando que $b<0$ $(-)$, pero entonces $b^2>0$ puesto que $(-)^2 = (+)$. Además si: $\\sigma_W^2 > 0$, es decir es positivo $(+)$. \n",
    "\n",
    "    $(+) * (+) = (+)$ puesto que $(+) > 0$\n",
    "\n",
    "    <span style=\"color: green;\">Por lo tanto, esta respuesta es correcta.</span>\n",
    "\n",
    "    c) Si $X$ y $Y$ son variables aleatorias continuas que toman valores positivos, entonces $corr(-X,-Y)=-corr(Y,X)$\n",
    "\n",
    "    <span style=\"color: red;\">Por lo tanto, esta respuesta es incorrecta.</span>\n",
    "\n",
    "    d) Si $U$ y $V$ son variables aleatorias, entonces: $var(U-V)=var(U)-var(V)-2cov(U,V)$\n",
    "\n",
    "    La suma o resta de la varianza siempre es positiva. La diferencia del doble de la varianza es aquello que cambia de signo.\n",
    "\n",
    "    <span style=\"color: red;\">Por lo tanto, esta respuesta es incorrecta.</span>"
   ]
  },
  {
   "cell_type": "markdown",
   "metadata": {},
   "source": [
    "3. Sabritas es una empresa dedicada a la elaboración de frituras y botanas. Su producto infantil por excelencia es Cheetos que en la presentación más pequeña tiene 350 gr de producto. El departamento de control de calidad de\n",
    "Sabritas selecciona al azar bolsas de Cheetos y procede a pesar cada una de estas para ver que no salgan a la venta bolsitas con más o menos del producto que viene marcado en el empaque. Luego, el peso medio de la producción\n",
    "total en este caso sería:\n",
    "\n",
    "    a) El estimador\n",
    "\n",
    "    b) La variable de interés\n",
    "\n",
    "    c) El parámetro\n",
    "\n",
    "    Es el parámetro debido a que corresponde a la variable que se desea analizar. El estimador sería aquella medida con la cual se harían las hipótesis. \n",
    "\n",
    "    <span style=\"color: green;\">Por lo tanto, esta respuesta es correcta.</span>\n",
    "\n",
    "    d) La población"
   ]
  },
  {
   "cell_type": "markdown",
   "metadata": {},
   "source": [
    "4. Sean $ Z_1, Z_2, Z_3 $ variables aleatorias e independientes distribuidas normales estándar y considere las siguientes aseveraciones:  \n",
    "    A) $ P(Z_1^2 \\geq 1) \\approx 0.317 $  \n",
    "    B) $ P\\left(-\\frac{1}{2} < \\frac{Z_1}{2} - \\frac{1}{4} \\leq \\frac{1}{4}\\right) > 0.2 $  \n",
    "    \n",
    "   Entonces:\n",
    "   - a) A es falsa y B es verdadera\n",
    "   - b) A es verdadera y B es falsa\n",
    "   - c) A y B ambas son verdaderas\n",
    "   - d) A y B ambas son falsas"
   ]
  },
  {
   "cell_type": "code",
   "execution_count": 32,
   "metadata": {},
   "outputs": [
    {
     "data": {
      "text/plain": [
       "0.31731050786291415"
      ]
     },
     "execution_count": 32,
     "metadata": {},
     "output_type": "execute_result"
    }
   ],
   "source": [
    "import scipy.stats as stats\n",
    "\n",
    "# P(Z_1^2 >= 1)\n",
    "prob_A = 1 - stats.chi2.cdf(1, df=1)\n",
    "prob_A"
   ]
  },
  {
   "cell_type": "code",
   "execution_count": 33,
   "metadata": {},
   "outputs": [
    {
     "name": "stdout",
     "output_type": "stream",
     "text": [
      "La condición A es: Verdadera\n"
     ]
    }
   ],
   "source": [
    "hip_A = 0.317\n",
    "print(f\"La condición A es: {'Verdadera' if prob_A >= hip_A else 'Falsa'}\")"
   ]
  },
  {
   "cell_type": "code",
   "execution_count": 34,
   "metadata": {},
   "outputs": [
    {
     "data": {
      "text/plain": [
       "0.532807207342556"
      ]
     },
     "execution_count": 34,
     "metadata": {},
     "output_type": "execute_result"
    }
   ],
   "source": [
    "# P(-1/2 < Z1/2 - 1/4 <= 1/4)\n",
    "lower_bound = (-1/2 + 1/4) * 2\n",
    "upper_bound = (1/4 + 1/4) * 2\n",
    "\n",
    "prob_B = stats.norm.cdf(upper_bound) - stats.norm.cdf(lower_bound)\n",
    "prob_B"
   ]
  },
  {
   "cell_type": "code",
   "execution_count": 35,
   "metadata": {},
   "outputs": [
    {
     "name": "stdout",
     "output_type": "stream",
     "text": [
      "La condición A es: Verdadera\n"
     ]
    }
   ],
   "source": [
    "hip_B = 0.2\n",
    "print(f\"La condición A es: {'Verdadera' if prob_B > hip_B else 'Falsa'}\")"
   ]
  },
  {
   "cell_type": "markdown",
   "metadata": {},
   "source": [
    "<span style=\"color: green;\">Por lo tanto, la respuesta del inciso C es correcta.</span>"
   ]
  },
  {
   "cell_type": "markdown",
   "metadata": {},
   "source": [
    "5. Considere las siguientes afirmaciones e indique si son falsas o verdaderas:\n",
    "\n",
    "    A) El error cuadrático medio de un estimador no constante es siempre mayor que el sesgo del estimador al cuadrado.\n",
    "   \n",
    "    <span style=\"color: green;\">Por lo tanto, esta respuesta es correcta.</span>\n",
    "\n",
    "    B) Una población tiene media $ \\mu $ y varianza $ \\sigma^2 $. Sea $ X_1, X_2, X_3 $ una muestra aleatoria de la población y sean  \n",
    "        $$\n",
    "        \\hat{\\mu}_1 = \\frac{1}{2}(X_1 + X_3)\n",
    "        $$\n",
    "        $$\n",
    "        \\hat{\\mu}_2 = \\frac{1}{4}(X_1 + 2X_2 + X_3)\n",
    "        $$  \n",
    "   Entonces $ \\hat{\\mu}_2 $ es un estimador de $ \\mu $ más eficiente que $ \\hat{\\mu}_1 $.\n",
    "\n",
    "\n",
    "   Si calculamos la varianza de cada estimador $\\mu^2$, se tiene una menor varianza. Por lo tanto, es un estimador más eficiente.\n",
    "    \n",
    "   <span style=\"color: green;\">Por lo tanto, esta respuesta es correcta.</span>"
   ]
  },
  {
   "cell_type": "markdown",
   "metadata": {},
   "source": [
    "6. En una prueba de igualdad de medias para dos muestras independientes, un valor -p mayor a 0.10 pero menor a 0.15 (es decir: $0.15 > p > 0.1$) asociado al estadístico de prueba sugiere que:\n",
    "\n",
    "    a) Hay evidencia estadística para poder asumir la igualdad de medias.\n",
    "\n",
    "    El rango de $p$ superior a $0.1$ (es decir: $p >= 0.1$), por lo que no hay diferencia entre medias y no se puede rechazar la hipótesis nula.\n",
    "\n",
    "    <span style=\"color: green;\">Por lo tanto, esta respuesta es correcta.</span>\n",
    "\n",
    "    b) Falta evidencia estadística para poder asumir la igualdad de medias.\n",
    "\n",
    "    c) Hay evidencia estadística para poder asumir la falsedad de igualdad de medias.\n",
    "\n",
    "    d) La prueba no es concluyente"
   ]
  },
  {
   "cell_type": "markdown",
   "metadata": {},
   "source": [
    "7. Completa el enunciado de forma correcta. Cinthya es una vendedora Avon y vende de puerta en puerta. Se sabe que realiza una venta con una probabilidad de 0.35. La empresa de cosméticos para cuál ella trabaja otorga un bono si logra realizar en un mes 100 ventas o más. La probabilidad de que se haga acreedora a dicho reconocimiento y bono visitando a 225 hogares es aproximadamente de:\n",
    "\n",
    "    a) $p \\approx 0.0019$\n",
    "\n",
    "    b) $p \\approx 0.0000$\n",
    "\n",
    "    c) $p \\approx 0.0015$\n",
    "\n",
    "    d) $p \\approx 0.0023 $"
   ]
  },
  {
   "cell_type": "code",
   "execution_count": 36,
   "metadata": {},
   "outputs": [
    {
     "name": "stdout",
     "output_type": "stream",
     "text": [
      "La probabilidad de que Cinthya logre realizar 100 o más ventas es aproximadamente 0.0021.\n"
     ]
    }
   ],
   "source": [
    "from scipy.stats import binom\n",
    "\n",
    "# Parámetros\n",
    "p = 0.35  # Probabilidad de éxito (venta)\n",
    "n = 225   # Número de visitas\n",
    "k = 100   # Número mínimo de ventas para obtener el bono\n",
    "\n",
    "# Probabilidad de hacer 100 o más ventas\n",
    "probabilidad = 1 - binom.cdf(k-1, n, p)\n",
    "\n",
    "print(f\"La probabilidad de que Cinthya logre realizar 100 o más ventas es aproximadamente {probabilidad:.4f}.\")\n"
   ]
  },
  {
   "cell_type": "markdown",
   "metadata": {},
   "source": [
    "Puesto que el resultado fue: 0.0021 el inciso c) está por debajo y el inciso d) está por encima. Se considerará el escenario menos optimista. \n",
    "\n",
    "<span style=\"color: green;\">Por lo tanto, el inciso c es la respuesta es correcta.</span>"
   ]
  },
  {
   "cell_type": "markdown",
   "metadata": {},
   "source": [
    "8. La correlación para una muestra de tamaño 36 entre el consumo de hamburguesas y de papas es de 0.84. Si se suma a cada elemento de la muestra una constante 2 entonces la correlación pare la nueva muestra es de:\n",
    "\n",
    "    a) 0.64 puntos\n",
    "\n",
    "    b) 0.84 puntos\n",
    "\n",
    "    c) -0.84 puntos\n",
    "    \n",
    "    d) -0.64 puntos"
   ]
  },
  {
   "cell_type": "markdown",
   "metadata": {},
   "source": [
    "Demmostración con código:"
   ]
  },
  {
   "cell_type": "code",
   "execution_count": 37,
   "metadata": {},
   "outputs": [
    {
     "data": {
      "text/html": [
       "<div>\n",
       "<style scoped>\n",
       "    .dataframe tbody tr th:only-of-type {\n",
       "        vertical-align: middle;\n",
       "    }\n",
       "\n",
       "    .dataframe tbody tr th {\n",
       "        vertical-align: top;\n",
       "    }\n",
       "\n",
       "    .dataframe thead th {\n",
       "        text-align: right;\n",
       "    }\n",
       "</style>\n",
       "<table border=\"1\" class=\"dataframe\">\n",
       "  <thead>\n",
       "    <tr style=\"text-align: right;\">\n",
       "      <th></th>\n",
       "      <th>Consumo_Hamburguesas</th>\n",
       "      <th>Consumo_Papas</th>\n",
       "    </tr>\n",
       "  </thead>\n",
       "  <tbody>\n",
       "    <tr>\n",
       "      <th>0</th>\n",
       "      <td>50.317059</td>\n",
       "      <td>49.280099</td>\n",
       "    </tr>\n",
       "    <tr>\n",
       "      <th>1</th>\n",
       "      <td>51.228772</td>\n",
       "      <td>51.332941</td>\n",
       "    </tr>\n",
       "    <tr>\n",
       "      <th>2</th>\n",
       "      <td>49.242509</td>\n",
       "      <td>49.333188</td>\n",
       "    </tr>\n",
       "    <tr>\n",
       "      <th>3</th>\n",
       "      <td>50.191192</td>\n",
       "      <td>50.031863</td>\n",
       "    </tr>\n",
       "    <tr>\n",
       "      <th>4</th>\n",
       "      <td>51.616288</td>\n",
       "      <td>51.235382</td>\n",
       "    </tr>\n",
       "  </tbody>\n",
       "</table>\n",
       "</div>"
      ],
      "text/plain": [
       "   Consumo_Hamburguesas  Consumo_Papas\n",
       "0             50.317059      49.280099\n",
       "1             51.228772      51.332941\n",
       "2             49.242509      49.333188\n",
       "3             50.191192      50.031863\n",
       "4             51.616288      51.235382"
      ]
     },
     "execution_count": 37,
     "metadata": {},
     "output_type": "execute_result"
    }
   ],
   "source": [
    "import numpy as np\n",
    "import pandas as pd\n",
    "\n",
    "# Fijar la semilla para reproducibilidad\n",
    "np.random.seed(42)\n",
    "\n",
    "# Tamaño de la muestra\n",
    "n = 36\n",
    "\n",
    "# Generar datos aleatorios para hamburguesas\n",
    "hamburguesas = np.random.normal(loc=50, scale=10, size=n)\n",
    "\n",
    "# Generar una matriz de datos con la correlación deseada\n",
    "# Utilizamos una matriz de covarianza para generar los datos\n",
    "rho = 0.84 + 0.02\n",
    "cov_matrix = np.array([[1, rho], [rho, 1]])\n",
    "\n",
    "# Generar datos para papas con la correlación deseada\n",
    "datos = np.random.multivariate_normal([50, 50], cov_matrix, size=n)\n",
    "\n",
    "# Crear un DataFrame\n",
    "df = pd.DataFrame(datos, columns=['Consumo_Hamburguesas', 'Consumo_Papas'])\n",
    "\n",
    "# Verificar la correlación\n",
    "correlacion = df['Consumo_Hamburguesas'].corr(df['Consumo_Papas'])\n",
    "\n",
    "df.head()"
   ]
  },
  {
   "cell_type": "code",
   "execution_count": 38,
   "metadata": {},
   "outputs": [
    {
     "name": "stdout",
     "output_type": "stream",
     "text": [
      "\n",
      "Correlación entre Consumo_Hamburguesas y Consumo_Papas: 0.84\n"
     ]
    }
   ],
   "source": [
    "print(f\"\\nCorrelación entre Consumo_Hamburguesas y Consumo_Papas: {correlacion:.2f}\")"
   ]
  },
  {
   "cell_type": "code",
   "execution_count": 39,
   "metadata": {},
   "outputs": [
    {
     "data": {
      "text/html": [
       "<div>\n",
       "<style scoped>\n",
       "    .dataframe tbody tr th:only-of-type {\n",
       "        vertical-align: middle;\n",
       "    }\n",
       "\n",
       "    .dataframe tbody tr th {\n",
       "        vertical-align: top;\n",
       "    }\n",
       "\n",
       "    .dataframe thead th {\n",
       "        text-align: right;\n",
       "    }\n",
       "</style>\n",
       "<table border=\"1\" class=\"dataframe\">\n",
       "  <thead>\n",
       "    <tr style=\"text-align: right;\">\n",
       "      <th></th>\n",
       "      <th>Consumo_Hamburguesas</th>\n",
       "      <th>Consumo_Papas</th>\n",
       "      <th>Consumo_Hamburguesas+2</th>\n",
       "    </tr>\n",
       "  </thead>\n",
       "  <tbody>\n",
       "    <tr>\n",
       "      <th>0</th>\n",
       "      <td>50.317059</td>\n",
       "      <td>49.280099</td>\n",
       "      <td>52.317059</td>\n",
       "    </tr>\n",
       "    <tr>\n",
       "      <th>1</th>\n",
       "      <td>51.228772</td>\n",
       "      <td>51.332941</td>\n",
       "      <td>53.228772</td>\n",
       "    </tr>\n",
       "    <tr>\n",
       "      <th>2</th>\n",
       "      <td>49.242509</td>\n",
       "      <td>49.333188</td>\n",
       "      <td>51.242509</td>\n",
       "    </tr>\n",
       "    <tr>\n",
       "      <th>3</th>\n",
       "      <td>50.191192</td>\n",
       "      <td>50.031863</td>\n",
       "      <td>52.191192</td>\n",
       "    </tr>\n",
       "    <tr>\n",
       "      <th>4</th>\n",
       "      <td>51.616288</td>\n",
       "      <td>51.235382</td>\n",
       "      <td>53.616288</td>\n",
       "    </tr>\n",
       "  </tbody>\n",
       "</table>\n",
       "</div>"
      ],
      "text/plain": [
       "   Consumo_Hamburguesas  Consumo_Papas  Consumo_Hamburguesas+2\n",
       "0             50.317059      49.280099               52.317059\n",
       "1             51.228772      51.332941               53.228772\n",
       "2             49.242509      49.333188               51.242509\n",
       "3             50.191192      50.031863               52.191192\n",
       "4             51.616288      51.235382               53.616288"
      ]
     },
     "execution_count": 39,
     "metadata": {},
     "output_type": "execute_result"
    }
   ],
   "source": [
    "# Agregar 2 unidades\n",
    "df['Consumo_Hamburguesas+2'] = df['Consumo_Hamburguesas'] + 2\n",
    "df.head(5) "
   ]
  },
  {
   "cell_type": "code",
   "execution_count": 40,
   "metadata": {},
   "outputs": [
    {
     "name": "stdout",
     "output_type": "stream",
     "text": [
      "\n",
      "Correlación entre Consumo_Hamburguesas y Consumo_Papas: 0.84\n"
     ]
    }
   ],
   "source": [
    "# Verificar la correlación\n",
    "correlacion = df['Consumo_Hamburguesas+2'].corr(df['Consumo_Papas'])\n",
    "print(f\"\\nCorrelación entre Consumo_Hamburguesas y Consumo_Papas: {correlacion:.2f}\")"
   ]
  },
  {
   "cell_type": "markdown",
   "metadata": {},
   "source": [
    "Al sumar una constante a todos los datos, la correlación no cambia. Esto se puede confirmar con la experimentación. \n",
    "\n",
    "<span style=\"color: green;\">Por lo tanto, el inciso b es la respuesta es correcta.</span>\n"
   ]
  },
  {
   "cell_type": "markdown",
   "metadata": {},
   "source": [
    "9. Su colega y usted han construido un intervalo de $100(1 - \\alpha)$ % de confianza y consideran que es demasiado amplio para fines prácticos, por lo que deciden hacerlo más angosto. Para tal propósito, usted propone disminuir el tamaño de la muestra, mientras que su colega sugiere disminuir el nivel de confianza.\n",
    "\n",
    "Entonces:\n",
    "\n",
    "a) Su colega y usted tienen razón.\n",
    "\n",
    "b) Ni su colega ni usted tienen razón.\n",
    "\n",
    "c) Su colega está incorrecto y usted tiene razón.\n",
    "\n",
    "d) Su colega está incorrecto, pero usted no.\n",
    "    \n",
    "e) Su colega está en lo correcto, pero usted no.\n",
    "\n",
    "Al disminuir el rango de $\\alpha$, es decir: el nivel de confianza. Lo que se logra es flexibilizar los datos y permitir la entrada de un rango mayor de datos que serán permisibles a la hora de hacer la prueba de hipótesis.\n",
    "\n",
    "<span style=\"color: green;\">Por lo tanto, esta respuesta es correcta.</span>\n"
   ]
  },
  {
   "cell_type": "markdown",
   "metadata": {},
   "source": [
    "10. Si la región de rechazo para la diferencia de medias $ \\mu_X - \\mu_Y $ es $\\{ \\bar{X} - \\bar{Y} \\leq k \\}$, ¿Cuál de las siguientes parejas de hipótesis es la que podría estar siendo contrastada?\n",
    "   \n",
    "      a) $ H_0: \\mu_X - \\mu_Y = 3 \\text{ vs } H_a: \\mu_X - \\mu_Y \\neq 3 $\n",
    "\n",
    "      b) $ H_0: \\mu_X - \\mu_Y = 7 \\text{ vs } H_a: \\mu_X - \\mu_Y = 4 $\n",
    "\n",
    "      c) $ H_0: \\mu_X - \\mu_Y = 3 \\text{ vs } H_a: \\mu_X - \\mu_Y \\geq 3 $\n",
    "\n",
    "      Para este tipo de análisis, se busca que la región de rechazo dada sea correspondiente a una prueba de una cola. \n",
    "\n",
    "      <span style=\"color: green;\">Por lo tanto, esta respuesta es correcta.</span>\n",
    "      \n",
    "      d) Ninguna de las anteriores\n"
   ]
  }
 ],
 "metadata": {
  "kernelspec": {
   "display_name": "mcd_econometrics",
   "language": "python",
   "name": "python3"
  },
  "language_info": {
   "codemirror_mode": {
    "name": "ipython",
    "version": 3
   },
   "file_extension": ".py",
   "mimetype": "text/x-python",
   "name": "python",
   "nbconvert_exporter": "python",
   "pygments_lexer": "ipython3",
   "version": "3.11.5"
  }
 },
 "nbformat": 4,
 "nbformat_minor": 2
}
