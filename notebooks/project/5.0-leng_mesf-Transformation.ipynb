{
 "cells": [
  {
   "cell_type": "markdown",
   "metadata": {},
   "source": [
    "# Auto reload modules"
   ]
  },
  {
   "cell_type": "code",
   "execution_count": 146,
   "metadata": {},
   "outputs": [
    {
     "name": "stdout",
     "output_type": "stream",
     "text": [
      "The autoreload extension is already loaded. To reload it, use:\n",
      "  %reload_ext autoreload\n"
     ]
    }
   ],
   "source": [
    "%load_ext autoreload\n",
    "%autoreload 2"
   ]
  },
  {
   "cell_type": "code",
   "execution_count": 147,
   "metadata": {},
   "outputs": [],
   "source": [
    "from statsmodels.stats.outliers_influence import variance_inflation_factor\n",
    "from sklearn.preprocessing import StandardScaler\n",
    "import pandas as pd\n",
    "import numpy as np\n",
    "import fs"
   ]
  },
  {
   "cell_type": "code",
   "execution_count": 148,
   "metadata": {},
   "outputs": [],
   "source": [
    "ITNERIM_DIR = fs.open_fs(\"../../data/interim/project\")\n",
    "CARS_CLEAN_CSV_DIR = ITNERIM_DIR.getsyspath(\"car_dataframe_clean.csv\")\n",
    "\n",
    "PROCESSED_DIR = fs.open_fs(\"../../data/processed/project\")\n",
    "CARS_PROCESSED_CSV_DIR = PROCESSED_DIR.getsyspath(\"car_dataframe_processed.csv\")"
   ]
  },
  {
   "cell_type": "code",
   "execution_count": 149,
   "metadata": {},
   "outputs": [],
   "source": [
    "df = pd.read_csv(CARS_CLEAN_CSV_DIR)"
   ]
  },
  {
   "cell_type": "code",
   "execution_count": 150,
   "metadata": {},
   "outputs": [
    {
     "data": {
      "text/plain": [
       "Index(['fuel_consumption_km_l', 'traccion', 'transmision', 'horsepower',\n",
       "       'fuel_type', 'displacement', 'gears', 'engine_type', 'torque', 'turbo',\n",
       "       'brand', 'age', 'body_type'],\n",
       "      dtype='object')"
      ]
     },
     "execution_count": 150,
     "metadata": {},
     "output_type": "execute_result"
    }
   ],
   "source": [
    "df.columns"
   ]
  },
  {
   "cell_type": "code",
   "execution_count": 151,
   "metadata": {},
   "outputs": [
    {
     "data": {
      "text/html": [
       "<div>\n",
       "<style scoped>\n",
       "    .dataframe tbody tr th:only-of-type {\n",
       "        vertical-align: middle;\n",
       "    }\n",
       "\n",
       "    .dataframe tbody tr th {\n",
       "        vertical-align: top;\n",
       "    }\n",
       "\n",
       "    .dataframe thead th {\n",
       "        text-align: right;\n",
       "    }\n",
       "</style>\n",
       "<table border=\"1\" class=\"dataframe\">\n",
       "  <thead>\n",
       "    <tr style=\"text-align: right;\">\n",
       "      <th></th>\n",
       "      <th>fuel_consumption_km_l</th>\n",
       "      <th>traccion</th>\n",
       "      <th>transmision</th>\n",
       "      <th>horsepower</th>\n",
       "      <th>fuel_type</th>\n",
       "      <th>displacement</th>\n",
       "      <th>gears</th>\n",
       "      <th>engine_type</th>\n",
       "      <th>torque</th>\n",
       "      <th>turbo</th>\n",
       "      <th>brand</th>\n",
       "      <th>age</th>\n",
       "      <th>body_type</th>\n",
       "    </tr>\n",
       "  </thead>\n",
       "  <tbody>\n",
       "    <tr>\n",
       "      <th>0</th>\n",
       "      <td>7.0</td>\n",
       "      <td>4x2</td>\n",
       "      <td>Automático</td>\n",
       "      <td>449</td>\n",
       "      <td>Estándar</td>\n",
       "      <td>3.0</td>\n",
       "      <td>7.0</td>\n",
       "      <td>Combustión</td>\n",
       "      <td>516</td>\n",
       "      <td>Sí</td>\n",
       "      <td>Mercedes Benz</td>\n",
       "      <td>9</td>\n",
       "      <td>Sedan</td>\n",
       "    </tr>\n",
       "    <tr>\n",
       "      <th>1</th>\n",
       "      <td>10.0</td>\n",
       "      <td>4x4</td>\n",
       "      <td>Automático</td>\n",
       "      <td>310</td>\n",
       "      <td>Estándar</td>\n",
       "      <td>3.0</td>\n",
       "      <td>8.0</td>\n",
       "      <td>Combustión</td>\n",
       "      <td>325</td>\n",
       "      <td>Sí</td>\n",
       "      <td>Audi</td>\n",
       "      <td>7</td>\n",
       "      <td>Sedan</td>\n",
       "    </tr>\n",
       "    <tr>\n",
       "      <th>2</th>\n",
       "      <td>11.0</td>\n",
       "      <td>4x4</td>\n",
       "      <td>Automático</td>\n",
       "      <td>300</td>\n",
       "      <td>Estándar</td>\n",
       "      <td>2.0</td>\n",
       "      <td>8.0</td>\n",
       "      <td>Combustión</td>\n",
       "      <td>295</td>\n",
       "      <td>Sí</td>\n",
       "      <td>Jaguar Xe</td>\n",
       "      <td>6</td>\n",
       "      <td>Sedan</td>\n",
       "    </tr>\n",
       "    <tr>\n",
       "      <th>3</th>\n",
       "      <td>17.0</td>\n",
       "      <td>4x2</td>\n",
       "      <td>Automático</td>\n",
       "      <td>150</td>\n",
       "      <td>Estándar</td>\n",
       "      <td>1.4</td>\n",
       "      <td>7.0</td>\n",
       "      <td>Combustión</td>\n",
       "      <td>148</td>\n",
       "      <td>Sí</td>\n",
       "      <td>Seat</td>\n",
       "      <td>6</td>\n",
       "      <td>Suv</td>\n",
       "    </tr>\n",
       "    <tr>\n",
       "      <th>4</th>\n",
       "      <td>12.0</td>\n",
       "      <td>4x4</td>\n",
       "      <td>Automático</td>\n",
       "      <td>320</td>\n",
       "      <td>Gasolina</td>\n",
       "      <td>2.0</td>\n",
       "      <td>8.0</td>\n",
       "      <td>Combustión</td>\n",
       "      <td>295</td>\n",
       "      <td>Sí</td>\n",
       "      <td>Volvo</td>\n",
       "      <td>7</td>\n",
       "      <td>Suv</td>\n",
       "    </tr>\n",
       "    <tr>\n",
       "      <th>...</th>\n",
       "      <td>...</td>\n",
       "      <td>...</td>\n",
       "      <td>...</td>\n",
       "      <td>...</td>\n",
       "      <td>...</td>\n",
       "      <td>...</td>\n",
       "      <td>...</td>\n",
       "      <td>...</td>\n",
       "      <td>...</td>\n",
       "      <td>...</td>\n",
       "      <td>...</td>\n",
       "      <td>...</td>\n",
       "      <td>...</td>\n",
       "    </tr>\n",
       "    <tr>\n",
       "      <th>1230</th>\n",
       "      <td>16.0</td>\n",
       "      <td>4x2</td>\n",
       "      <td>Manual</td>\n",
       "      <td>140</td>\n",
       "      <td>Gasolina</td>\n",
       "      <td>1.8</td>\n",
       "      <td>5.0</td>\n",
       "      <td>Combustión</td>\n",
       "      <td>129</td>\n",
       "      <td>No</td>\n",
       "      <td>Chevrolet</td>\n",
       "      <td>10</td>\n",
       "      <td>Suv</td>\n",
       "    </tr>\n",
       "    <tr>\n",
       "      <th>1231</th>\n",
       "      <td>17.0</td>\n",
       "      <td>4x2</td>\n",
       "      <td>Manual</td>\n",
       "      <td>107</td>\n",
       "      <td>Gasolina</td>\n",
       "      <td>1.6</td>\n",
       "      <td>5.0</td>\n",
       "      <td>Combustión</td>\n",
       "      <td>104</td>\n",
       "      <td>No</td>\n",
       "      <td>Chevrolet</td>\n",
       "      <td>3</td>\n",
       "      <td>Sedan</td>\n",
       "    </tr>\n",
       "    <tr>\n",
       "      <th>1232</th>\n",
       "      <td>17.0</td>\n",
       "      <td>4x2</td>\n",
       "      <td>Manual</td>\n",
       "      <td>100</td>\n",
       "      <td>Gasolina</td>\n",
       "      <td>1.6</td>\n",
       "      <td>5.0</td>\n",
       "      <td>Combustión</td>\n",
       "      <td>105</td>\n",
       "      <td>No</td>\n",
       "      <td>Volkswagen</td>\n",
       "      <td>6</td>\n",
       "      <td>Hatchback</td>\n",
       "    </tr>\n",
       "    <tr>\n",
       "      <th>1233</th>\n",
       "      <td>14.0</td>\n",
       "      <td>4x2</td>\n",
       "      <td>Manual</td>\n",
       "      <td>100</td>\n",
       "      <td>Gasolina</td>\n",
       "      <td>1.6</td>\n",
       "      <td>5.0</td>\n",
       "      <td>Combustión</td>\n",
       "      <td>105</td>\n",
       "      <td>No</td>\n",
       "      <td>Volkswagen</td>\n",
       "      <td>9</td>\n",
       "      <td>Sedan</td>\n",
       "    </tr>\n",
       "    <tr>\n",
       "      <th>1234</th>\n",
       "      <td>14.0</td>\n",
       "      <td>4x2</td>\n",
       "      <td>Manual</td>\n",
       "      <td>105</td>\n",
       "      <td>Estándar</td>\n",
       "      <td>1.6</td>\n",
       "      <td>5.0</td>\n",
       "      <td>Combustión</td>\n",
       "      <td>107</td>\n",
       "      <td>No</td>\n",
       "      <td>Renault</td>\n",
       "      <td>7</td>\n",
       "      <td>Sedan</td>\n",
       "    </tr>\n",
       "  </tbody>\n",
       "</table>\n",
       "<p>1235 rows × 13 columns</p>\n",
       "</div>"
      ],
      "text/plain": [
       "      fuel_consumption_km_l traccion transmision  horsepower fuel_type  \\\n",
       "0                       7.0      4x2  Automático         449  Estándar   \n",
       "1                      10.0      4x4  Automático         310  Estándar   \n",
       "2                      11.0      4x4  Automático         300  Estándar   \n",
       "3                      17.0      4x2  Automático         150  Estándar   \n",
       "4                      12.0      4x4  Automático         320  Gasolina   \n",
       "...                     ...      ...         ...         ...       ...   \n",
       "1230                   16.0      4x2      Manual         140  Gasolina   \n",
       "1231                   17.0      4x2      Manual         107  Gasolina   \n",
       "1232                   17.0      4x2      Manual         100  Gasolina   \n",
       "1233                   14.0      4x2      Manual         100  Gasolina   \n",
       "1234                   14.0      4x2      Manual         105  Estándar   \n",
       "\n",
       "      displacement  gears engine_type  torque turbo          brand  age  \\\n",
       "0              3.0    7.0  Combustión     516    Sí  Mercedes Benz    9   \n",
       "1              3.0    8.0  Combustión     325    Sí           Audi    7   \n",
       "2              2.0    8.0  Combustión     295    Sí      Jaguar Xe    6   \n",
       "3              1.4    7.0  Combustión     148    Sí           Seat    6   \n",
       "4              2.0    8.0  Combustión     295    Sí          Volvo    7   \n",
       "...            ...    ...         ...     ...   ...            ...  ...   \n",
       "1230           1.8    5.0  Combustión     129    No      Chevrolet   10   \n",
       "1231           1.6    5.0  Combustión     104    No      Chevrolet    3   \n",
       "1232           1.6    5.0  Combustión     105    No     Volkswagen    6   \n",
       "1233           1.6    5.0  Combustión     105    No     Volkswagen    9   \n",
       "1234           1.6    5.0  Combustión     107    No        Renault    7   \n",
       "\n",
       "      body_type  \n",
       "0         Sedan  \n",
       "1         Sedan  \n",
       "2         Sedan  \n",
       "3           Suv  \n",
       "4           Suv  \n",
       "...         ...  \n",
       "1230        Suv  \n",
       "1231      Sedan  \n",
       "1232  Hatchback  \n",
       "1233      Sedan  \n",
       "1234      Sedan  \n",
       "\n",
       "[1235 rows x 13 columns]"
      ]
     },
     "execution_count": 151,
     "metadata": {},
     "output_type": "execute_result"
    }
   ],
   "source": [
    "df"
   ]
  },
  {
   "cell_type": "code",
   "execution_count": 152,
   "metadata": {},
   "outputs": [
    {
     "data": {
      "text/plain": [
       "count    1235.000000\n",
       "mean        2.150850\n",
       "std         0.917269\n",
       "min         1.000000\n",
       "25%         1.600000\n",
       "50%         2.000000\n",
       "75%         2.500000\n",
       "max         6.200000\n",
       "Name: displacement, dtype: float64"
      ]
     },
     "execution_count": 152,
     "metadata": {},
     "output_type": "execute_result"
    }
   ],
   "source": [
    "df['displacement'].describe()"
   ]
  },
  {
   "cell_type": "code",
   "execution_count": 153,
   "metadata": {},
   "outputs": [],
   "source": [
    "df2 = df.copy()"
   ]
  },
  {
   "cell_type": "markdown",
   "metadata": {},
   "source": [
    "Transformando la variable de horsepower"
   ]
  },
  {
   "cell_type": "code",
   "execution_count": 154,
   "metadata": {},
   "outputs": [],
   "source": [
    "df2['horsepower_log'] = np.log(df2['horsepower'])"
   ]
  },
  {
   "cell_type": "code",
   "execution_count": 155,
   "metadata": {},
   "outputs": [
    {
     "data": {
      "text/plain": [
       "0.9528872161981741"
      ]
     },
     "execution_count": 155,
     "metadata": {},
     "output_type": "execute_result"
    }
   ],
   "source": [
    "df2['horsepower'].corr(df2['torque'])"
   ]
  },
  {
   "cell_type": "code",
   "execution_count": 156,
   "metadata": {},
   "outputs": [
    {
     "data": {
      "text/plain": [
       "0.9345332239055465"
      ]
     },
     "execution_count": 156,
     "metadata": {},
     "output_type": "execute_result"
    }
   ],
   "source": [
    "df2['horsepower_log'].corr(df2['torque'])"
   ]
  },
  {
   "cell_type": "markdown",
   "metadata": {},
   "source": [
    "Transformando la variable de torque"
   ]
  },
  {
   "cell_type": "code",
   "execution_count": 157,
   "metadata": {},
   "outputs": [],
   "source": [
    "df2['torque_log'] = np.log(df2['torque'])"
   ]
  },
  {
   "cell_type": "code",
   "execution_count": 158,
   "metadata": {},
   "outputs": [
    {
     "data": {
      "text/plain": [
       "0.9221878868936285"
      ]
     },
     "execution_count": 158,
     "metadata": {},
     "output_type": "execute_result"
    }
   ],
   "source": [
    "df2['torque_log'].corr(df2['horsepower'])"
   ]
  },
  {
   "cell_type": "markdown",
   "metadata": {},
   "source": [
    "Probando para ambos"
   ]
  },
  {
   "cell_type": "code",
   "execution_count": 159,
   "metadata": {},
   "outputs": [
    {
     "data": {
      "text/plain": [
       "0.9559798921075695"
      ]
     },
     "execution_count": 159,
     "metadata": {},
     "output_type": "execute_result"
    }
   ],
   "source": [
    "df2['torque_log'].corr(df2['horsepower_log'])"
   ]
  },
  {
   "cell_type": "markdown",
   "metadata": {},
   "source": [
    "Probando con polinomios"
   ]
  },
  {
   "cell_type": "code",
   "execution_count": 160,
   "metadata": {},
   "outputs": [],
   "source": [
    "df2['torque_^2'] = df2['torque']**2\n",
    "df2['horsepower_^2'] = df2['horsepower']**2"
   ]
  },
  {
   "cell_type": "code",
   "execution_count": 161,
   "metadata": {},
   "outputs": [
    {
     "data": {
      "text/plain": [
       "0.919918819931236"
      ]
     },
     "execution_count": 161,
     "metadata": {},
     "output_type": "execute_result"
    }
   ],
   "source": [
    "df2['torque_^2'].corr(df2['horsepower'])"
   ]
  },
  {
   "cell_type": "code",
   "execution_count": 162,
   "metadata": {},
   "outputs": [],
   "source": [
    "df2['torque_^3'] = df2['torque']**3\n",
    "df2['horsepower3'] = df2['horsepower']**3"
   ]
  },
  {
   "cell_type": "code",
   "execution_count": 163,
   "metadata": {},
   "outputs": [
    {
     "data": {
      "text/plain": [
       "0.8364310596772202"
      ]
     },
     "execution_count": 163,
     "metadata": {},
     "output_type": "execute_result"
    }
   ],
   "source": [
    "df2['torque_^3'].corr(df2['horsepower'])"
   ]
  },
  {
   "cell_type": "code",
   "execution_count": 164,
   "metadata": {},
   "outputs": [
    {
     "data": {
      "text/plain": [
       "0.7443882863942638"
      ]
     },
     "execution_count": 164,
     "metadata": {},
     "output_type": "execute_result"
    }
   ],
   "source": [
    "df2['horsepower3'].corr(df2['torque_log'])"
   ]
  },
  {
   "cell_type": "markdown",
   "metadata": {},
   "source": [
    "Realizando pruebas VIF"
   ]
  },
  {
   "cell_type": "code",
   "execution_count": 165,
   "metadata": {},
   "outputs": [
    {
     "data": {
      "text/html": [
       "<div>\n",
       "<style scoped>\n",
       "    .dataframe tbody tr th:only-of-type {\n",
       "        vertical-align: middle;\n",
       "    }\n",
       "\n",
       "    .dataframe tbody tr th {\n",
       "        vertical-align: top;\n",
       "    }\n",
       "\n",
       "    .dataframe thead th {\n",
       "        text-align: right;\n",
       "    }\n",
       "</style>\n",
       "<table border=\"1\" class=\"dataframe\">\n",
       "  <thead>\n",
       "    <tr style=\"text-align: right;\">\n",
       "      <th></th>\n",
       "      <th>fuel_consumption_km_l</th>\n",
       "      <th>traccion</th>\n",
       "      <th>transmision</th>\n",
       "      <th>horsepower</th>\n",
       "      <th>fuel_type</th>\n",
       "      <th>displacement</th>\n",
       "      <th>gears</th>\n",
       "      <th>engine_type</th>\n",
       "      <th>torque</th>\n",
       "      <th>turbo</th>\n",
       "      <th>brand</th>\n",
       "      <th>age</th>\n",
       "      <th>body_type</th>\n",
       "      <th>horsepower_log</th>\n",
       "      <th>torque_log</th>\n",
       "      <th>torque_^2</th>\n",
       "      <th>horsepower_^2</th>\n",
       "      <th>torque_^3</th>\n",
       "      <th>horsepower3</th>\n",
       "    </tr>\n",
       "  </thead>\n",
       "  <tbody>\n",
       "    <tr>\n",
       "      <th>0</th>\n",
       "      <td>7.0</td>\n",
       "      <td>4x2</td>\n",
       "      <td>Automático</td>\n",
       "      <td>449</td>\n",
       "      <td>Estándar</td>\n",
       "      <td>3.0</td>\n",
       "      <td>7.0</td>\n",
       "      <td>Combustión</td>\n",
       "      <td>516</td>\n",
       "      <td>Sí</td>\n",
       "      <td>Mercedes Benz</td>\n",
       "      <td>9</td>\n",
       "      <td>Sedan</td>\n",
       "      <td>6.107023</td>\n",
       "      <td>6.246107</td>\n",
       "      <td>266256</td>\n",
       "      <td>201601</td>\n",
       "      <td>137388096</td>\n",
       "      <td>90518849</td>\n",
       "    </tr>\n",
       "    <tr>\n",
       "      <th>1</th>\n",
       "      <td>10.0</td>\n",
       "      <td>4x4</td>\n",
       "      <td>Automático</td>\n",
       "      <td>310</td>\n",
       "      <td>Estándar</td>\n",
       "      <td>3.0</td>\n",
       "      <td>8.0</td>\n",
       "      <td>Combustión</td>\n",
       "      <td>325</td>\n",
       "      <td>Sí</td>\n",
       "      <td>Audi</td>\n",
       "      <td>7</td>\n",
       "      <td>Sedan</td>\n",
       "      <td>5.736572</td>\n",
       "      <td>5.783825</td>\n",
       "      <td>105625</td>\n",
       "      <td>96100</td>\n",
       "      <td>34328125</td>\n",
       "      <td>29791000</td>\n",
       "    </tr>\n",
       "    <tr>\n",
       "      <th>2</th>\n",
       "      <td>11.0</td>\n",
       "      <td>4x4</td>\n",
       "      <td>Automático</td>\n",
       "      <td>300</td>\n",
       "      <td>Estándar</td>\n",
       "      <td>2.0</td>\n",
       "      <td>8.0</td>\n",
       "      <td>Combustión</td>\n",
       "      <td>295</td>\n",
       "      <td>Sí</td>\n",
       "      <td>Jaguar Xe</td>\n",
       "      <td>6</td>\n",
       "      <td>Sedan</td>\n",
       "      <td>5.703782</td>\n",
       "      <td>5.686975</td>\n",
       "      <td>87025</td>\n",
       "      <td>90000</td>\n",
       "      <td>25672375</td>\n",
       "      <td>27000000</td>\n",
       "    </tr>\n",
       "    <tr>\n",
       "      <th>3</th>\n",
       "      <td>17.0</td>\n",
       "      <td>4x2</td>\n",
       "      <td>Automático</td>\n",
       "      <td>150</td>\n",
       "      <td>Estándar</td>\n",
       "      <td>1.4</td>\n",
       "      <td>7.0</td>\n",
       "      <td>Combustión</td>\n",
       "      <td>148</td>\n",
       "      <td>Sí</td>\n",
       "      <td>Seat</td>\n",
       "      <td>6</td>\n",
       "      <td>Suv</td>\n",
       "      <td>5.010635</td>\n",
       "      <td>4.997212</td>\n",
       "      <td>21904</td>\n",
       "      <td>22500</td>\n",
       "      <td>3241792</td>\n",
       "      <td>3375000</td>\n",
       "    </tr>\n",
       "    <tr>\n",
       "      <th>4</th>\n",
       "      <td>12.0</td>\n",
       "      <td>4x4</td>\n",
       "      <td>Automático</td>\n",
       "      <td>320</td>\n",
       "      <td>Gasolina</td>\n",
       "      <td>2.0</td>\n",
       "      <td>8.0</td>\n",
       "      <td>Combustión</td>\n",
       "      <td>295</td>\n",
       "      <td>Sí</td>\n",
       "      <td>Volvo</td>\n",
       "      <td>7</td>\n",
       "      <td>Suv</td>\n",
       "      <td>5.768321</td>\n",
       "      <td>5.686975</td>\n",
       "      <td>87025</td>\n",
       "      <td>102400</td>\n",
       "      <td>25672375</td>\n",
       "      <td>32768000</td>\n",
       "    </tr>\n",
       "    <tr>\n",
       "      <th>...</th>\n",
       "      <td>...</td>\n",
       "      <td>...</td>\n",
       "      <td>...</td>\n",
       "      <td>...</td>\n",
       "      <td>...</td>\n",
       "      <td>...</td>\n",
       "      <td>...</td>\n",
       "      <td>...</td>\n",
       "      <td>...</td>\n",
       "      <td>...</td>\n",
       "      <td>...</td>\n",
       "      <td>...</td>\n",
       "      <td>...</td>\n",
       "      <td>...</td>\n",
       "      <td>...</td>\n",
       "      <td>...</td>\n",
       "      <td>...</td>\n",
       "      <td>...</td>\n",
       "      <td>...</td>\n",
       "    </tr>\n",
       "    <tr>\n",
       "      <th>1230</th>\n",
       "      <td>16.0</td>\n",
       "      <td>4x2</td>\n",
       "      <td>Manual</td>\n",
       "      <td>140</td>\n",
       "      <td>Gasolina</td>\n",
       "      <td>1.8</td>\n",
       "      <td>5.0</td>\n",
       "      <td>Combustión</td>\n",
       "      <td>129</td>\n",
       "      <td>No</td>\n",
       "      <td>Chevrolet</td>\n",
       "      <td>10</td>\n",
       "      <td>Suv</td>\n",
       "      <td>4.941642</td>\n",
       "      <td>4.859812</td>\n",
       "      <td>16641</td>\n",
       "      <td>19600</td>\n",
       "      <td>2146689</td>\n",
       "      <td>2744000</td>\n",
       "    </tr>\n",
       "    <tr>\n",
       "      <th>1231</th>\n",
       "      <td>17.0</td>\n",
       "      <td>4x2</td>\n",
       "      <td>Manual</td>\n",
       "      <td>107</td>\n",
       "      <td>Gasolina</td>\n",
       "      <td>1.6</td>\n",
       "      <td>5.0</td>\n",
       "      <td>Combustión</td>\n",
       "      <td>104</td>\n",
       "      <td>No</td>\n",
       "      <td>Chevrolet</td>\n",
       "      <td>3</td>\n",
       "      <td>Sedan</td>\n",
       "      <td>4.672829</td>\n",
       "      <td>4.644391</td>\n",
       "      <td>10816</td>\n",
       "      <td>11449</td>\n",
       "      <td>1124864</td>\n",
       "      <td>1225043</td>\n",
       "    </tr>\n",
       "    <tr>\n",
       "      <th>1232</th>\n",
       "      <td>17.0</td>\n",
       "      <td>4x2</td>\n",
       "      <td>Manual</td>\n",
       "      <td>100</td>\n",
       "      <td>Gasolina</td>\n",
       "      <td>1.6</td>\n",
       "      <td>5.0</td>\n",
       "      <td>Combustión</td>\n",
       "      <td>105</td>\n",
       "      <td>No</td>\n",
       "      <td>Volkswagen</td>\n",
       "      <td>6</td>\n",
       "      <td>Hatchback</td>\n",
       "      <td>4.605170</td>\n",
       "      <td>4.653960</td>\n",
       "      <td>11025</td>\n",
       "      <td>10000</td>\n",
       "      <td>1157625</td>\n",
       "      <td>1000000</td>\n",
       "    </tr>\n",
       "    <tr>\n",
       "      <th>1233</th>\n",
       "      <td>14.0</td>\n",
       "      <td>4x2</td>\n",
       "      <td>Manual</td>\n",
       "      <td>100</td>\n",
       "      <td>Gasolina</td>\n",
       "      <td>1.6</td>\n",
       "      <td>5.0</td>\n",
       "      <td>Combustión</td>\n",
       "      <td>105</td>\n",
       "      <td>No</td>\n",
       "      <td>Volkswagen</td>\n",
       "      <td>9</td>\n",
       "      <td>Sedan</td>\n",
       "      <td>4.605170</td>\n",
       "      <td>4.653960</td>\n",
       "      <td>11025</td>\n",
       "      <td>10000</td>\n",
       "      <td>1157625</td>\n",
       "      <td>1000000</td>\n",
       "    </tr>\n",
       "    <tr>\n",
       "      <th>1234</th>\n",
       "      <td>14.0</td>\n",
       "      <td>4x2</td>\n",
       "      <td>Manual</td>\n",
       "      <td>105</td>\n",
       "      <td>Estándar</td>\n",
       "      <td>1.6</td>\n",
       "      <td>5.0</td>\n",
       "      <td>Combustión</td>\n",
       "      <td>107</td>\n",
       "      <td>No</td>\n",
       "      <td>Renault</td>\n",
       "      <td>7</td>\n",
       "      <td>Sedan</td>\n",
       "      <td>4.653960</td>\n",
       "      <td>4.672829</td>\n",
       "      <td>11449</td>\n",
       "      <td>11025</td>\n",
       "      <td>1225043</td>\n",
       "      <td>1157625</td>\n",
       "    </tr>\n",
       "  </tbody>\n",
       "</table>\n",
       "<p>1235 rows × 19 columns</p>\n",
       "</div>"
      ],
      "text/plain": [
       "      fuel_consumption_km_l traccion transmision  horsepower fuel_type  \\\n",
       "0                       7.0      4x2  Automático         449  Estándar   \n",
       "1                      10.0      4x4  Automático         310  Estándar   \n",
       "2                      11.0      4x4  Automático         300  Estándar   \n",
       "3                      17.0      4x2  Automático         150  Estándar   \n",
       "4                      12.0      4x4  Automático         320  Gasolina   \n",
       "...                     ...      ...         ...         ...       ...   \n",
       "1230                   16.0      4x2      Manual         140  Gasolina   \n",
       "1231                   17.0      4x2      Manual         107  Gasolina   \n",
       "1232                   17.0      4x2      Manual         100  Gasolina   \n",
       "1233                   14.0      4x2      Manual         100  Gasolina   \n",
       "1234                   14.0      4x2      Manual         105  Estándar   \n",
       "\n",
       "      displacement  gears engine_type  torque turbo          brand  age  \\\n",
       "0              3.0    7.0  Combustión     516    Sí  Mercedes Benz    9   \n",
       "1              3.0    8.0  Combustión     325    Sí           Audi    7   \n",
       "2              2.0    8.0  Combustión     295    Sí      Jaguar Xe    6   \n",
       "3              1.4    7.0  Combustión     148    Sí           Seat    6   \n",
       "4              2.0    8.0  Combustión     295    Sí          Volvo    7   \n",
       "...            ...    ...         ...     ...   ...            ...  ...   \n",
       "1230           1.8    5.0  Combustión     129    No      Chevrolet   10   \n",
       "1231           1.6    5.0  Combustión     104    No      Chevrolet    3   \n",
       "1232           1.6    5.0  Combustión     105    No     Volkswagen    6   \n",
       "1233           1.6    5.0  Combustión     105    No     Volkswagen    9   \n",
       "1234           1.6    5.0  Combustión     107    No        Renault    7   \n",
       "\n",
       "      body_type  horsepower_log  torque_log  torque_^2  horsepower_^2  \\\n",
       "0         Sedan        6.107023    6.246107     266256         201601   \n",
       "1         Sedan        5.736572    5.783825     105625          96100   \n",
       "2         Sedan        5.703782    5.686975      87025          90000   \n",
       "3           Suv        5.010635    4.997212      21904          22500   \n",
       "4           Suv        5.768321    5.686975      87025         102400   \n",
       "...         ...             ...         ...        ...            ...   \n",
       "1230        Suv        4.941642    4.859812      16641          19600   \n",
       "1231      Sedan        4.672829    4.644391      10816          11449   \n",
       "1232  Hatchback        4.605170    4.653960      11025          10000   \n",
       "1233      Sedan        4.605170    4.653960      11025          10000   \n",
       "1234      Sedan        4.653960    4.672829      11449          11025   \n",
       "\n",
       "      torque_^3  horsepower3  \n",
       "0     137388096     90518849  \n",
       "1      34328125     29791000  \n",
       "2      25672375     27000000  \n",
       "3       3241792      3375000  \n",
       "4      25672375     32768000  \n",
       "...         ...          ...  \n",
       "1230    2146689      2744000  \n",
       "1231    1124864      1225043  \n",
       "1232    1157625      1000000  \n",
       "1233    1157625      1000000  \n",
       "1234    1225043      1157625  \n",
       "\n",
       "[1235 rows x 19 columns]"
      ]
     },
     "execution_count": 165,
     "metadata": {},
     "output_type": "execute_result"
    }
   ],
   "source": [
    "df2"
   ]
  },
  {
   "cell_type": "code",
   "execution_count": 166,
   "metadata": {},
   "outputs": [],
   "source": [
    "X_df = df[['horsepower', 'displacement', 'gears', 'torque', 'age']]\n",
    "y_df = df['fuel_consumption_km_l']"
   ]
  },
  {
   "cell_type": "code",
   "execution_count": 167,
   "metadata": {},
   "outputs": [],
   "source": [
    "# X_df2 = df2[['horsepower', 'displacement', 'gears', 'torque', 'age', 'horsepower_log', 'torque_log', 'horsepower_^2', 'torque_^2', 'horsepower3', 'torque_^3']]\n",
    "df3 =  df2[['horsepower3', 'displacement', 'gears', 'torque_log', 'age', 'fuel_consumption_km_l']].copy()\n",
    "X_df2 = df3[['horsepower3', 'displacement', 'gears', 'torque_log', 'age']]\n",
    "y_df2 = df2['fuel_consumption_km_l']"
   ]
  },
  {
   "cell_type": "code",
   "execution_count": 168,
   "metadata": {},
   "outputs": [
    {
     "name": "stderr",
     "output_type": "stream",
     "text": [
      "C:\\Users\\Anony\\AppData\\Local\\Temp\\ipykernel_30712\\3498049791.py:1: FutureWarning: is_sparse is deprecated and will be removed in a future version. Check `isinstance(dtype, pd.SparseDtype)` instead.\n",
      "  X_df_dense = X_df.apply(lambda x: x.sparse.to_dense() if pd.api.types.is_sparse(x) else x)\n",
      "C:\\Users\\Anony\\AppData\\Local\\Temp\\ipykernel_30712\\3498049791.py:2: FutureWarning: is_sparse is deprecated and will be removed in a future version. Check `isinstance(dtype, pd.SparseDtype)` instead.\n",
      "  X_df2_dense = X_df2.apply(lambda x: x.sparse.to_dense() if pd.api.types.is_sparse(x) else x)\n"
     ]
    }
   ],
   "source": [
    "X_df_dense = X_df.apply(lambda x: x.sparse.to_dense() if pd.api.types.is_sparse(x) else x)\n",
    "X_df2_dense = X_df2.apply(lambda x: x.sparse.to_dense() if pd.api.types.is_sparse(x) else x)"
   ]
  },
  {
   "cell_type": "code",
   "execution_count": 169,
   "metadata": {},
   "outputs": [
    {
     "name": "stderr",
     "output_type": "stream",
     "text": [
      "c:\\Users\\Anony\\anaconda3\\envs\\mcd_econometrics\\Lib\\site-packages\\sklearn\\utils\\validation.py:767: FutureWarning: is_sparse is deprecated and will be removed in a future version. Check `isinstance(dtype, pd.SparseDtype)` instead.\n",
      "  if not hasattr(array, \"sparse\") and array.dtypes.apply(is_sparse).any():\n",
      "c:\\Users\\Anony\\anaconda3\\envs\\mcd_econometrics\\Lib\\site-packages\\sklearn\\utils\\validation.py:605: FutureWarning: is_sparse is deprecated and will be removed in a future version. Check `isinstance(dtype, pd.SparseDtype)` instead.\n",
      "  if is_sparse(pd_dtype):\n",
      "c:\\Users\\Anony\\anaconda3\\envs\\mcd_econometrics\\Lib\\site-packages\\sklearn\\utils\\validation.py:614: FutureWarning: is_sparse is deprecated and will be removed in a future version. Check `isinstance(dtype, pd.SparseDtype)` instead.\n",
      "  if is_sparse(pd_dtype) or not is_extension_array_dtype(pd_dtype):\n",
      "c:\\Users\\Anony\\anaconda3\\envs\\mcd_econometrics\\Lib\\site-packages\\sklearn\\utils\\validation.py:767: FutureWarning: is_sparse is deprecated and will be removed in a future version. Check `isinstance(dtype, pd.SparseDtype)` instead.\n",
      "  if not hasattr(array, \"sparse\") and array.dtypes.apply(is_sparse).any():\n",
      "c:\\Users\\Anony\\anaconda3\\envs\\mcd_econometrics\\Lib\\site-packages\\sklearn\\utils\\validation.py:605: FutureWarning: is_sparse is deprecated and will be removed in a future version. Check `isinstance(dtype, pd.SparseDtype)` instead.\n",
      "  if is_sparse(pd_dtype):\n",
      "c:\\Users\\Anony\\anaconda3\\envs\\mcd_econometrics\\Lib\\site-packages\\sklearn\\utils\\validation.py:614: FutureWarning: is_sparse is deprecated and will be removed in a future version. Check `isinstance(dtype, pd.SparseDtype)` instead.\n",
      "  if is_sparse(pd_dtype) or not is_extension_array_dtype(pd_dtype):\n",
      "c:\\Users\\Anony\\anaconda3\\envs\\mcd_econometrics\\Lib\\site-packages\\sklearn\\utils\\validation.py:767: FutureWarning: is_sparse is deprecated and will be removed in a future version. Check `isinstance(dtype, pd.SparseDtype)` instead.\n",
      "  if not hasattr(array, \"sparse\") and array.dtypes.apply(is_sparse).any():\n",
      "c:\\Users\\Anony\\anaconda3\\envs\\mcd_econometrics\\Lib\\site-packages\\sklearn\\utils\\validation.py:605: FutureWarning: is_sparse is deprecated and will be removed in a future version. Check `isinstance(dtype, pd.SparseDtype)` instead.\n",
      "  if is_sparse(pd_dtype):\n",
      "c:\\Users\\Anony\\anaconda3\\envs\\mcd_econometrics\\Lib\\site-packages\\sklearn\\utils\\validation.py:614: FutureWarning: is_sparse is deprecated and will be removed in a future version. Check `isinstance(dtype, pd.SparseDtype)` instead.\n",
      "  if is_sparse(pd_dtype) or not is_extension_array_dtype(pd_dtype):\n",
      "c:\\Users\\Anony\\anaconda3\\envs\\mcd_econometrics\\Lib\\site-packages\\sklearn\\utils\\validation.py:767: FutureWarning: is_sparse is deprecated and will be removed in a future version. Check `isinstance(dtype, pd.SparseDtype)` instead.\n",
      "  if not hasattr(array, \"sparse\") and array.dtypes.apply(is_sparse).any():\n",
      "c:\\Users\\Anony\\anaconda3\\envs\\mcd_econometrics\\Lib\\site-packages\\sklearn\\utils\\validation.py:605: FutureWarning: is_sparse is deprecated and will be removed in a future version. Check `isinstance(dtype, pd.SparseDtype)` instead.\n",
      "  if is_sparse(pd_dtype):\n",
      "c:\\Users\\Anony\\anaconda3\\envs\\mcd_econometrics\\Lib\\site-packages\\sklearn\\utils\\validation.py:614: FutureWarning: is_sparse is deprecated and will be removed in a future version. Check `isinstance(dtype, pd.SparseDtype)` instead.\n",
      "  if is_sparse(pd_dtype) or not is_extension_array_dtype(pd_dtype):\n"
     ]
    }
   ],
   "source": [
    "# Estandarización\n",
    "scaler = StandardScaler()\n",
    "X_scaled_df = scaler.fit_transform(X_df)\n",
    "X_scaled_df2 = scaler.fit_transform(X_df2)"
   ]
  },
  {
   "cell_type": "code",
   "execution_count": 170,
   "metadata": {},
   "outputs": [
    {
     "data": {
      "text/html": [
       "<div>\n",
       "<style scoped>\n",
       "    .dataframe tbody tr th:only-of-type {\n",
       "        vertical-align: middle;\n",
       "    }\n",
       "\n",
       "    .dataframe tbody tr th {\n",
       "        vertical-align: top;\n",
       "    }\n",
       "\n",
       "    .dataframe thead th {\n",
       "        text-align: right;\n",
       "    }\n",
       "</style>\n",
       "<table border=\"1\" class=\"dataframe\">\n",
       "  <thead>\n",
       "    <tr style=\"text-align: right;\">\n",
       "      <th></th>\n",
       "      <th>Feature</th>\n",
       "      <th>VIF</th>\n",
       "    </tr>\n",
       "  </thead>\n",
       "  <tbody>\n",
       "    <tr>\n",
       "      <th>0</th>\n",
       "      <td>horsepower</td>\n",
       "      <td>16.748629</td>\n",
       "    </tr>\n",
       "    <tr>\n",
       "      <th>1</th>\n",
       "      <td>displacement</td>\n",
       "      <td>4.232969</td>\n",
       "    </tr>\n",
       "    <tr>\n",
       "      <th>2</th>\n",
       "      <td>gears</td>\n",
       "      <td>1.771978</td>\n",
       "    </tr>\n",
       "    <tr>\n",
       "      <th>3</th>\n",
       "      <td>torque</td>\n",
       "      <td>11.884649</td>\n",
       "    </tr>\n",
       "    <tr>\n",
       "      <th>4</th>\n",
       "      <td>age</td>\n",
       "      <td>1.118243</td>\n",
       "    </tr>\n",
       "  </tbody>\n",
       "</table>\n",
       "</div>"
      ],
      "text/plain": [
       "        Feature        VIF\n",
       "0    horsepower  16.748629\n",
       "1  displacement   4.232969\n",
       "2         gears   1.771978\n",
       "3        torque  11.884649\n",
       "4           age   1.118243"
      ]
     },
     "execution_count": 170,
     "metadata": {},
     "output_type": "execute_result"
    }
   ],
   "source": [
    "vif_data = pd.DataFrame()\n",
    "# vif_data[\"Feature\"] = X.columns\n",
    "vif_data[\"Feature\"] = X_df.columns\n",
    "vif_data[\"VIF\"] = [variance_inflation_factor(X_scaled_df, i) for i in range(X_scaled_df.shape[1])]\n",
    "vif_data"
   ]
  },
  {
   "cell_type": "code",
   "execution_count": 171,
   "metadata": {},
   "outputs": [
    {
     "data": {
      "text/html": [
       "<div>\n",
       "<style scoped>\n",
       "    .dataframe tbody tr th:only-of-type {\n",
       "        vertical-align: middle;\n",
       "    }\n",
       "\n",
       "    .dataframe tbody tr th {\n",
       "        vertical-align: top;\n",
       "    }\n",
       "\n",
       "    .dataframe thead th {\n",
       "        text-align: right;\n",
       "    }\n",
       "</style>\n",
       "<table border=\"1\" class=\"dataframe\">\n",
       "  <thead>\n",
       "    <tr style=\"text-align: right;\">\n",
       "      <th></th>\n",
       "      <th>Feature</th>\n",
       "      <th>VIF</th>\n",
       "    </tr>\n",
       "  </thead>\n",
       "  <tbody>\n",
       "    <tr>\n",
       "      <th>0</th>\n",
       "      <td>horsepower3</td>\n",
       "      <td>3.240652</td>\n",
       "    </tr>\n",
       "    <tr>\n",
       "      <th>1</th>\n",
       "      <td>displacement</td>\n",
       "      <td>3.447780</td>\n",
       "    </tr>\n",
       "    <tr>\n",
       "      <th>2</th>\n",
       "      <td>gears</td>\n",
       "      <td>1.862727</td>\n",
       "    </tr>\n",
       "    <tr>\n",
       "      <th>3</th>\n",
       "      <td>torque_log</td>\n",
       "      <td>3.810477</td>\n",
       "    </tr>\n",
       "    <tr>\n",
       "      <th>4</th>\n",
       "      <td>age</td>\n",
       "      <td>1.109528</td>\n",
       "    </tr>\n",
       "  </tbody>\n",
       "</table>\n",
       "</div>"
      ],
      "text/plain": [
       "        Feature       VIF\n",
       "0   horsepower3  3.240652\n",
       "1  displacement  3.447780\n",
       "2         gears  1.862727\n",
       "3    torque_log  3.810477\n",
       "4           age  1.109528"
      ]
     },
     "execution_count": 171,
     "metadata": {},
     "output_type": "execute_result"
    }
   ],
   "source": [
    "vif_data = pd.DataFrame()\n",
    "# vif_data[\"Feature\"] = X.columns\n",
    "vif_data[\"Feature\"] = X_df2.columns\n",
    "vif_data[\"VIF\"] = [variance_inflation_factor(X_scaled_df2, i) for i in range(X_scaled_df2.shape[1])]\n",
    "vif_data"
   ]
  },
  {
   "cell_type": "code",
   "execution_count": 172,
   "metadata": {},
   "outputs": [],
   "source": [
    "df3.to_csv(CARS_PROCESSED_CSV_DIR, encoding='utf-8', index=False)"
   ]
  }
 ],
 "metadata": {
  "kernelspec": {
   "display_name": "mcd_econometrics",
   "language": "python",
   "name": "python3"
  },
  "language_info": {
   "codemirror_mode": {
    "name": "ipython",
    "version": 3
   },
   "file_extension": ".py",
   "mimetype": "text/x-python",
   "name": "python",
   "nbconvert_exporter": "python",
   "pygments_lexer": "ipython3",
   "version": "3.11.5"
  }
 },
 "nbformat": 4,
 "nbformat_minor": 2
}
