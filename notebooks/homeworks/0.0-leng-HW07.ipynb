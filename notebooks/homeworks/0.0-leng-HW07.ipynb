{
 "cells": [
  {
   "cell_type": "markdown",
   "metadata": {},
   "source": [
    "![Logo](https://www.up.edu.mx/wp-content/themes/panamericana/img/logo-footer.png)\n",
    "\n",
    "# **Tarea 7: Regresión Multiple**\n",
    "\n",
    "## **Asignatura:** Econometría  \n",
    "## **Profesora:** Mae. Julieta María Sarralde Vera\n",
    "\n",
    "---\n",
    "\n",
    "**Nombre del Alumno:**  \n",
    "Luis Enrique Noguera Gil\n",
    "\n",
    "**Fecha de entrega:**  \n",
    "08 de septiembre de 2024\n"
   ]
  },
  {
   "cell_type": "markdown",
   "metadata": {},
   "source": [
    "# Auto reload modules"
   ]
  },
  {
   "cell_type": "code",
   "execution_count": 2,
   "metadata": {},
   "outputs": [],
   "source": [
    "%load_ext autoreload\n",
    "%autoreload 2"
   ]
  },
  {
   "cell_type": "code",
   "execution_count": 1,
   "metadata": {},
   "outputs": [],
   "source": [
    "import scripts.index as index\n",
    "import numpy as np\n",
    "import fs"
   ]
  },
  {
   "cell_type": "markdown",
   "metadata": {},
   "source": [
    "# Ejercicio 1\n",
    "\n",
    "Las ventas de unidades USB flash portátiles (en miles) en México son explicadas mediante un modelo de regresión múltiple. Las variables a considerar son:\n",
    "\n",
    "- $X_1$: Las computadoras personales de escritorio vendidas (en millones de unidades).\n",
    "- $X_2$: Las computadoras portátiles vendidas (en millones de unidades).\n",
    "- $X_3$: El aumento porcentual en el precio del software (expresado en decimales).\n",
    "- $X_4$: El número de computadoras por cada 100 mexicanos.\n",
    "\n",
    "El tamaño de la muestra es de 150 observaciones.\n",
    "\n",
    "Las matrices del modelo son las siguientes:\n",
    "\n",
    "**Matriz $(X^TX)^{-1}$:**\n",
    "\n",
    "$$\n",
    "\\begin{bmatrix}\n",
    "2.09422 & -0.01628 & -0.77374 & 0.18777 & -0.06644 \\\\\n",
    "-0.01628 & 0.00023 & 0.00585 & -0.00934 & 0.00062 \\\\\n",
    "-0.77374 & 0.00585 & 0.3562 & -0.1027 & 0.01925 \\\\\n",
    "0.18777 & -0.00934 & -0.1027 & 1.70377 & -0.0662 \\\\\n",
    "-0.06644 & 0.00062 & 0.01925 & -0.0662 & 0.00618\n",
    "\\end{bmatrix}\n",
    "$$\n",
    "\n",
    "**Matriz $X^TY$:**\n",
    "\n",
    "$$\n",
    "\\begin{bmatrix}\n",
    "3,311.00 \\\\\n",
    "100,691.00 \\\\\n",
    "3,580.80 \\\\\n",
    "1,876.26 \\\\\n",
    "41,978.00\n",
    "\\end{bmatrix}\n",
    "$$\n"
   ]
  },
  {
   "cell_type": "code",
   "execution_count": 2,
   "metadata": {},
   "outputs": [],
   "source": [
    "# Matriz X^TY\n",
    "XTY = np.array([\n",
    "    [3311.00],\n",
    "    [100691.00],\n",
    "    [3580.80],\n",
    "    [1876.26],\n",
    "    [41978.00]\n",
    "])\n",
    "\n",
    "# Matriz (X^TX)^{-1}\n",
    "XTX_inv = np.array([\n",
    "    [2.09422, -0.01628, -0.77374, 0.18777, -0.06644],\n",
    "    [-0.01628, 0.00023, 0.00585, -0.00934, 0.00062],\n",
    "    [-0.77374, 0.00585, 0.3562, -0.1027, 0.01925],\n",
    "    [0.18777, -0.00934, -0.1027, 1.70377, -0.0662],\n",
    "    [-0.06644, 0.00062, 0.01925, -0.0662, 0.00618]\n",
    "])"
   ]
  },
  {
   "cell_type": "markdown",
   "metadata": {},
   "source": [
    "Si los estimadores por MCO se calculan con:\n",
    "\n",
    "$\\hat{\\beta} = (X^T X)^{-1} X^T Y$\n",
    "\n",
    "¿Cual es el valor del coeficiente asociado a la variable número de computadoras por cada 100 mexicanos?"
   ]
  },
  {
   "cell_type": "code",
   "execution_count": 6,
   "metadata": {},
   "outputs": [
    {
     "data": {
      "text/plain": [
       "array([[  87.3917682],\n",
       "       [  -1.2943784],\n",
       "       [ -81.945232 ],\n",
       "       [-268.7237298],\n",
       "       [  46.591608 ]])"
      ]
     },
     "execution_count": 6,
     "metadata": {},
     "output_type": "execute_result"
    }
   ],
   "source": [
    "beta_hat : np.array = np.dot(XTX_inv, XTY)\n",
    "beta_hat"
   ]
  },
  {
   "cell_type": "code",
   "execution_count": 10,
   "metadata": {},
   "outputs": [
    {
     "data": {
      "text/plain": [
       "46.591607999999994"
      ]
     },
     "execution_count": 10,
     "metadata": {},
     "output_type": "execute_result"
    }
   ],
   "source": [
    "coef_X4: float = beta_hat[4, 0]\n",
    "coef_X4"
   ]
  },
  {
   "cell_type": "markdown",
   "metadata": {},
   "source": [
    "# Ejercicio 2\n",
    "\n",
    "Si calculas la matriz de $var - cov(\\hat{\\beta}) = \\sigma^2 (X^T X)^{-1}$. El estimador de la varianza homoscedastica $\\sigma^2$ es: $9,131.8432$ y la media de las ventas de unidades USB flash portátiles (en miles) es $80$. Calcule el error estándar del coeficiente asociado a la variable las computadoras personales de escritorio vendidas (en millones de unidades),\n"
   ]
  },
  {
   "cell_type": "code",
   "execution_count": 19,
   "metadata": {},
   "outputs": [
    {
     "data": {
      "text/plain": [
       "array([[  -684.45772486, -19957.21279846, -26874.21874873,\n",
       "        -18093.8601935 , -20415.26605337],\n",
       "       [-19957.21279846, -19806.44606723, -19755.12510844,\n",
       "        -19893.83780665, -19802.88464838],\n",
       "       [-26874.21874873, -19755.12510844, -16555.78384332,\n",
       "        -20746.3866878 , -19632.75840956],\n",
       "       [-18093.8601935 , -19893.83780665, -20746.3866878 ,\n",
       "         -4249.9859023 , -20413.074411  ],\n",
       "       [-20415.26605337, -19802.88464838, -19632.75840956,\n",
       "        -20413.074411  , -19752.11160019]])"
      ]
     },
     "execution_count": 19,
     "metadata": {},
     "output_type": "execute_result"
    }
   ],
   "source": [
    "sigma_squared: float = 9_131.8432\n",
    "mean_sales: float = 80\n",
    "\n",
    "cov_beta = np.cov(beta_hat, rowvar=False)\n",
    "\n",
    "np.dot(sigma_squared, XTX_inv) - cov_beta"
   ]
  },
  {
   "cell_type": "code",
   "execution_count": 13,
   "metadata": {},
   "outputs": [
    {
     "data": {
      "text/plain": [
       "array([[ 1.91240887e+04, -1.48666407e+02, -7.06567236e+03,\n",
       "         1.71468620e+03, -6.06719662e+02],\n",
       "       [-1.48666407e+02,  2.10032394e+00,  5.34212827e+01,\n",
       "        -8.52914155e+01,  5.66174278e+00],\n",
       "       [-7.06567236e+03,  5.34212827e+01,  3.25276255e+03,\n",
       "        -9.37840297e+02,  1.75787982e+02],\n",
       "       [ 1.71468620e+03, -8.52914155e+01, -9.37840297e+02,\n",
       "         1.55585605e+04, -6.04528020e+02],\n",
       "       [-6.06719662e+02,  5.66174278e+00,  1.75787982e+02,\n",
       "        -6.04528020e+02,  5.64347910e+01]])"
      ]
     },
     "execution_count": 13,
     "metadata": {},
     "output_type": "execute_result"
    }
   ],
   "source": [
    "sigma_squared * XTX_inv"
   ]
  },
  {
   "cell_type": "code",
   "execution_count": 15,
   "metadata": {},
   "outputs": [
    {
     "name": "stderr",
     "output_type": "stream",
     "text": [
      "C:\\Users\\Anony\\AppData\\Local\\Temp\\ipykernel_18672\\4109161073.py:1: RuntimeWarning: Degrees of freedom <= 0 for slice\n",
      "  np.cov(beta_hat)\n"
     ]
    },
    {
     "data": {
      "text/plain": [
       "array([[nan, nan, nan, nan, nan],\n",
       "       [nan, nan, nan, nan, nan],\n",
       "       [nan, nan, nan, nan, nan],\n",
       "       [nan, nan, nan, nan, nan],\n",
       "       [nan, nan, nan, nan, nan]])"
      ]
     },
     "execution_count": 15,
     "metadata": {},
     "output_type": "execute_result"
    }
   ],
   "source": []
  },
  {
   "cell_type": "markdown",
   "metadata": {},
   "source": [
    "# Ejercicio 3\n",
    "\n",
    "Obtén el pronóstico de ventas en miles de unidades de USB para un nivel de 12,000,000 de computadoras de escritorio, 1,000,000 de unidades vendidas de computadoras portátiles, el porcentaje en el aumento porcentual en el precio del software es del 70% y se cuenta con 70  computadoras  por cada 100 mexicanos."
   ]
  }
 ],
 "metadata": {
  "kernelspec": {
   "display_name": "Python 3 (ipykernel)",
   "language": "python",
   "name": "python3"
  },
  "language_info": {
   "codemirror_mode": {
    "name": "ipython",
    "version": 3
   },
   "file_extension": ".py",
   "mimetype": "text/x-python",
   "name": "python",
   "nbconvert_exporter": "python",
   "pygments_lexer": "ipython3",
   "version": "3.11.5"
  }
 },
 "nbformat": 4,
 "nbformat_minor": 4
}
