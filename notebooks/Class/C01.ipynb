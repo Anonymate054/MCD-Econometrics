{
 "cells": [
  {
   "cell_type": "code",
   "execution_count": 1,
   "metadata": {},
   "outputs": [],
   "source": [
    "import pandas as pd\n",
    "import numpy as np\n",
    "import fs\n"
   ]
  },
  {
   "cell_type": "code",
   "execution_count": 2,
   "metadata": {},
   "outputs": [
    {
     "data": {
      "text/html": [
       "<div>\n",
       "<style scoped>\n",
       "    .dataframe tbody tr th:only-of-type {\n",
       "        vertical-align: middle;\n",
       "    }\n",
       "\n",
       "    .dataframe tbody tr th {\n",
       "        vertical-align: top;\n",
       "    }\n",
       "\n",
       "    .dataframe thead th {\n",
       "        text-align: right;\n",
       "    }\n",
       "</style>\n",
       "<table border=\"1\" class=\"dataframe\">\n",
       "  <thead>\n",
       "    <tr style=\"text-align: right;\">\n",
       "      <th></th>\n",
       "      <th>flores</th>\n",
       "      <th>producción</th>\n",
       "    </tr>\n",
       "    <tr>\n",
       "      <th>observación</th>\n",
       "      <th></th>\n",
       "      <th></th>\n",
       "    </tr>\n",
       "  </thead>\n",
       "  <tbody>\n",
       "    <tr>\n",
       "      <th>1</th>\n",
       "      <td>1.00</td>\n",
       "      <td>1.71</td>\n",
       "    </tr>\n",
       "    <tr>\n",
       "      <th>2</th>\n",
       "      <td>1.08</td>\n",
       "      <td>1.52</td>\n",
       "    </tr>\n",
       "    <tr>\n",
       "      <th>3</th>\n",
       "      <td>1.15</td>\n",
       "      <td>1.29</td>\n",
       "    </tr>\n",
       "    <tr>\n",
       "      <th>4</th>\n",
       "      <td>1.15</td>\n",
       "      <td>3.09</td>\n",
       "    </tr>\n",
       "    <tr>\n",
       "      <th>5</th>\n",
       "      <td>1.20</td>\n",
       "      <td>2.21</td>\n",
       "    </tr>\n",
       "    <tr>\n",
       "      <th>6</th>\n",
       "      <td>1.30</td>\n",
       "      <td>2.26</td>\n",
       "    </tr>\n",
       "    <tr>\n",
       "      <th>7</th>\n",
       "      <td>1.37</td>\n",
       "      <td>2.40</td>\n",
       "    </tr>\n",
       "    <tr>\n",
       "      <th>8</th>\n",
       "      <td>1.37</td>\n",
       "      <td>2.10</td>\n",
       "    </tr>\n",
       "    <tr>\n",
       "      <th>9</th>\n",
       "      <td>1.43</td>\n",
       "      <td>1.96</td>\n",
       "    </tr>\n",
       "    <tr>\n",
       "      <th>10</th>\n",
       "      <td>1.46</td>\n",
       "      <td>2.09</td>\n",
       "    </tr>\n",
       "    <tr>\n",
       "      <th>11</th>\n",
       "      <td>1.52</td>\n",
       "      <td>2.02</td>\n",
       "    </tr>\n",
       "    <tr>\n",
       "      <th>12</th>\n",
       "      <td>1.57</td>\n",
       "      <td>1.31</td>\n",
       "    </tr>\n",
       "    <tr>\n",
       "      <th>13</th>\n",
       "      <td>1.65</td>\n",
       "      <td>2.17</td>\n",
       "    </tr>\n",
       "    <tr>\n",
       "      <th>14</th>\n",
       "      <td>1.65</td>\n",
       "      <td>2.28</td>\n",
       "    </tr>\n",
       "    <tr>\n",
       "      <th>15</th>\n",
       "      <td>1.65</td>\n",
       "      <td>2.41</td>\n",
       "    </tr>\n",
       "    <tr>\n",
       "      <th>16</th>\n",
       "      <td>1.66</td>\n",
       "      <td>2.23</td>\n",
       "    </tr>\n",
       "    <tr>\n",
       "      <th>17</th>\n",
       "      <td>1.87</td>\n",
       "      <td>3.04</td>\n",
       "    </tr>\n",
       "    <tr>\n",
       "      <th>18</th>\n",
       "      <td>2.03</td>\n",
       "      <td>2.06</td>\n",
       "    </tr>\n",
       "    <tr>\n",
       "      <th>19</th>\n",
       "      <td>2.05</td>\n",
       "      <td>2.73</td>\n",
       "    </tr>\n",
       "    <tr>\n",
       "      <th>20</th>\n",
       "      <td>2.30</td>\n",
       "      <td>2.36</td>\n",
       "    </tr>\n",
       "  </tbody>\n",
       "</table>\n",
       "</div>"
      ],
      "text/plain": [
       "             flores  producción\n",
       "observación                    \n",
       "1              1.00        1.71\n",
       "2              1.08        1.52\n",
       "3              1.15        1.29\n",
       "4              1.15        3.09\n",
       "5              1.20        2.21\n",
       "6              1.30        2.26\n",
       "7              1.37        2.40\n",
       "8              1.37        2.10\n",
       "9              1.43        1.96\n",
       "10             1.46        2.09\n",
       "11             1.52        2.02\n",
       "12             1.57        1.31\n",
       "13             1.65        2.17\n",
       "14             1.65        2.28\n",
       "15             1.65        2.41\n",
       "16             1.66        2.23\n",
       "17             1.87        3.04\n",
       "18             2.03        2.06\n",
       "19             2.05        2.73\n",
       "20             2.30        2.36"
      ]
     },
     "execution_count": 2,
     "metadata": {},
     "output_type": "execute_result"
    }
   ],
   "source": [
    "MAIN_DIR = fs.open_fs(\"../../data/raw/Class01\")\n",
    "XLSX_DIR = MAIN_DIR.getsyspath(\"flores.xlsx\")\n",
    "\n",
    "df = pd.read_excel(XLSX_DIR, index_col=0)\n",
    "df"
   ]
  },
  {
   "cell_type": "code",
   "execution_count": 3,
   "metadata": {},
   "outputs": [
    {
     "data": {
      "text/html": [
       "<div>\n",
       "<style scoped>\n",
       "    .dataframe tbody tr th:only-of-type {\n",
       "        vertical-align: middle;\n",
       "    }\n",
       "\n",
       "    .dataframe tbody tr th {\n",
       "        vertical-align: top;\n",
       "    }\n",
       "\n",
       "    .dataframe thead th {\n",
       "        text-align: right;\n",
       "    }\n",
       "</style>\n",
       "<table border=\"1\" class=\"dataframe\">\n",
       "  <thead>\n",
       "    <tr style=\"text-align: right;\">\n",
       "      <th></th>\n",
       "      <th>flores</th>\n",
       "      <th>producción</th>\n",
       "      <th>x_bar</th>\n",
       "      <th>y_bar</th>\n",
       "      <th>x-x_bar</th>\n",
       "      <th>y-y_bar</th>\n",
       "      <th>num_b1</th>\n",
       "      <th>den_b1</th>\n",
       "    </tr>\n",
       "    <tr>\n",
       "      <th>observación</th>\n",
       "      <th></th>\n",
       "      <th></th>\n",
       "      <th></th>\n",
       "      <th></th>\n",
       "      <th></th>\n",
       "      <th></th>\n",
       "      <th></th>\n",
       "      <th></th>\n",
       "    </tr>\n",
       "  </thead>\n",
       "  <tbody>\n",
       "    <tr>\n",
       "      <th>1</th>\n",
       "      <td>1.00</td>\n",
       "      <td>1.71</td>\n",
       "      <td>1.523</td>\n",
       "      <td>2.162</td>\n",
       "      <td>-0.523</td>\n",
       "      <td>-0.452</td>\n",
       "      <td>0.236396</td>\n",
       "      <td>0.273529</td>\n",
       "    </tr>\n",
       "    <tr>\n",
       "      <th>2</th>\n",
       "      <td>1.08</td>\n",
       "      <td>1.52</td>\n",
       "      <td>1.523</td>\n",
       "      <td>2.162</td>\n",
       "      <td>-0.443</td>\n",
       "      <td>-0.642</td>\n",
       "      <td>0.284406</td>\n",
       "      <td>0.196249</td>\n",
       "    </tr>\n",
       "    <tr>\n",
       "      <th>3</th>\n",
       "      <td>1.15</td>\n",
       "      <td>1.29</td>\n",
       "      <td>1.523</td>\n",
       "      <td>2.162</td>\n",
       "      <td>-0.373</td>\n",
       "      <td>-0.872</td>\n",
       "      <td>0.325256</td>\n",
       "      <td>0.139129</td>\n",
       "    </tr>\n",
       "    <tr>\n",
       "      <th>4</th>\n",
       "      <td>1.15</td>\n",
       "      <td>3.09</td>\n",
       "      <td>1.523</td>\n",
       "      <td>2.162</td>\n",
       "      <td>-0.373</td>\n",
       "      <td>0.928</td>\n",
       "      <td>-0.346144</td>\n",
       "      <td>0.139129</td>\n",
       "    </tr>\n",
       "    <tr>\n",
       "      <th>5</th>\n",
       "      <td>1.20</td>\n",
       "      <td>2.21</td>\n",
       "      <td>1.523</td>\n",
       "      <td>2.162</td>\n",
       "      <td>-0.323</td>\n",
       "      <td>0.048</td>\n",
       "      <td>-0.015504</td>\n",
       "      <td>0.104329</td>\n",
       "    </tr>\n",
       "  </tbody>\n",
       "</table>\n",
       "</div>"
      ],
      "text/plain": [
       "             flores  producción  x_bar  y_bar  x-x_bar  y-y_bar    num_b1  \\\n",
       "observación                                                                 \n",
       "1              1.00        1.71  1.523  2.162   -0.523   -0.452  0.236396   \n",
       "2              1.08        1.52  1.523  2.162   -0.443   -0.642  0.284406   \n",
       "3              1.15        1.29  1.523  2.162   -0.373   -0.872  0.325256   \n",
       "4              1.15        3.09  1.523  2.162   -0.373    0.928 -0.346144   \n",
       "5              1.20        2.21  1.523  2.162   -0.323    0.048 -0.015504   \n",
       "\n",
       "               den_b1  \n",
       "observación            \n",
       "1            0.273529  \n",
       "2            0.196249  \n",
       "3            0.139129  \n",
       "4            0.139129  \n",
       "5            0.104329  "
      ]
     },
     "execution_count": 3,
     "metadata": {},
     "output_type": "execute_result"
    }
   ],
   "source": [
    "\n",
    "df_cop = df.copy()\n",
    "df_cop['x_bar'] = df_cop['flores'].mean()\n",
    "df_cop['y_bar'] = df_cop['producción'].mean()\n",
    "\n",
    "df_cop['x-x_bar'] = df_cop['flores'] - df_cop['x_bar']\n",
    "df_cop['y-y_bar'] = df_cop['producción'] - df_cop['y_bar']\n",
    "\n",
    "df_cop['num_b1'] = df_cop['x-x_bar'] * df_cop['y-y_bar']\n",
    "df_cop['den_b1'] = df_cop['x-x_bar'] ** 2\n",
    "\n",
    "df_cop.head(5)"
   ]
  },
  {
   "cell_type": "code",
   "execution_count": 4,
   "metadata": {},
   "outputs": [
    {
     "name": "stdout",
     "output_type": "stream",
     "text": [
      "El coeficiente b1 = slope = 0.516\n",
      "El coeficiente b0 = intercept = 1.376\n"
     ]
    }
   ],
   "source": [
    "b1 = df_cop['num_b1'].sum() / df_cop['den_b1'].sum()\n",
    "b0 = df_cop['producción'].mean() - b1 * df_cop['flores'].mean()\n",
    "print(f\"El coeficiente b1 = slope = {b1:.3f}\")\n",
    "print(f\"El coeficiente b0 = intercept = {b0:.3f}\")"
   ]
  },
  {
   "cell_type": "code",
   "execution_count": 5,
   "metadata": {},
   "outputs": [
    {
     "ename": "SyntaxError",
     "evalue": "invalid syntax (1280971076.py, line 2)",
     "output_type": "error",
     "traceback": [
      "\u001b[0;36m  Cell \u001b[0;32mIn[5], line 2\u001b[0;36m\u001b[0m\n\u001b[0;31m    \"\"\" \"\"\"`\u001b[0m\n\u001b[0m           ^\u001b[0m\n\u001b[0;31mSyntaxError\u001b[0m\u001b[0;31m:\u001b[0m invalid syntax\n"
     ]
    }
   ],
   "source": [
    "\n",
    "def y_hat(x: int | float, slope : float, intercept: float): \n",
    "    \"\"\" \"\"\"`\n",
    "    return slope * x + `intercept"
   ]
  },
  {
   "cell_type": "code",
   "execution_count": null,
   "metadata": {},
   "outputs": [
    {
     "data": {
      "text/html": [
       "<div>\n",
       "<style scoped>\n",
       "    .dataframe tbody tr th:only-of-type {\n",
       "        vertical-align: middle;\n",
       "    }\n",
       "\n",
       "    .dataframe tbody tr th {\n",
       "        vertical-align: top;\n",
       "    }\n",
       "\n",
       "    .dataframe thead th {\n",
       "        text-align: right;\n",
       "    }\n",
       "</style>\n",
       "<table border=\"1\" class=\"dataframe\">\n",
       "  <thead>\n",
       "    <tr style=\"text-align: right;\">\n",
       "      <th></th>\n",
       "      <th>flores</th>\n",
       "      <th>producción</th>\n",
       "      <th>y_hat</th>\n",
       "      <th>err_hat</th>\n",
       "      <th>err_bar</th>\n",
       "    </tr>\n",
       "    <tr>\n",
       "      <th>observación</th>\n",
       "      <th></th>\n",
       "      <th></th>\n",
       "      <th></th>\n",
       "      <th></th>\n",
       "      <th></th>\n",
       "    </tr>\n",
       "  </thead>\n",
       "  <tbody>\n",
       "    <tr>\n",
       "      <th>1</th>\n",
       "      <td>1.00</td>\n",
       "      <td>1.71</td>\n",
       "      <td>1.891965</td>\n",
       "      <td>-0.181965</td>\n",
       "      <td>-0.452</td>\n",
       "    </tr>\n",
       "    <tr>\n",
       "      <th>2</th>\n",
       "      <td>1.08</td>\n",
       "      <td>1.52</td>\n",
       "      <td>1.933270</td>\n",
       "      <td>-0.413270</td>\n",
       "      <td>-0.642</td>\n",
       "    </tr>\n",
       "    <tr>\n",
       "      <th>3</th>\n",
       "      <td>1.15</td>\n",
       "      <td>1.29</td>\n",
       "      <td>1.969413</td>\n",
       "      <td>-0.679413</td>\n",
       "      <td>-0.872</td>\n",
       "    </tr>\n",
       "    <tr>\n",
       "      <th>4</th>\n",
       "      <td>1.15</td>\n",
       "      <td>3.09</td>\n",
       "      <td>1.969413</td>\n",
       "      <td>1.120587</td>\n",
       "      <td>0.928</td>\n",
       "    </tr>\n",
       "    <tr>\n",
       "      <th>5</th>\n",
       "      <td>1.20</td>\n",
       "      <td>2.21</td>\n",
       "      <td>1.995229</td>\n",
       "      <td>0.214771</td>\n",
       "      <td>0.048</td>\n",
       "    </tr>\n",
       "  </tbody>\n",
       "</table>\n",
       "</div>"
      ],
      "text/plain": [
       "             flores  producción     y_hat   err_hat  err_bar\n",
       "observación                                                 \n",
       "1              1.00        1.71  1.891965 -0.181965   -0.452\n",
       "2              1.08        1.52  1.933270 -0.413270   -0.642\n",
       "3              1.15        1.29  1.969413 -0.679413   -0.872\n",
       "4              1.15        3.09  1.969413  1.120587    0.928\n",
       "5              1.20        2.21  1.995229  0.214771    0.048"
      ]
     },
     "execution_count": 15,
     "metadata": {},
     "output_type": "execute_result"
    }
   ],
   "source": [
    "df_res = df.copy()\n",
    "df_res['y_hat'] = df_res.apply(lambda row: y_hat(row['flores'], slope=b1, intercept=b0), axis=1)\n",
    "df_res['err_hat'] = df_res['producción'] - df_res['y_hat']\n",
    "df_res['err_bar'] = df_res['producción'] - df_res['producción'].mean()\n",
    "df_res.head(5)"
   ]
  },
  {
   "cell_type": "code",
   "execution_count": null,
   "metadata": {},
   "outputs": [
    {
     "data": {
      "text/plain": [
       "3.1086244689504383e-15"
      ]
     },
     "execution_count": 17,
     "metadata": {},
     "output_type": "execute_result"
    }
   ],
   "source": [
    "df_res['err_hat'].sum()"
   ]
  },
  {
   "cell_type": "code",
   "execution_count": null,
   "metadata": {},
   "outputs": [
    {
     "data": {
      "text/html": [
       "<div>\n",
       "<style scoped>\n",
       "    .dataframe tbody tr th:only-of-type {\n",
       "        vertical-align: middle;\n",
       "    }\n",
       "\n",
       "    .dataframe tbody tr th {\n",
       "        vertical-align: top;\n",
       "    }\n",
       "\n",
       "    .dataframe thead th {\n",
       "        text-align: right;\n",
       "    }\n",
       "</style>\n",
       "<table border=\"1\" class=\"dataframe\">\n",
       "  <thead>\n",
       "    <tr style=\"text-align: right;\">\n",
       "      <th></th>\n",
       "      <th>flores</th>\n",
       "      <th>producción</th>\n",
       "    </tr>\n",
       "    <tr>\n",
       "      <th>observación</th>\n",
       "      <th></th>\n",
       "      <th></th>\n",
       "    </tr>\n",
       "  </thead>\n",
       "  <tbody>\n",
       "    <tr>\n",
       "      <th>1</th>\n",
       "      <td>1.00</td>\n",
       "      <td>1.71</td>\n",
       "    </tr>\n",
       "    <tr>\n",
       "      <th>2</th>\n",
       "      <td>1.08</td>\n",
       "      <td>1.52</td>\n",
       "    </tr>\n",
       "    <tr>\n",
       "      <th>3</th>\n",
       "      <td>1.15</td>\n",
       "      <td>1.29</td>\n",
       "    </tr>\n",
       "    <tr>\n",
       "      <th>4</th>\n",
       "      <td>1.15</td>\n",
       "      <td>3.09</td>\n",
       "    </tr>\n",
       "    <tr>\n",
       "      <th>5</th>\n",
       "      <td>1.20</td>\n",
       "      <td>2.21</td>\n",
       "    </tr>\n",
       "    <tr>\n",
       "      <th>6</th>\n",
       "      <td>1.30</td>\n",
       "      <td>2.26</td>\n",
       "    </tr>\n",
       "    <tr>\n",
       "      <th>7</th>\n",
       "      <td>1.37</td>\n",
       "      <td>2.40</td>\n",
       "    </tr>\n",
       "    <tr>\n",
       "      <th>8</th>\n",
       "      <td>1.37</td>\n",
       "      <td>2.10</td>\n",
       "    </tr>\n",
       "    <tr>\n",
       "      <th>9</th>\n",
       "      <td>1.43</td>\n",
       "      <td>1.96</td>\n",
       "    </tr>\n",
       "    <tr>\n",
       "      <th>10</th>\n",
       "      <td>1.46</td>\n",
       "      <td>2.09</td>\n",
       "    </tr>\n",
       "    <tr>\n",
       "      <th>11</th>\n",
       "      <td>1.52</td>\n",
       "      <td>2.02</td>\n",
       "    </tr>\n",
       "    <tr>\n",
       "      <th>12</th>\n",
       "      <td>1.57</td>\n",
       "      <td>1.31</td>\n",
       "    </tr>\n",
       "    <tr>\n",
       "      <th>13</th>\n",
       "      <td>1.65</td>\n",
       "      <td>2.17</td>\n",
       "    </tr>\n",
       "    <tr>\n",
       "      <th>14</th>\n",
       "      <td>1.65</td>\n",
       "      <td>2.28</td>\n",
       "    </tr>\n",
       "    <tr>\n",
       "      <th>15</th>\n",
       "      <td>1.65</td>\n",
       "      <td>2.41</td>\n",
       "    </tr>\n",
       "    <tr>\n",
       "      <th>16</th>\n",
       "      <td>1.66</td>\n",
       "      <td>2.23</td>\n",
       "    </tr>\n",
       "    <tr>\n",
       "      <th>17</th>\n",
       "      <td>1.87</td>\n",
       "      <td>3.04</td>\n",
       "    </tr>\n",
       "    <tr>\n",
       "      <th>18</th>\n",
       "      <td>2.03</td>\n",
       "      <td>2.06</td>\n",
       "    </tr>\n",
       "    <tr>\n",
       "      <th>19</th>\n",
       "      <td>2.05</td>\n",
       "      <td>2.73</td>\n",
       "    </tr>\n",
       "    <tr>\n",
       "      <th>20</th>\n",
       "      <td>2.30</td>\n",
       "      <td>2.36</td>\n",
       "    </tr>\n",
       "  </tbody>\n",
       "</table>\n",
       "</div>"
      ],
      "text/plain": [
       "             flores  producción\n",
       "observación                    \n",
       "1              1.00        1.71\n",
       "2              1.08        1.52\n",
       "3              1.15        1.29\n",
       "4              1.15        3.09\n",
       "5              1.20        2.21\n",
       "6              1.30        2.26\n",
       "7              1.37        2.40\n",
       "8              1.37        2.10\n",
       "9              1.43        1.96\n",
       "10             1.46        2.09\n",
       "11             1.52        2.02\n",
       "12             1.57        1.31\n",
       "13             1.65        2.17\n",
       "14             1.65        2.28\n",
       "15             1.65        2.41\n",
       "16             1.66        2.23\n",
       "17             1.87        3.04\n",
       "18             2.03        2.06\n",
       "19             2.05        2.73\n",
       "20             2.30        2.36"
      ]
     },
     "execution_count": 6,
     "metadata": {},
     "output_type": "execute_result"
    }
   ],
   "source": [
    "df"
   ]
  },
  {
   "cell_type": "code",
   "execution_count": null,
   "metadata": {},
   "outputs": [
    {
     "name": "stdout",
     "output_type": "stream",
     "text": [
      "Slope = 0.516\n",
      "Intercept = 1.376\n",
      "Std_err = 0.300\n"
     ]
    }
   ],
   "source": [
    "from scipy import stats\n",
    "slope, intercept, r, p, std_err = stats.linregress(df['flores'], df['producción'])\n",
    "print(f\"Slope = {slope:.3f}\")\n",
    "print(f\"Intercept = {intercept:.3f}\")\n",
    "print(f\"Std_err = {std_err:.3f}\")"
   ]
  },
  {
   "cell_type": "code",
   "execution_count": 8,
   "metadata": {},
   "outputs": [],
   "source": [
    "import statsmodels.formula.api as smf\n",
    "model_1 = (\n",
    "    smf.ols(\n",
    "        formula='producción ~ flores',\n",
    "        data=df\n",
    "    )\n",
    "    .fit()\n",
    ")"
   ]
  },
  {
   "cell_type": "code",
   "execution_count": 9,
   "metadata": {},
   "outputs": [
    {
     "data": {
      "text/html": [
       "<table class=\"simpletable\">\n",
       "<tr>\n",
       "        <td>Model:</td>               <td>OLS</td>         <td>Adj. R-squared:</td>    <td>0.093</td> \n",
       "</tr>\n",
       "<tr>\n",
       "  <td>Dependent Variable:</td>    <td>producción</td>           <td>AIC:</td>         <td>27.0920</td>\n",
       "</tr>\n",
       "<tr>\n",
       "         <td>Date:</td>        <td>2024-08-19 19:58</td>        <td>BIC:</td>         <td>29.0835</td>\n",
       "</tr>\n",
       "<tr>\n",
       "   <td>No. Observations:</td>         <td>20</td>          <td>Log-Likelihood:</td>   <td>-11.546</td>\n",
       "</tr>\n",
       "<tr>\n",
       "       <td>Df Model:</td>              <td>1</td>           <td>F-statistic:</td>      <td>2.957</td> \n",
       "</tr>\n",
       "<tr>\n",
       "     <td>Df Residuals:</td>           <td>18</td>        <td>Prob (F-statistic):</td>  <td>0.103</td> \n",
       "</tr>\n",
       "<tr>\n",
       "      <td>R-squared:</td>            <td>0.141</td>            <td>Scale:</td>        <td>0.20640</td>\n",
       "</tr>\n",
       "</table>\n",
       "<table class=\"simpletable\">\n",
       "<tr>\n",
       "      <td></td>       <th>Coef.</th> <th>Std.Err.</th>    <th>t</th>    <th>P>|t|</th> <th>[0.025</th>  <th>0.975]</th>\n",
       "</tr>\n",
       "<tr>\n",
       "  <th>Intercept</th> <td>1.3756</td>  <td>0.4684</td>  <td>2.9369</td> <td>0.0088</td> <td>0.3916</td>  <td>2.3597</td>\n",
       "</tr>\n",
       "<tr>\n",
       "  <th>flores</th>    <td>0.5163</td>  <td>0.3002</td>  <td>1.7197</td> <td>0.1026</td> <td>-0.1144</td> <td>1.1471</td>\n",
       "</tr>\n",
       "</table>\n",
       "<table class=\"simpletable\">\n",
       "<tr>\n",
       "     <td>Omnibus:</td>    <td>3.112</td>  <td>Durbin-Watson:</td>   <td>2.131</td>\n",
       "</tr>\n",
       "<tr>\n",
       "  <td>Prob(Omnibus):</td> <td>0.211</td> <td>Jarque-Bera (JB):</td> <td>1.322</td>\n",
       "</tr>\n",
       "<tr>\n",
       "       <td>Skew:</td>     <td>0.441</td>     <td>Prob(JB):</td>     <td>0.516</td>\n",
       "</tr>\n",
       "<tr>\n",
       "     <td>Kurtosis:</td>   <td>3.900</td>  <td>Condition No.:</td>    <td>10</td>  \n",
       "</tr>\n",
       "</table><br/>\n",
       "Notes:<br/>\n",
       "[1] Standard Errors assume that the covariance matrix of the errors is correctly specified."
      ],
      "text/latex": [
       "\\begin{table}\n",
       "\\caption{Results: Ordinary least squares}\n",
       "\\label{}\n",
       "\\begin{center}\n",
       "\\begin{tabular}{llll}\n",
       "\\hline\n",
       "Model:              & OLS              & Adj. R-squared:     & 0.093    \\\\\n",
       "Dependent Variable: & producción       & AIC:                & 27.0920  \\\\\n",
       "Date:               & 2024-08-19 19:58 & BIC:                & 29.0835  \\\\\n",
       "No. Observations:   & 20               & Log-Likelihood:     & -11.546  \\\\\n",
       "Df Model:           & 1                & F-statistic:        & 2.957    \\\\\n",
       "Df Residuals:       & 18               & Prob (F-statistic): & 0.103    \\\\\n",
       "R-squared:          & 0.141            & Scale:              & 0.20640  \\\\\n",
       "\\hline\n",
       "\\end{tabular}\n",
       "\\end{center}\n",
       "\n",
       "\\begin{center}\n",
       "\\begin{tabular}{lrrrrrr}\n",
       "\\hline\n",
       "          &  Coef. & Std.Err. &      t & P$> |$t$|$ &  [0.025 & 0.975]  \\\\\n",
       "\\hline\n",
       "Intercept & 1.3756 &   0.4684 & 2.9369 &      0.0088 &  0.3916 & 2.3597  \\\\\n",
       "flores    & 0.5163 &   0.3002 & 1.7197 &      0.1026 & -0.1144 & 1.1471  \\\\\n",
       "\\hline\n",
       "\\end{tabular}\n",
       "\\end{center}\n",
       "\n",
       "\\begin{center}\n",
       "\\begin{tabular}{llll}\n",
       "\\hline\n",
       "Omnibus:       & 3.112 & Durbin-Watson:    & 2.131  \\\\\n",
       "Prob(Omnibus): & 0.211 & Jarque-Bera (JB): & 1.322  \\\\\n",
       "Skew:          & 0.441 & Prob(JB):         & 0.516  \\\\\n",
       "Kurtosis:      & 3.900 & Condition No.:    & 10     \\\\\n",
       "\\hline\n",
       "\\end{tabular}\n",
       "\\end{center}\n",
       "\\end{table}\n",
       "\\bigskip\n",
       "Notes: \\newline \n",
       "[1] Standard Errors assume that the covariance matrix of the errors is correctly specified."
      ],
      "text/plain": [
       "<class 'statsmodels.iolib.summary2.Summary'>\n",
       "\"\"\"\n",
       "                Results: Ordinary least squares\n",
       "================================================================\n",
       "Model:              OLS              Adj. R-squared:     0.093  \n",
       "Dependent Variable: producción       AIC:                27.0920\n",
       "Date:               2024-08-19 19:58 BIC:                29.0835\n",
       "No. Observations:   20               Log-Likelihood:     -11.546\n",
       "Df Model:           1                F-statistic:        2.957  \n",
       "Df Residuals:       18               Prob (F-statistic): 0.103  \n",
       "R-squared:          0.141            Scale:              0.20640\n",
       "------------------------------------------------------------------\n",
       "            Coef.    Std.Err.     t      P>|t|     [0.025   0.975]\n",
       "------------------------------------------------------------------\n",
       "Intercept   1.3756     0.4684   2.9369   0.0088    0.3916   2.3597\n",
       "flores      0.5163     0.3002   1.7197   0.1026   -0.1144   1.1471\n",
       "----------------------------------------------------------------\n",
       "Omnibus:               3.112       Durbin-Watson:          2.131\n",
       "Prob(Omnibus):         0.211       Jarque-Bera (JB):       1.322\n",
       "Skew:                  0.441       Prob(JB):               0.516\n",
       "Kurtosis:              3.900       Condition No.:          10   \n",
       "================================================================\n",
       "Notes:\n",
       "[1] Standard Errors assume that the covariance matrix of the\n",
       "errors is correctly specified.\n",
       "\"\"\""
      ]
     },
     "execution_count": 9,
     "metadata": {},
     "output_type": "execute_result"
    }
   ],
   "source": [
    "model_1.summary2()"
   ]
  },
  {
   "cell_type": "code",
   "execution_count": 18,
   "metadata": {},
   "outputs": [
    {
     "data": {
      "text/plain": [
       "1.5230000000000001"
      ]
     },
     "execution_count": 18,
     "metadata": {},
     "output_type": "execute_result"
    }
   ],
   "source": [
    "df['flores'].mean()"
   ]
  },
  {
   "cell_type": "code",
   "execution_count": 19,
   "metadata": {},
   "outputs": [
    {
     "data": {
      "text/plain": [
       "0.12051684210526312"
      ]
     },
     "execution_count": 19,
     "metadata": {},
     "output_type": "execute_result"
    }
   ],
   "source": [
    "df['flores'].var()"
   ]
  },
  {
   "cell_type": "code",
   "execution_count": 22,
   "metadata": {},
   "outputs": [
    {
     "data": {
      "text/plain": [
       "0.1095997196552546"
      ]
     },
     "execution_count": 22,
     "metadata": {},
     "output_type": "execute_result"
    }
   ],
   "source": [
    "a = 0.454318 * np.sqrt((1/20) + (1.66-1.523)**2 /(2.2898))\n",
    "a"
   ]
  },
  {
   "cell_type": "code",
   "execution_count": 23,
   "metadata": {},
   "outputs": [
    {
     "data": {
      "text/plain": [
       "2.46296901099569"
      ]
     },
     "execution_count": 23,
     "metadata": {},
     "output_type": "execute_result"
    }
   ],
   "source": [
    "2.2327 + 2.101 * a"
   ]
  },
  {
   "cell_type": "code",
   "execution_count": 24,
   "metadata": {},
   "outputs": [
    {
     "data": {
      "text/plain": [
       "2.00243098900431"
      ]
     },
     "execution_count": 24,
     "metadata": {},
     "output_type": "execute_result"
    }
   ],
   "source": [
    "2.2327 - 2.101 * a"
   ]
  },
  {
   "cell_type": "code",
   "execution_count": 28,
   "metadata": {},
   "outputs": [
    {
     "data": {
      "text/plain": [
       "0.4673509855264139"
      ]
     },
     "execution_count": 28,
     "metadata": {},
     "output_type": "execute_result"
    }
   ],
   "source": [
    "a = 0.454318 * np.sqrt((1 + 1/20) + (1.66-1.523)**2 /(2.2898))\n",
    "a"
   ]
  },
  {
   "cell_type": "code",
   "execution_count": 26,
   "metadata": {},
   "outputs": [
    {
     "data": {
      "text/plain": [
       "3.2146044205909954"
      ]
     },
     "execution_count": 26,
     "metadata": {},
     "output_type": "execute_result"
    }
   ],
   "source": [
    "2.2327 + 2.101 * a"
   ]
  },
  {
   "cell_type": "code",
   "execution_count": 27,
   "metadata": {},
   "outputs": [
    {
     "data": {
      "text/plain": [
       "1.2507955794090044"
      ]
     },
     "execution_count": 27,
     "metadata": {},
     "output_type": "execute_result"
    }
   ],
   "source": [
    "2.2327 - 2.101 * a"
   ]
  },
  {
   "cell_type": "code",
   "execution_count": 15,
   "metadata": {},
   "outputs": [
    {
     "data": {
      "text/html": [
       "<table class=\"simpletable\">\n",
       "<caption>OLS Regression Results</caption>\n",
       "<tr>\n",
       "  <th>Dep. Variable:</th>       <td>producción</td>    <th>  R-squared:         </th> <td>   0.141</td>\n",
       "</tr>\n",
       "<tr>\n",
       "  <th>Model:</th>                   <td>OLS</td>       <th>  Adj. R-squared:    </th> <td>   0.093</td>\n",
       "</tr>\n",
       "<tr>\n",
       "  <th>Method:</th>             <td>Least Squares</td>  <th>  F-statistic:       </th> <td>   2.957</td>\n",
       "</tr>\n",
       "<tr>\n",
       "  <th>Date:</th>             <td>Mon, 19 Aug 2024</td> <th>  Prob (F-statistic):</th>  <td> 0.103</td> \n",
       "</tr>\n",
       "<tr>\n",
       "  <th>Time:</th>                 <td>20:57:26</td>     <th>  Log-Likelihood:    </th> <td> -11.546</td>\n",
       "</tr>\n",
       "<tr>\n",
       "  <th>No. Observations:</th>      <td>    20</td>      <th>  AIC:               </th> <td>   27.09</td>\n",
       "</tr>\n",
       "<tr>\n",
       "  <th>Df Residuals:</th>          <td>    18</td>      <th>  BIC:               </th> <td>   29.08</td>\n",
       "</tr>\n",
       "<tr>\n",
       "  <th>Df Model:</th>              <td>     1</td>      <th>                     </th>     <td> </td>   \n",
       "</tr>\n",
       "<tr>\n",
       "  <th>Covariance Type:</th>      <td>nonrobust</td>    <th>                     </th>     <td> </td>   \n",
       "</tr>\n",
       "</table>\n",
       "<table class=\"simpletable\">\n",
       "<tr>\n",
       "      <td></td>         <th>coef</th>     <th>std err</th>      <th>t</th>      <th>P>|t|</th>  <th>[0.025</th>    <th>0.975]</th>  \n",
       "</tr>\n",
       "<tr>\n",
       "  <th>Intercept</th> <td>    1.3756</td> <td>    0.468</td> <td>    2.937</td> <td> 0.009</td> <td>    0.392</td> <td>    2.360</td>\n",
       "</tr>\n",
       "<tr>\n",
       "  <th>flores</th>    <td>    0.5163</td> <td>    0.300</td> <td>    1.720</td> <td> 0.103</td> <td>   -0.114</td> <td>    1.147</td>\n",
       "</tr>\n",
       "</table>\n",
       "<table class=\"simpletable\">\n",
       "<tr>\n",
       "  <th>Omnibus:</th>       <td> 3.112</td> <th>  Durbin-Watson:     </th> <td>   2.131</td>\n",
       "</tr>\n",
       "<tr>\n",
       "  <th>Prob(Omnibus):</th> <td> 0.211</td> <th>  Jarque-Bera (JB):  </th> <td>   1.322</td>\n",
       "</tr>\n",
       "<tr>\n",
       "  <th>Skew:</th>          <td> 0.441</td> <th>  Prob(JB):          </th> <td>   0.516</td>\n",
       "</tr>\n",
       "<tr>\n",
       "  <th>Kurtosis:</th>      <td> 3.900</td> <th>  Cond. No.          </th> <td>    10.0</td>\n",
       "</tr>\n",
       "</table><br/><br/>Notes:<br/>[1] Standard Errors assume that the covariance matrix of the errors is correctly specified."
      ],
      "text/latex": [
       "\\begin{center}\n",
       "\\begin{tabular}{lclc}\n",
       "\\toprule\n",
       "\\textbf{Dep. Variable:}    &    producción    & \\textbf{  R-squared:         } &     0.141   \\\\\n",
       "\\textbf{Model:}            &       OLS        & \\textbf{  Adj. R-squared:    } &     0.093   \\\\\n",
       "\\textbf{Method:}           &  Least Squares   & \\textbf{  F-statistic:       } &     2.957   \\\\\n",
       "\\textbf{Date:}             & Mon, 19 Aug 2024 & \\textbf{  Prob (F-statistic):} &    0.103    \\\\\n",
       "\\textbf{Time:}             &     20:57:26     & \\textbf{  Log-Likelihood:    } &   -11.546   \\\\\n",
       "\\textbf{No. Observations:} &          20      & \\textbf{  AIC:               } &     27.09   \\\\\n",
       "\\textbf{Df Residuals:}     &          18      & \\textbf{  BIC:               } &     29.08   \\\\\n",
       "\\textbf{Df Model:}         &           1      & \\textbf{                     } &             \\\\\n",
       "\\textbf{Covariance Type:}  &    nonrobust     & \\textbf{                     } &             \\\\\n",
       "\\bottomrule\n",
       "\\end{tabular}\n",
       "\\begin{tabular}{lcccccc}\n",
       "                   & \\textbf{coef} & \\textbf{std err} & \\textbf{t} & \\textbf{P$> |$t$|$} & \\textbf{[0.025} & \\textbf{0.975]}  \\\\\n",
       "\\midrule\n",
       "\\textbf{Intercept} &       1.3756  &        0.468     &     2.937  &         0.009        &        0.392    &        2.360     \\\\\n",
       "\\textbf{flores}    &       0.5163  &        0.300     &     1.720  &         0.103        &       -0.114    &        1.147     \\\\\n",
       "\\bottomrule\n",
       "\\end{tabular}\n",
       "\\begin{tabular}{lclc}\n",
       "\\textbf{Omnibus:}       &  3.112 & \\textbf{  Durbin-Watson:     } &    2.131  \\\\\n",
       "\\textbf{Prob(Omnibus):} &  0.211 & \\textbf{  Jarque-Bera (JB):  } &    1.322  \\\\\n",
       "\\textbf{Skew:}          &  0.441 & \\textbf{  Prob(JB):          } &    0.516  \\\\\n",
       "\\textbf{Kurtosis:}      &  3.900 & \\textbf{  Cond. No.          } &     10.0  \\\\\n",
       "\\bottomrule\n",
       "\\end{tabular}\n",
       "%\\caption{OLS Regression Results}\n",
       "\\end{center}\n",
       "\n",
       "Notes: \\newline\n",
       " [1] Standard Errors assume that the covariance matrix of the errors is correctly specified."
      ],
      "text/plain": [
       "<class 'statsmodels.iolib.summary.Summary'>\n",
       "\"\"\"\n",
       "                            OLS Regression Results                            \n",
       "==============================================================================\n",
       "Dep. Variable:             producción   R-squared:                       0.141\n",
       "Model:                            OLS   Adj. R-squared:                  0.093\n",
       "Method:                 Least Squares   F-statistic:                     2.957\n",
       "Date:                Mon, 19 Aug 2024   Prob (F-statistic):              0.103\n",
       "Time:                        20:57:26   Log-Likelihood:                -11.546\n",
       "No. Observations:                  20   AIC:                             27.09\n",
       "Df Residuals:                      18   BIC:                             29.08\n",
       "Df Model:                           1                                         \n",
       "Covariance Type:            nonrobust                                         \n",
       "==============================================================================\n",
       "                 coef    std err          t      P>|t|      [0.025      0.975]\n",
       "------------------------------------------------------------------------------\n",
       "Intercept      1.3756      0.468      2.937      0.009       0.392       2.360\n",
       "flores         0.5163      0.300      1.720      0.103      -0.114       1.147\n",
       "==============================================================================\n",
       "Omnibus:                        3.112   Durbin-Watson:                   2.131\n",
       "Prob(Omnibus):                  0.211   Jarque-Bera (JB):                1.322\n",
       "Skew:                           0.441   Prob(JB):                        0.516\n",
       "Kurtosis:                       3.900   Cond. No.                         10.0\n",
       "==============================================================================\n",
       "\n",
       "Notes:\n",
       "[1] Standard Errors assume that the covariance matrix of the errors is correctly specified.\n",
       "\"\"\""
      ]
     },
     "execution_count": 15,
     "metadata": {},
     "output_type": "execute_result"
    }
   ],
   "source": [
    "model_1.summary()"
   ]
  },
  {
   "cell_type": "code",
   "execution_count": 11,
   "metadata": {},
   "outputs": [
    {
     "data": {
      "text/plain": [
       "0.6104309325709996"
      ]
     },
     "execution_count": 11,
     "metadata": {},
     "output_type": "execute_result"
    }
   ],
   "source": [
    "(0.477147)**2*19 - 3.715285"
   ]
  },
  {
   "cell_type": "code",
   "execution_count": 13,
   "metadata": {},
   "outputs": [
    {
     "data": {
      "text/plain": [
       "2.9572966811429002"
      ]
     },
     "execution_count": 13,
     "metadata": {},
     "output_type": "execute_result"
    }
   ],
   "source": [
    "(0.6104)/(3.715285/18)"
   ]
  },
  {
   "cell_type": "code",
   "execution_count": 14,
   "metadata": {},
   "outputs": [
    {
     "data": {
      "text/plain": [
       "1.7196792378646957"
      ]
     },
     "execution_count": 14,
     "metadata": {},
     "output_type": "execute_result"
    }
   ],
   "source": [
    "np.sqrt((0.6104)/(3.715285/18))"
   ]
  },
  {
   "cell_type": "code",
   "execution_count": 17,
   "metadata": {},
   "outputs": [
    {
     "ename": "TypeError",
     "evalue": "object of type 'float' has no len()",
     "output_type": "error",
     "traceback": [
      "\u001b[0;31m---------------------------------------------------------------------------\u001b[0m",
      "\u001b[0;31mTypeError\u001b[0m                                 Traceback (most recent call last)",
      "Cell \u001b[0;32mIn[17], line 1\u001b[0m\n\u001b[0;32m----> 1\u001b[0m model_1\u001b[38;5;241m.\u001b[39mpredict(\u001b[38;5;241m1.66\u001b[39m)\n",
      "File \u001b[0;32m~/anaconda3/envs/mcd_econometrics/lib/python3.11/site-packages/statsmodels/base/model.py:1171\u001b[0m, in \u001b[0;36mResults.predict\u001b[0;34m(self, exog, transform, *args, **kwargs)\u001b[0m\n\u001b[1;32m   1126\u001b[0m \u001b[38;5;28;01mdef\u001b[39;00m \u001b[38;5;21mpredict\u001b[39m(\u001b[38;5;28mself\u001b[39m, exog\u001b[38;5;241m=\u001b[39m\u001b[38;5;28;01mNone\u001b[39;00m, transform\u001b[38;5;241m=\u001b[39m\u001b[38;5;28;01mTrue\u001b[39;00m, \u001b[38;5;241m*\u001b[39margs, \u001b[38;5;241m*\u001b[39m\u001b[38;5;241m*\u001b[39mkwargs):\n\u001b[1;32m   1127\u001b[0m \u001b[38;5;250m    \u001b[39m\u001b[38;5;124;03m\"\"\"\u001b[39;00m\n\u001b[1;32m   1128\u001b[0m \u001b[38;5;124;03m    Call self.model.predict with self.params as the first argument.\u001b[39;00m\n\u001b[1;32m   1129\u001b[0m \n\u001b[0;32m   (...)\u001b[0m\n\u001b[1;32m   1169\u001b[0m \u001b[38;5;124;03m    returned prediction.\u001b[39;00m\n\u001b[1;32m   1170\u001b[0m \u001b[38;5;124;03m    \"\"\"\u001b[39;00m\n\u001b[0;32m-> 1171\u001b[0m     exog, exog_index \u001b[38;5;241m=\u001b[39m \u001b[38;5;28mself\u001b[39m\u001b[38;5;241m.\u001b[39m_transform_predict_exog(exog,\n\u001b[1;32m   1172\u001b[0m                                                     transform\u001b[38;5;241m=\u001b[39mtransform)\n\u001b[1;32m   1174\u001b[0m     predict_results \u001b[38;5;241m=\u001b[39m \u001b[38;5;28mself\u001b[39m\u001b[38;5;241m.\u001b[39mmodel\u001b[38;5;241m.\u001b[39mpredict(\u001b[38;5;28mself\u001b[39m\u001b[38;5;241m.\u001b[39mparams, exog, \u001b[38;5;241m*\u001b[39margs,\n\u001b[1;32m   1175\u001b[0m                                          \u001b[38;5;241m*\u001b[39m\u001b[38;5;241m*\u001b[39mkwargs)\n\u001b[1;32m   1177\u001b[0m     \u001b[38;5;28;01mif\u001b[39;00m exog_index \u001b[38;5;129;01mis\u001b[39;00m \u001b[38;5;129;01mnot\u001b[39;00m \u001b[38;5;28;01mNone\u001b[39;00m \u001b[38;5;129;01mand\u001b[39;00m \u001b[38;5;129;01mnot\u001b[39;00m \u001b[38;5;28mhasattr\u001b[39m(predict_results,\n\u001b[1;32m   1178\u001b[0m                                               \u001b[38;5;124m'\u001b[39m\u001b[38;5;124mpredicted_values\u001b[39m\u001b[38;5;124m'\u001b[39m):\n",
      "File \u001b[0;32m~/anaconda3/envs/mcd_econometrics/lib/python3.11/site-packages/statsmodels/base/model.py:1099\u001b[0m, in \u001b[0;36mResults._transform_predict_exog\u001b[0;34m(self, exog, transform)\u001b[0m\n\u001b[1;32m   1097\u001b[0m         exog \u001b[38;5;241m=\u001b[39m pd\u001b[38;5;241m.\u001b[39mDataFrame(exog)\u001b[38;5;241m.\u001b[39mT\n\u001b[1;32m   1098\u001b[0m     exog_index \u001b[38;5;241m=\u001b[39m exog\u001b[38;5;241m.\u001b[39mindex\n\u001b[0;32m-> 1099\u001b[0m orig_exog_len \u001b[38;5;241m=\u001b[39m \u001b[38;5;28mlen\u001b[39m(exog)\n\u001b[1;32m   1100\u001b[0m is_dict \u001b[38;5;241m=\u001b[39m \u001b[38;5;28misinstance\u001b[39m(exog, \u001b[38;5;28mdict\u001b[39m)\n\u001b[1;32m   1101\u001b[0m \u001b[38;5;28;01mtry\u001b[39;00m:\n",
      "\u001b[0;31mTypeError\u001b[0m: object of type 'float' has no len()"
     ]
    }
   ],
   "source": [
    "model_1.predict(1.66)"
   ]
  }
 ],
 "metadata": {
  "kernelspec": {
   "display_name": "mcd_econometrics",
   "language": "python",
   "name": "python3"
  },
  "language_info": {
   "codemirror_mode": {
    "name": "ipython",
    "version": 3
   },
   "file_extension": ".py",
   "mimetype": "text/x-python",
   "name": "python",
   "nbconvert_exporter": "python",
   "pygments_lexer": "ipython3",
   "version": "3.11.9"
  }
 },
 "nbformat": 4,
 "nbformat_minor": 2
}
