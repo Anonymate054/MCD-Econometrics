{
 "cells": [
  {
   "cell_type": "markdown",
   "metadata": {},
   "source": [
    "![Logo](https://www.up.edu.mx/wp-content/themes/panamericana/img/logo-footer.png)\n",
    "\n",
    "# **Tarea 3: Desestacionalidad series de tiempo y Regresión lineal simple**\n",
    "\n",
    "## **Asignatura:** Econometría  \n",
    "## **Profesora:** Mae. Julieta María Sarralde Vera\n",
    "\n",
    "---\n",
    "\n",
    "**Nombre del Alumno:**  \n",
    "Luis Enrique Noguera Gil\n",
    "\n",
    "**Fecha de entrega:**  \n",
    "01 de septiembre de 2024\n"
   ]
  },
  {
   "cell_type": "markdown",
   "metadata": {},
   "source": [
    "# Auto reload modules"
   ]
  },
  {
   "cell_type": "code",
   "execution_count": 127,
   "metadata": {},
   "outputs": [
    {
     "name": "stdout",
     "output_type": "stream",
     "text": [
      "The autoreload extension is already loaded. To reload it, use:\n",
      "  %reload_ext autoreload\n"
     ]
    }
   ],
   "source": [
    "%load_ext autoreload\n",
    "%autoreload 2"
   ]
  },
  {
   "cell_type": "code",
   "execution_count": 128,
   "metadata": {},
   "outputs": [],
   "source": [
    "import scripts.index as index\n",
    "import fs"
   ]
  },
  {
   "cell_type": "code",
   "execution_count": 129,
   "metadata": {},
   "outputs": [],
   "source": [
    "MAIN_DIR = fs.open_fs(\"../../data/raw/HW03\")\n",
    "CSV_DIR = MAIN_DIR.getsyspath(\"T03.csv\")"
   ]
  },
  {
   "cell_type": "code",
   "execution_count": 130,
   "metadata": {},
   "outputs": [],
   "source": [
    "DIR = fs.open_fs(\".\")\n",
    "NB_DIR = DIR.getsyspath(\"0.0-leng-HW03.ipynb\")\n",
    "\n",
    "# Extrae los encabezados y genera el índice\n",
    "headings = index.extract_headings(NB_DIR)\n",
    "toc = index.generate_toc(headings)\n",
    "\n",
    "# Muestra el índice generado\n",
    "# print(toc)"
   ]
  },
  {
   "cell_type": "markdown",
   "metadata": {},
   "source": [
    "- [**Tarea 3: Desestacionalidad series de tiempo y Regresión lineal simple**](#**tarea-3:-desestacionalidad-series-de-tiempo-y-regresión-lineal-simple**)\n",
    "  - [**Asignatura:** Econometría](#**asignatura:**-econometría)\n",
    "  - [**Profesora:** Mae. Julieta María Sarralde](#**profesora:**-mae.-julieta-maría-sarralde)\n",
    "- [Auto reload modules](#auto-reload-modules)\n",
    "  - [Ejercicio](#ejercicio)\n",
    "    - [1. Si establecemos como “regla de dedo” que una serie presenta poca variación si el coeficiente de variación es menor a 30%. En el caso de las exportaciones de aguacate ¿cuánto vale el coeficiente de variación? Exprese su resultado en porcentaje con dos decimales.](#1.-si-establecemos-como-“regla-de-dedo”-que-una-serie-presenta-poca-variación-si-el-coeficiente-de-variación-es-menor-a-30%.-en-el-caso-de-las-exportaciones-de-aguacate-¿cuánto-vale-el-coeficiente-de-variación?-exprese-su-resultado-en-porcentaje-con-dos-decimales.)\n",
    "    - [2. Considerando las estadísticas descriptivas de la serie de tiempo de las exportaciones de aguacate ¿qué puede concluir? Incluya los gráficos relevantes para su análisis.](#2.-considerando-las-estadísticas-descriptivas-de-la-serie-de-tiempo-de-las-exportaciones-de-aguacate-¿qué-puede-concluir?-incluya-los-gráficos-relevantes-para-su-análisis.)\n",
    "    - [3. Considerando un modelo de regresión de la serie original contra el tiempo, el valor del coeficiente de pendiente muestral es en miles de toneladas es:](#3.-considerando-un-modelo-de-regresión-de-la-serie-original-contra-el-tiempo,-el-valor-del-coeficiente-de-pendiente-muestral-es-en-miles-de-toneladas-es:)\n",
    "    - [4. Elabore la prueba de hipótesis correspondiente con un 0.05 de significancia para validar si las exportaciones de aguacate han venido creciendo en el tiempo.](#4.-elabore-la-prueba-de-hipótesis-correspondiente-con-un-0.05-de-significancia-para-validar-si-las-exportaciones-de-aguacate-han-venido-creciendo-en-el-tiempo.)\n",
    "    - [5. Aplicando la técnica de desestacionalidad simple vista en clase, obtenga los índices estacionales e interprételos.](#5.-aplicando-la-técnica-de-desestacionalidad-simple-vista-en-clase,-obtenga-los-índices-estacionales-e-interprételos.)\n",
    "    - [6. Obtenga la regresión lineal simple con los datos desestacionalizados y el tiempo y elabore la prueba de hipótesis correspondiente con un 0.05 de significancia para validar si la tendencia de las exportaciones de aguacate ha venido creciendo en el tiempo.](#6.-obtenga-la-regresión-lineal-simple-con-los-datos-desestacionalizados-y-el-tiempo-y-elabore-la-prueba-de-hipótesis-correspondiente-con-un-0.05-de-significancia-para-validar-si-la-tendencia-de-las-exportaciones-de-aguacate-ha-venido-creciendo-en-el-tiempo.)\n",
    "    - [7. Proporcione un intervalo al 95% de confianza para el valor de la tendencia de la serie de exportaciones de aguacate en el segundo bimestre del 2024.](#7.-proporcione-un-intervalo-al-95%-de-confianza-para-el-valor-de-la-tendencia-de-la-serie-de-exportaciones-de-aguacate-en-el-segundo-bimestre-del-2024.)\n",
    "    - [8. Compare los resultados de los modelos de regresión lineal simple ajustados a la serie de tiempo original y a la serie desestacionalizada, ambos contra el tiempo. ¿cuál es una explicación sólida para justificar el hecho de que el coeficiente de determinación cambie?](#8.-compare-los-resultados-de-los-modelos-de-regresión-lineal-simple-ajustados-a-la-serie-de-tiempo-original-y-a-la-serie-desestacionalizada,-ambos-contra-el-tiempo.-¿cuál-es-una-explicación-sólida-para-justificar-el-hecho-de-que-el-coeficiente-de-determinación-cambie?)\n",
    "    - [9. Grafique los pronósticos obtenidos con ambas técnicas y comente los resultados.](#9.-grafique-los-pronósticos-obtenidos-con-ambas-técnicas-y-comente-los-resultados.)"
   ]
  },
  {
   "cell_type": "markdown",
   "metadata": {},
   "source": [
    "## Ejercicio \n",
    "\n",
    "México es el mayor productor y exportador mundial de aguacate, una fruta que ha ganado popularidad global por su valor nutricional y versatilidad en la cocina. El aguacate, conocido por su riqueza en grasas saludables, vitaminas y minerales, es un componente esencial en dietas equilibradas y ha visto un aumento significativo en su demanda en mercados internacionales.\n",
    "\n",
    "La industria del aguacate es un pilar fundamental de la economía agrícola mexicana. En las últimas décadas, el aguacate ha pasado de ser un producto regional a convertirse en una de las principales exportaciones agrícolas del país. La producción y exportación de aguacate no solo contribuyen de manera significativa al PIB agrícola, sino que también generan empleo en diversas regiones, particularmente en los estados de Michoacán y Jalisco, que son los principales productores.\n",
    "\n",
    "A continuación en la tabla no1 se muestran los datos bimestrales de la exportación de agucate en toneladas:"
   ]
  },
  {
   "cell_type": "code",
   "execution_count": 131,
   "metadata": {},
   "outputs": [],
   "source": [
    "# Librerías\n",
    "\n",
    "import statsmodels.formula.api as smf\n",
    "import matplotlib.pyplot as plt\n",
    "from scipy.stats import t\n",
    "import seaborn as sns\n",
    "import pandas as pd\n",
    "import warnings\n",
    "\n",
    "warnings.filterwarnings(\"ignore\")\n",
    "sns.set_style(\"darkgrid\")"
   ]
  },
  {
   "cell_type": "code",
   "execution_count": 132,
   "metadata": {},
   "outputs": [
    {
     "data": {
      "text/plain": [
       "33"
      ]
     },
     "execution_count": 132,
     "metadata": {},
     "output_type": "execute_result"
    }
   ],
   "source": [
    "len([2019, 2019, 2019, 2019, 2019, 2019, 2020, 2020, 2020, 2020, 2020, 2020, 2020, 2020,\n",
    "            2021, 2021, 2021, 2021, 2021, 2022, 2022, 2022, 2022, 2022, 2022, 2022, 2022, 2023, \n",
    "            2023, 2023, 2023, 2023, 2023])"
   ]
  },
  {
   "cell_type": "code",
   "execution_count": 133,
   "metadata": {},
   "outputs": [
    {
     "data": {
      "text/plain": [
       "30"
      ]
     },
     "execution_count": 133,
     "metadata": {},
     "output_type": "execute_result"
    }
   ],
   "source": [
    "len([1, 2, 3, 4, 5, 6, 1, 2, 3, 4, 5, 6, 1, 2, 3, 4, 5, 6, 1, 2, 3, 4, 5, 6, 1, 2, \n",
    "                3, 4, 5, 6])"
   ]
  },
  {
   "cell_type": "code",
   "execution_count": 134,
   "metadata": {},
   "outputs": [
    {
     "data": {
      "text/html": [
       "<div>\n",
       "<style scoped>\n",
       "    .dataframe tbody tr th:only-of-type {\n",
       "        vertical-align: middle;\n",
       "    }\n",
       "\n",
       "    .dataframe tbody tr th {\n",
       "        vertical-align: top;\n",
       "    }\n",
       "\n",
       "    .dataframe thead th {\n",
       "        text-align: right;\n",
       "    }\n",
       "</style>\n",
       "<table border=\"1\" class=\"dataframe\">\n",
       "  <thead>\n",
       "    <tr style=\"text-align: right;\">\n",
       "      <th></th>\n",
       "      <th>Año</th>\n",
       "      <th>Bimestre</th>\n",
       "      <th>t</th>\n",
       "      <th>Toneladas</th>\n",
       "    </tr>\n",
       "  </thead>\n",
       "  <tbody>\n",
       "    <tr>\n",
       "      <th>0</th>\n",
       "      <td>2019</td>\n",
       "      <td>1</td>\n",
       "      <td>1</td>\n",
       "      <td>224604.04</td>\n",
       "    </tr>\n",
       "    <tr>\n",
       "      <th>1</th>\n",
       "      <td>2019</td>\n",
       "      <td>2</td>\n",
       "      <td>2</td>\n",
       "      <td>201125.90</td>\n",
       "    </tr>\n",
       "    <tr>\n",
       "      <th>2</th>\n",
       "      <td>2019</td>\n",
       "      <td>3</td>\n",
       "      <td>3</td>\n",
       "      <td>154184.06</td>\n",
       "    </tr>\n",
       "    <tr>\n",
       "      <th>3</th>\n",
       "      <td>2019</td>\n",
       "      <td>4</td>\n",
       "      <td>4</td>\n",
       "      <td>140857.77</td>\n",
       "    </tr>\n",
       "    <tr>\n",
       "      <th>4</th>\n",
       "      <td>2019</td>\n",
       "      <td>5</td>\n",
       "      <td>5</td>\n",
       "      <td>213070.50</td>\n",
       "    </tr>\n",
       "    <tr>\n",
       "      <th>5</th>\n",
       "      <td>2019</td>\n",
       "      <td>6</td>\n",
       "      <td>6</td>\n",
       "      <td>268644.20</td>\n",
       "    </tr>\n",
       "    <tr>\n",
       "      <th>6</th>\n",
       "      <td>2020</td>\n",
       "      <td>1</td>\n",
       "      <td>7</td>\n",
       "      <td>316793.52</td>\n",
       "    </tr>\n",
       "    <tr>\n",
       "      <th>7</th>\n",
       "      <td>2020</td>\n",
       "      <td>2</td>\n",
       "      <td>8</td>\n",
       "      <td>283659.09</td>\n",
       "    </tr>\n",
       "    <tr>\n",
       "      <th>8</th>\n",
       "      <td>2020</td>\n",
       "      <td>3</td>\n",
       "      <td>9</td>\n",
       "      <td>217428.69</td>\n",
       "    </tr>\n",
       "    <tr>\n",
       "      <th>9</th>\n",
       "      <td>2020</td>\n",
       "      <td>4</td>\n",
       "      <td>10</td>\n",
       "      <td>198535.98</td>\n",
       "    </tr>\n",
       "    <tr>\n",
       "      <th>10</th>\n",
       "      <td>2020</td>\n",
       "      <td>5</td>\n",
       "      <td>11</td>\n",
       "      <td>300467.80</td>\n",
       "    </tr>\n",
       "    <tr>\n",
       "      <th>11</th>\n",
       "      <td>2020</td>\n",
       "      <td>6</td>\n",
       "      <td>12</td>\n",
       "      <td>378764.26</td>\n",
       "    </tr>\n",
       "    <tr>\n",
       "      <th>12</th>\n",
       "      <td>2021</td>\n",
       "      <td>1</td>\n",
       "      <td>13</td>\n",
       "      <td>410806.71</td>\n",
       "    </tr>\n",
       "    <tr>\n",
       "      <th>13</th>\n",
       "      <td>2021</td>\n",
       "      <td>2</td>\n",
       "      <td>14</td>\n",
       "      <td>367955.31</td>\n",
       "    </tr>\n",
       "    <tr>\n",
       "      <th>14</th>\n",
       "      <td>2021</td>\n",
       "      <td>3</td>\n",
       "      <td>15</td>\n",
       "      <td>282092.18</td>\n",
       "    </tr>\n",
       "    <tr>\n",
       "      <th>15</th>\n",
       "      <td>2021</td>\n",
       "      <td>4</td>\n",
       "      <td>16</td>\n",
       "      <td>257532.45</td>\n",
       "    </tr>\n",
       "    <tr>\n",
       "      <th>16</th>\n",
       "      <td>2021</td>\n",
       "      <td>5</td>\n",
       "      <td>17</td>\n",
       "      <td>389706.87</td>\n",
       "    </tr>\n",
       "    <tr>\n",
       "      <th>17</th>\n",
       "      <td>2021</td>\n",
       "      <td>6</td>\n",
       "      <td>18</td>\n",
       "      <td>491240.80</td>\n",
       "    </tr>\n",
       "    <tr>\n",
       "      <th>18</th>\n",
       "      <td>2022</td>\n",
       "      <td>1</td>\n",
       "      <td>19</td>\n",
       "      <td>405077.56</td>\n",
       "    </tr>\n",
       "    <tr>\n",
       "      <th>19</th>\n",
       "      <td>2022</td>\n",
       "      <td>2</td>\n",
       "      <td>20</td>\n",
       "      <td>362765.23</td>\n",
       "    </tr>\n",
       "    <tr>\n",
       "      <th>20</th>\n",
       "      <td>2022</td>\n",
       "      <td>3</td>\n",
       "      <td>21</td>\n",
       "      <td>278092.64</td>\n",
       "    </tr>\n",
       "    <tr>\n",
       "      <th>21</th>\n",
       "      <td>2022</td>\n",
       "      <td>4</td>\n",
       "      <td>22</td>\n",
       "      <td>253986.68</td>\n",
       "    </tr>\n",
       "    <tr>\n",
       "      <th>22</th>\n",
       "      <td>2022</td>\n",
       "      <td>5</td>\n",
       "      <td>23</td>\n",
       "      <td>384156.60</td>\n",
       "    </tr>\n",
       "    <tr>\n",
       "      <th>23</th>\n",
       "      <td>2022</td>\n",
       "      <td>6</td>\n",
       "      <td>24</td>\n",
       "      <td>484431.36</td>\n",
       "    </tr>\n",
       "    <tr>\n",
       "      <th>24</th>\n",
       "      <td>2023</td>\n",
       "      <td>1</td>\n",
       "      <td>25</td>\n",
       "      <td>426151.46</td>\n",
       "    </tr>\n",
       "    <tr>\n",
       "      <th>25</th>\n",
       "      <td>2023</td>\n",
       "      <td>2</td>\n",
       "      <td>26</td>\n",
       "      <td>381653.51</td>\n",
       "    </tr>\n",
       "    <tr>\n",
       "      <th>26</th>\n",
       "      <td>2023</td>\n",
       "      <td>3</td>\n",
       "      <td>27</td>\n",
       "      <td>292635.95</td>\n",
       "    </tr>\n",
       "    <tr>\n",
       "      <th>27</th>\n",
       "      <td>2023</td>\n",
       "      <td>4</td>\n",
       "      <td>28</td>\n",
       "      <td>267180.48</td>\n",
       "    </tr>\n",
       "    <tr>\n",
       "      <th>28</th>\n",
       "      <td>2023</td>\n",
       "      <td>5</td>\n",
       "      <td>29</td>\n",
       "      <td>404208.92</td>\n",
       "    </tr>\n",
       "    <tr>\n",
       "      <th>29</th>\n",
       "      <td>2023</td>\n",
       "      <td>6</td>\n",
       "      <td>30</td>\n",
       "      <td>522430.98</td>\n",
       "    </tr>\n",
       "  </tbody>\n",
       "</table>\n",
       "</div>"
      ],
      "text/plain": [
       "     Año  Bimestre   t  Toneladas\n",
       "0   2019         1   1  224604.04\n",
       "1   2019         2   2  201125.90\n",
       "2   2019         3   3  154184.06\n",
       "3   2019         4   4  140857.77\n",
       "4   2019         5   5  213070.50\n",
       "5   2019         6   6  268644.20\n",
       "6   2020         1   7  316793.52\n",
       "7   2020         2   8  283659.09\n",
       "8   2020         3   9  217428.69\n",
       "9   2020         4  10  198535.98\n",
       "10  2020         5  11  300467.80\n",
       "11  2020         6  12  378764.26\n",
       "12  2021         1  13  410806.71\n",
       "13  2021         2  14  367955.31\n",
       "14  2021         3  15  282092.18\n",
       "15  2021         4  16  257532.45\n",
       "16  2021         5  17  389706.87\n",
       "17  2021         6  18  491240.80\n",
       "18  2022         1  19  405077.56\n",
       "19  2022         2  20  362765.23\n",
       "20  2022         3  21  278092.64\n",
       "21  2022         4  22  253986.68\n",
       "22  2022         5  23  384156.60\n",
       "23  2022         6  24  484431.36\n",
       "24  2023         1  25  426151.46\n",
       "25  2023         2  26  381653.51\n",
       "26  2023         3  27  292635.95\n",
       "27  2023         4  28  267180.48\n",
       "28  2023         5  29  404208.92\n",
       "29  2023         6  30  522430.98"
      ]
     },
     "execution_count": 134,
     "metadata": {},
     "output_type": "execute_result"
    }
   ],
   "source": [
    "data = {\n",
    "    'Año': [2019, 2019, 2019, 2019, 2019, 2019, 2020, 2020, 2020, 2020, 2020, 2020, 2021, 2021, \n",
    "            2021, 2021, 2021, 2021, 2022, 2022, 2022, 2022, 2022, 2022, 2023, 2023, 2023, 2023, \n",
    "            2023, 2023],\n",
    "    'Bimestre': [1, 2, 3, 4, 5, 6, 1, 2, 3, 4, 5, 6, 1, 2, 3, 4, 5, 6, 1, 2, 3, 4, 5, 6, 1, 2, \n",
    "                3, 4, 5, 6],\n",
    "    't': [1, 2, 3, 4, 5, 6, 7, 8, 9, 10, 11, 12, 13, 14, 15, 16, 17, 18, 19, 20, 21, 22, 23, 24, \n",
    "          25, 26, 27, 28, 29, 30],\n",
    "    'Toneladas': [224604.04, 201125.90, 154184.06, 140857.77, 213070.50, 268644.20, 316793.52, \n",
    "                  283659.09, 217428.69, 198535.98, 300467.80, 378764.26, 410806.71, 367955.31, \n",
    "                  282092.18, 257532.45, 389706.87, 491240.80, 405077.56, 362765.23, 278092.64, \n",
    "                  253986.68, 384156.60, 484431.36, 426151.46, 381653.51, 292635.95, 267180.48, \n",
    "                  404208.92, 522430.98]\n",
    "}\n",
    "\n",
    "df = pd.DataFrame(data)\n",
    "df"
   ]
  },
  {
   "cell_type": "code",
   "execution_count": 135,
   "metadata": {},
   "outputs": [],
   "source": [
    "df.to_csv(CSV_DIR, encoding='utf-8', index=False)"
   ]
  },
  {
   "cell_type": "code",
   "execution_count": 136,
   "metadata": {},
   "outputs": [
    {
     "data": {
      "text/plain": [
       "<Axes: xlabel='t', ylabel='Toneladas'>"
      ]
     },
     "execution_count": 136,
     "metadata": {},
     "output_type": "execute_result"
    },
    {
     "data": {
      "image/png": "[encoded data removed]",
      "text/plain": [
       "<Figure size 640x480 with 1 Axes>"
      ]
     },
     "metadata": {},
     "output_type": "display_data"
    }
   ],
   "source": [
    "sns.lineplot(data=df, x='t', y='Toneladas')"
   ]
  },
  {
   "cell_type": "markdown",
   "metadata": {},
   "source": [
    "Conteste las siguientes preguntas."
   ]
  },
  {
   "cell_type": "markdown",
   "metadata": {},
   "source": [
    "###  1. Si establecemos como “regla de dedo” que una serie presenta poca variación si el coeficiente de variación es menor a 30%. En el caso de las exportaciones de aguacate ¿cuánto vale el coeficiente de variación? Exprese su resultado en porcentaje con dos decimales."
   ]
  },
  {
   "cell_type": "code",
   "execution_count": 137,
   "metadata": {},
   "outputs": [
    {
     "name": "stdout",
     "output_type": "stream",
     "text": [
      "Se tiene un promedio de 318,674.72 Toneladas, con una desviación estándar de: 100,061.44.\n",
      "El coeficiente de varación es 31.40 %\n"
     ]
    }
   ],
   "source": [
    "y_bar = df['Toneladas'].mean()\n",
    "s_y = df['Toneladas'].std()\n",
    "cv = s_y / y_bar\n",
    "print(f\"Se tiene un promedio de {y_bar:,.2f} Toneladas, con una desviación estándar de: {s_y:,.2f}.\")\n",
    "print(f\"El coeficiente de varación es {(cv * 100):.2f} %\")"
   ]
  },
  {
   "cell_type": "code",
   "execution_count": 138,
   "metadata": {},
   "outputs": [
    {
     "name": "stdout",
     "output_type": "stream",
     "text": [
      "Presenta mucha variación\n"
     ]
    }
   ],
   "source": [
    "print(\"Presenta poca variación\" if cv < 0.3 else \"Presenta mucha variación\")"
   ]
  },
  {
   "cell_type": "markdown",
   "metadata": {},
   "source": [
    "### 2. Considerando las estadísticas descriptivas de la serie de tiempo de las exportaciones de aguacate ¿qué puede concluir? Incluya los gráficos relevantes para su análisis."
   ]
  },
  {
   "cell_type": "code",
   "execution_count": 139,
   "metadata": {},
   "outputs": [
    {
     "data": {
      "text/plain": [
       "count        30.000000\n",
       "mean     318674.716667\n",
       "std      100061.438890\n",
       "min      140857.770000\n",
       "25%      254873.122500\n",
       "50%      296551.875000\n",
       "75%      388319.302500\n",
       "max      522430.980000\n",
       "Name: Toneladas, dtype: float64"
      ]
     },
     "execution_count": 139,
     "metadata": {},
     "output_type": "execute_result"
    }
   ],
   "source": [
    "df['Toneladas'].describe()"
   ]
  },
  {
   "cell_type": "markdown",
   "metadata": {},
   "source": [
    "### 3. Considerando un modelo de regresión de la serie original contra el tiempo, el valor del coeficiente de pendiente muestral es en miles de toneladas es:"
   ]
  },
  {
   "cell_type": "code",
   "execution_count": 140,
   "metadata": {},
   "outputs": [],
   "source": [
    "model_df = (\n",
    "    smf.ols(\n",
    "        formula='Toneladas ~ t',\n",
    "        data=df\n",
    "    )\n",
    "    .fit()\n",
    ")"
   ]
  },
  {
   "cell_type": "code",
   "execution_count": 142,
   "metadata": {},
   "outputs": [
    {
     "name": "stdout",
     "output_type": "stream",
     "text": [
      "El estimador del coeficiente de la ordenada = b1 = slope = 7,533.7778\n",
      "El estimador de la eslasticidad = b0 = intercept = 201,901.1614\n"
     ]
    }
   ],
   "source": [
    "b1 : float = model_df.params['t']\n",
    "b0 : float = model_df.params['Intercept']\n",
    "print(f\"El estimador del coeficiente de la ordenada = b1 = slope = {b1:,.4f}\")\n",
    "print(f\"El estimador de la eslasticidad = b0 = intercept = {b0:,.4f}\")"
   ]
  },
  {
   "cell_type": "code",
   "execution_count": 143,
   "metadata": {},
   "outputs": [
    {
     "name": "stdout",
     "output_type": "stream",
     "text": [
      "El coeficiente b1 = slope = 7,533.778\n",
      "El coeficiente b0 = intercept = 201,901.161\n"
     ]
    }
   ],
   "source": [
    "print(f\"El coeficiente b1 = slope = {model_df.params['t']:,.3f}\")\n",
    "print(f\"El coeficiente b0 = intercept = {model_df.params['Intercept']:,.3f}\")"
   ]
  },
  {
   "cell_type": "code",
   "execution_count": 144,
   "metadata": {},
   "outputs": [
    {
     "name": "stdout",
     "output_type": "stream",
     "text": [
      "El coeficiente de pendiente muestral es 7,533.778 en miles de toneladas.\n"
     ]
    }
   ],
   "source": [
    "print(f\"El coeficiente de pendiente muestral es {model_df.params['t']:,.3f} en miles de toneladas.\")"
   ]
  },
  {
   "cell_type": "markdown",
   "metadata": {},
   "source": [
    "### 4. Elabore la prueba de hipótesis correspondiente con un 0.05 de significancia para validar si las exportaciones de aguacate han venido creciendo en el tiempo."
   ]
  },
  {
   "cell_type": "markdown",
   "metadata": {},
   "source": [
    "\n",
    "118 o 242. Libro "
   ]
  },
  {
   "cell_type": "code",
   "execution_count": 145,
   "metadata": {},
   "outputs": [
    {
     "name": "stdout",
     "output_type": "stream",
     "text": [
      "4.684070570283034\n"
     ]
    }
   ],
   "source": [
    "se_b1 = model_df.bse['t']\n",
    "t_value = (b1 - 0) / (se_b1)\n",
    "print(f\"{t_value}\")"
   ]
  },
  {
   "cell_type": "markdown",
   "metadata": {},
   "source": [
    "Obtención del estadistico t mediante el modelo."
   ]
  },
  {
   "cell_type": "code",
   "execution_count": 146,
   "metadata": {},
   "outputs": [
    {
     "data": {
      "text/plain": [
       "4.684070570283034"
      ]
     },
     "execution_count": 146,
     "metadata": {},
     "output_type": "execute_result"
    }
   ],
   "source": [
    "model_df.tvalues['t']"
   ]
  },
  {
   "cell_type": "markdown",
   "metadata": {},
   "source": [
    "Prueba de hipótesis mediante p valor."
   ]
  },
  {
   "cell_type": "code",
   "execution_count": 147,
   "metadata": {},
   "outputs": [
    {
     "data": {
      "text/plain": [
       "3.2885344124267135e-05"
      ]
     },
     "execution_count": 147,
     "metadata": {},
     "output_type": "execute_result"
    }
   ],
   "source": [
    "p_value = 1 - t.cdf(t_value, df=model_df.df_resid)\n",
    "p_value"
   ]
  },
  {
   "cell_type": "code",
   "execution_count": 148,
   "metadata": {},
   "outputs": [
    {
     "name": "stdout",
     "output_type": "stream",
     "text": [
      "Se rechaza H0\n"
     ]
    }
   ],
   "source": [
    "if  p_value < 0.05 :\n",
    "    print(\"Se rechaza H0\")\n",
    "else:\n",
    "    print(\"Se acepta H0\")"
   ]
  },
  {
   "cell_type": "markdown",
   "metadata": {},
   "source": [
    "Prueba de hipótesis mediante t crítica:"
   ]
  },
  {
   "cell_type": "code",
   "execution_count": 149,
   "metadata": {},
   "outputs": [
    {
     "data": {
      "text/plain": [
       "1.701130934265931"
      ]
     },
     "execution_count": 149,
     "metadata": {},
     "output_type": "execute_result"
    }
   ],
   "source": [
    "t_critic = t.ppf(1 - 0.05, df=model_df.df_resid)\n",
    "t_critic"
   ]
  },
  {
   "cell_type": "code",
   "execution_count": 150,
   "metadata": {},
   "outputs": [
    {
     "name": "stdout",
     "output_type": "stream",
     "text": [
      "Se rechaza H0\n"
     ]
    }
   ],
   "source": [
    "if t_value > t_critic:\n",
    "    print(\"Se rechaza H0\")\n",
    "else:\n",
    "    print(\"Se acepta H0\") "
   ]
  },
  {
   "cell_type": "markdown",
   "metadata": {},
   "source": [
    "### 5. Aplicando la técnica de desestacionalidad simple vista en clase, obtenga los índices estacionales e interprételos."
   ]
  },
  {
   "cell_type": "code",
   "execution_count": 151,
   "metadata": {},
   "outputs": [
    {
     "data": {
      "text/html": [
       "<div>\n",
       "<style scoped>\n",
       "    .dataframe tbody tr th:only-of-type {\n",
       "        vertical-align: middle;\n",
       "    }\n",
       "\n",
       "    .dataframe tbody tr th {\n",
       "        vertical-align: top;\n",
       "    }\n",
       "\n",
       "    .dataframe thead th {\n",
       "        text-align: right;\n",
       "    }\n",
       "</style>\n",
       "<table border=\"1\" class=\"dataframe\">\n",
       "  <thead>\n",
       "    <tr style=\"text-align: right;\">\n",
       "      <th></th>\n",
       "      <th>Año</th>\n",
       "      <th>Bimestre</th>\n",
       "      <th>t</th>\n",
       "      <th>Toneladas</th>\n",
       "    </tr>\n",
       "  </thead>\n",
       "  <tbody>\n",
       "    <tr>\n",
       "      <th>0</th>\n",
       "      <td>2019</td>\n",
       "      <td>1</td>\n",
       "      <td>1</td>\n",
       "      <td>224604.04</td>\n",
       "    </tr>\n",
       "    <tr>\n",
       "      <th>1</th>\n",
       "      <td>2019</td>\n",
       "      <td>2</td>\n",
       "      <td>2</td>\n",
       "      <td>201125.90</td>\n",
       "    </tr>\n",
       "    <tr>\n",
       "      <th>2</th>\n",
       "      <td>2019</td>\n",
       "      <td>3</td>\n",
       "      <td>3</td>\n",
       "      <td>154184.06</td>\n",
       "    </tr>\n",
       "    <tr>\n",
       "      <th>3</th>\n",
       "      <td>2019</td>\n",
       "      <td>4</td>\n",
       "      <td>4</td>\n",
       "      <td>140857.77</td>\n",
       "    </tr>\n",
       "    <tr>\n",
       "      <th>4</th>\n",
       "      <td>2019</td>\n",
       "      <td>5</td>\n",
       "      <td>5</td>\n",
       "      <td>213070.50</td>\n",
       "    </tr>\n",
       "  </tbody>\n",
       "</table>\n",
       "</div>"
      ],
      "text/plain": [
       "    Año  Bimestre  t  Toneladas\n",
       "0  2019         1  1  224604.04\n",
       "1  2019         2  2  201125.90\n",
       "2  2019         3  3  154184.06\n",
       "3  2019         4  4  140857.77\n",
       "4  2019         5  5  213070.50"
      ]
     },
     "execution_count": 151,
     "metadata": {},
     "output_type": "execute_result"
    }
   ],
   "source": [
    "df.head()"
   ]
  },
  {
   "cell_type": "markdown",
   "metadata": {},
   "source": [
    "Obtención del promedio anual"
   ]
  },
  {
   "cell_type": "code",
   "execution_count": 152,
   "metadata": {},
   "outputs": [
    {
     "data": {
      "text/html": [
       "<div>\n",
       "<style scoped>\n",
       "    .dataframe tbody tr th:only-of-type {\n",
       "        vertical-align: middle;\n",
       "    }\n",
       "\n",
       "    .dataframe tbody tr th {\n",
       "        vertical-align: top;\n",
       "    }\n",
       "\n",
       "    .dataframe thead th {\n",
       "        text-align: right;\n",
       "    }\n",
       "</style>\n",
       "<table border=\"1\" class=\"dataframe\">\n",
       "  <thead>\n",
       "    <tr style=\"text-align: right;\">\n",
       "      <th></th>\n",
       "      <th>Toneladas</th>\n",
       "    </tr>\n",
       "    <tr>\n",
       "      <th>Año</th>\n",
       "      <th></th>\n",
       "    </tr>\n",
       "  </thead>\n",
       "  <tbody>\n",
       "    <tr>\n",
       "      <th>2019</th>\n",
       "      <td>200414.411667</td>\n",
       "    </tr>\n",
       "    <tr>\n",
       "      <th>2020</th>\n",
       "      <td>282608.223333</td>\n",
       "    </tr>\n",
       "    <tr>\n",
       "      <th>2021</th>\n",
       "      <td>366555.720000</td>\n",
       "    </tr>\n",
       "    <tr>\n",
       "      <th>2022</th>\n",
       "      <td>361418.345000</td>\n",
       "    </tr>\n",
       "    <tr>\n",
       "      <th>2023</th>\n",
       "      <td>382376.883333</td>\n",
       "    </tr>\n",
       "  </tbody>\n",
       "</table>\n",
       "</div>"
      ],
      "text/plain": [
       "          Toneladas\n",
       "Año                \n",
       "2019  200414.411667\n",
       "2020  282608.223333\n",
       "2021  366555.720000\n",
       "2022  361418.345000\n",
       "2023  382376.883333"
      ]
     },
     "execution_count": 152,
     "metadata": {},
     "output_type": "execute_result"
    }
   ],
   "source": [
    "df_year = df[['Año', 'Toneladas']].groupby('Año').mean()\n",
    "df_year"
   ]
  },
  {
   "cell_type": "markdown",
   "metadata": {},
   "source": [
    "División del promedio anual entre el valor de las toneladas."
   ]
  },
  {
   "cell_type": "code",
   "execution_count": 153,
   "metadata": {},
   "outputs": [
    {
     "data": {
      "text/html": [
       "<div>\n",
       "<style scoped>\n",
       "    .dataframe tbody tr th:only-of-type {\n",
       "        vertical-align: middle;\n",
       "    }\n",
       "\n",
       "    .dataframe tbody tr th {\n",
       "        vertical-align: top;\n",
       "    }\n",
       "\n",
       "    .dataframe thead th {\n",
       "        text-align: right;\n",
       "    }\n",
       "</style>\n",
       "<table border=\"1\" class=\"dataframe\">\n",
       "  <thead>\n",
       "    <tr style=\"text-align: right;\">\n",
       "      <th></th>\n",
       "      <th>Año</th>\n",
       "      <th>Bimestre</th>\n",
       "      <th>t</th>\n",
       "      <th>Toneladas</th>\n",
       "      <th>Toneladas_anual</th>\n",
       "    </tr>\n",
       "  </thead>\n",
       "  <tbody>\n",
       "    <tr>\n",
       "      <th>0</th>\n",
       "      <td>2019</td>\n",
       "      <td>1</td>\n",
       "      <td>1</td>\n",
       "      <td>224604.04</td>\n",
       "      <td>1.120698</td>\n",
       "    </tr>\n",
       "    <tr>\n",
       "      <th>1</th>\n",
       "      <td>2019</td>\n",
       "      <td>2</td>\n",
       "      <td>2</td>\n",
       "      <td>201125.90</td>\n",
       "      <td>1.003550</td>\n",
       "    </tr>\n",
       "    <tr>\n",
       "      <th>2</th>\n",
       "      <td>2019</td>\n",
       "      <td>3</td>\n",
       "      <td>3</td>\n",
       "      <td>154184.06</td>\n",
       "      <td>0.769326</td>\n",
       "    </tr>\n",
       "    <tr>\n",
       "      <th>3</th>\n",
       "      <td>2019</td>\n",
       "      <td>4</td>\n",
       "      <td>4</td>\n",
       "      <td>140857.77</td>\n",
       "      <td>0.702833</td>\n",
       "    </tr>\n",
       "    <tr>\n",
       "      <th>4</th>\n",
       "      <td>2019</td>\n",
       "      <td>5</td>\n",
       "      <td>5</td>\n",
       "      <td>213070.50</td>\n",
       "      <td>1.063150</td>\n",
       "    </tr>\n",
       "    <tr>\n",
       "      <th>5</th>\n",
       "      <td>2019</td>\n",
       "      <td>6</td>\n",
       "      <td>6</td>\n",
       "      <td>268644.20</td>\n",
       "      <td>1.340444</td>\n",
       "    </tr>\n",
       "    <tr>\n",
       "      <th>6</th>\n",
       "      <td>2020</td>\n",
       "      <td>1</td>\n",
       "      <td>7</td>\n",
       "      <td>316793.52</td>\n",
       "      <td>1.120964</td>\n",
       "    </tr>\n",
       "    <tr>\n",
       "      <th>7</th>\n",
       "      <td>2020</td>\n",
       "      <td>2</td>\n",
       "      <td>8</td>\n",
       "      <td>283659.09</td>\n",
       "      <td>1.003718</td>\n",
       "    </tr>\n",
       "    <tr>\n",
       "      <th>8</th>\n",
       "      <td>2020</td>\n",
       "      <td>3</td>\n",
       "      <td>9</td>\n",
       "      <td>217428.69</td>\n",
       "      <td>0.769364</td>\n",
       "    </tr>\n",
       "    <tr>\n",
       "      <th>9</th>\n",
       "      <td>2020</td>\n",
       "      <td>4</td>\n",
       "      <td>10</td>\n",
       "      <td>198535.98</td>\n",
       "      <td>0.702513</td>\n",
       "    </tr>\n",
       "    <tr>\n",
       "      <th>10</th>\n",
       "      <td>2020</td>\n",
       "      <td>5</td>\n",
       "      <td>11</td>\n",
       "      <td>300467.80</td>\n",
       "      <td>1.063196</td>\n",
       "    </tr>\n",
       "    <tr>\n",
       "      <th>11</th>\n",
       "      <td>2020</td>\n",
       "      <td>6</td>\n",
       "      <td>12</td>\n",
       "      <td>378764.26</td>\n",
       "      <td>1.340245</td>\n",
       "    </tr>\n",
       "    <tr>\n",
       "      <th>12</th>\n",
       "      <td>2021</td>\n",
       "      <td>1</td>\n",
       "      <td>13</td>\n",
       "      <td>410806.71</td>\n",
       "      <td>1.120721</td>\n",
       "    </tr>\n",
       "    <tr>\n",
       "      <th>13</th>\n",
       "      <td>2021</td>\n",
       "      <td>2</td>\n",
       "      <td>14</td>\n",
       "      <td>367955.31</td>\n",
       "      <td>1.003818</td>\n",
       "    </tr>\n",
       "    <tr>\n",
       "      <th>14</th>\n",
       "      <td>2021</td>\n",
       "      <td>3</td>\n",
       "      <td>15</td>\n",
       "      <td>282092.18</td>\n",
       "      <td>0.769575</td>\n",
       "    </tr>\n",
       "    <tr>\n",
       "      <th>15</th>\n",
       "      <td>2021</td>\n",
       "      <td>4</td>\n",
       "      <td>16</td>\n",
       "      <td>257532.45</td>\n",
       "      <td>0.702574</td>\n",
       "    </tr>\n",
       "    <tr>\n",
       "      <th>16</th>\n",
       "      <td>2021</td>\n",
       "      <td>5</td>\n",
       "      <td>17</td>\n",
       "      <td>389706.87</td>\n",
       "      <td>1.063159</td>\n",
       "    </tr>\n",
       "    <tr>\n",
       "      <th>17</th>\n",
       "      <td>2021</td>\n",
       "      <td>6</td>\n",
       "      <td>18</td>\n",
       "      <td>491240.80</td>\n",
       "      <td>1.340153</td>\n",
       "    </tr>\n",
       "    <tr>\n",
       "      <th>18</th>\n",
       "      <td>2022</td>\n",
       "      <td>1</td>\n",
       "      <td>19</td>\n",
       "      <td>405077.56</td>\n",
       "      <td>1.120800</td>\n",
       "    </tr>\n",
       "    <tr>\n",
       "      <th>19</th>\n",
       "      <td>2022</td>\n",
       "      <td>2</td>\n",
       "      <td>20</td>\n",
       "      <td>362765.23</td>\n",
       "      <td>1.003727</td>\n",
       "    </tr>\n",
       "    <tr>\n",
       "      <th>20</th>\n",
       "      <td>2022</td>\n",
       "      <td>3</td>\n",
       "      <td>21</td>\n",
       "      <td>278092.64</td>\n",
       "      <td>0.769448</td>\n",
       "    </tr>\n",
       "    <tr>\n",
       "      <th>21</th>\n",
       "      <td>2022</td>\n",
       "      <td>4</td>\n",
       "      <td>22</td>\n",
       "      <td>253986.68</td>\n",
       "      <td>0.702750</td>\n",
       "    </tr>\n",
       "    <tr>\n",
       "      <th>22</th>\n",
       "      <td>2022</td>\n",
       "      <td>5</td>\n",
       "      <td>23</td>\n",
       "      <td>384156.60</td>\n",
       "      <td>1.062914</td>\n",
       "    </tr>\n",
       "    <tr>\n",
       "      <th>23</th>\n",
       "      <td>2022</td>\n",
       "      <td>6</td>\n",
       "      <td>24</td>\n",
       "      <td>484431.36</td>\n",
       "      <td>1.340362</td>\n",
       "    </tr>\n",
       "    <tr>\n",
       "      <th>24</th>\n",
       "      <td>2023</td>\n",
       "      <td>1</td>\n",
       "      <td>25</td>\n",
       "      <td>426151.46</td>\n",
       "      <td>1.114480</td>\n",
       "    </tr>\n",
       "    <tr>\n",
       "      <th>25</th>\n",
       "      <td>2023</td>\n",
       "      <td>2</td>\n",
       "      <td>26</td>\n",
       "      <td>381653.51</td>\n",
       "      <td>0.998108</td>\n",
       "    </tr>\n",
       "    <tr>\n",
       "      <th>26</th>\n",
       "      <td>2023</td>\n",
       "      <td>3</td>\n",
       "      <td>27</td>\n",
       "      <td>292635.95</td>\n",
       "      <td>0.765308</td>\n",
       "    </tr>\n",
       "    <tr>\n",
       "      <th>27</th>\n",
       "      <td>2023</td>\n",
       "      <td>4</td>\n",
       "      <td>28</td>\n",
       "      <td>267180.48</td>\n",
       "      <td>0.698736</td>\n",
       "    </tr>\n",
       "    <tr>\n",
       "      <th>28</th>\n",
       "      <td>2023</td>\n",
       "      <td>5</td>\n",
       "      <td>29</td>\n",
       "      <td>404208.92</td>\n",
       "      <td>1.057096</td>\n",
       "    </tr>\n",
       "    <tr>\n",
       "      <th>29</th>\n",
       "      <td>2023</td>\n",
       "      <td>6</td>\n",
       "      <td>30</td>\n",
       "      <td>522430.98</td>\n",
       "      <td>1.366272</td>\n",
       "    </tr>\n",
       "  </tbody>\n",
       "</table>\n",
       "</div>"
      ],
      "text/plain": [
       "     Año  Bimestre   t  Toneladas  Toneladas_anual\n",
       "0   2019         1   1  224604.04         1.120698\n",
       "1   2019         2   2  201125.90         1.003550\n",
       "2   2019         3   3  154184.06         0.769326\n",
       "3   2019         4   4  140857.77         0.702833\n",
       "4   2019         5   5  213070.50         1.063150\n",
       "5   2019         6   6  268644.20         1.340444\n",
       "6   2020         1   7  316793.52         1.120964\n",
       "7   2020         2   8  283659.09         1.003718\n",
       "8   2020         3   9  217428.69         0.769364\n",
       "9   2020         4  10  198535.98         0.702513\n",
       "10  2020         5  11  300467.80         1.063196\n",
       "11  2020         6  12  378764.26         1.340245\n",
       "12  2021         1  13  410806.71         1.120721\n",
       "13  2021         2  14  367955.31         1.003818\n",
       "14  2021         3  15  282092.18         0.769575\n",
       "15  2021         4  16  257532.45         0.702574\n",
       "16  2021         5  17  389706.87         1.063159\n",
       "17  2021         6  18  491240.80         1.340153\n",
       "18  2022         1  19  405077.56         1.120800\n",
       "19  2022         2  20  362765.23         1.003727\n",
       "20  2022         3  21  278092.64         0.769448\n",
       "21  2022         4  22  253986.68         0.702750\n",
       "22  2022         5  23  384156.60         1.062914\n",
       "23  2022         6  24  484431.36         1.340362\n",
       "24  2023         1  25  426151.46         1.114480\n",
       "25  2023         2  26  381653.51         0.998108\n",
       "26  2023         3  27  292635.95         0.765308\n",
       "27  2023         4  28  267180.48         0.698736\n",
       "28  2023         5  29  404208.92         1.057096\n",
       "29  2023         6  30  522430.98         1.366272"
      ]
     },
     "execution_count": 153,
     "metadata": {},
     "output_type": "execute_result"
    }
   ],
   "source": [
    "df2 = df.copy()\n",
    "df2['Toneladas_anual'] = df2.apply(lambda row: row['Toneladas'] / df_year.loc[row['Año'], 'Toneladas'], axis=1)\n",
    "df2\n"
   ]
  },
  {
   "cell_type": "markdown",
   "metadata": {},
   "source": [
    "Obtención del promedio por periodo."
   ]
  },
  {
   "cell_type": "code",
   "execution_count": 154,
   "metadata": {},
   "outputs": [
    {
     "data": {
      "text/html": [
       "<div>\n",
       "<style scoped>\n",
       "    .dataframe tbody tr th:only-of-type {\n",
       "        vertical-align: middle;\n",
       "    }\n",
       "\n",
       "    .dataframe tbody tr th {\n",
       "        vertical-align: top;\n",
       "    }\n",
       "\n",
       "    .dataframe thead th {\n",
       "        text-align: right;\n",
       "    }\n",
       "</style>\n",
       "<table border=\"1\" class=\"dataframe\">\n",
       "  <thead>\n",
       "    <tr style=\"text-align: right;\">\n",
       "      <th></th>\n",
       "      <th>Toneladas_anual</th>\n",
       "    </tr>\n",
       "    <tr>\n",
       "      <th>Bimestre</th>\n",
       "      <th></th>\n",
       "    </tr>\n",
       "  </thead>\n",
       "  <tbody>\n",
       "    <tr>\n",
       "      <th>1</th>\n",
       "      <td>1.119533</td>\n",
       "    </tr>\n",
       "    <tr>\n",
       "      <th>2</th>\n",
       "      <td>1.002584</td>\n",
       "    </tr>\n",
       "    <tr>\n",
       "      <th>3</th>\n",
       "      <td>0.768604</td>\n",
       "    </tr>\n",
       "    <tr>\n",
       "      <th>4</th>\n",
       "      <td>0.701881</td>\n",
       "    </tr>\n",
       "    <tr>\n",
       "      <th>5</th>\n",
       "      <td>1.061903</td>\n",
       "    </tr>\n",
       "    <tr>\n",
       "      <th>6</th>\n",
       "      <td>1.345495</td>\n",
       "    </tr>\n",
       "  </tbody>\n",
       "</table>\n",
       "</div>"
      ],
      "text/plain": [
       "          Toneladas_anual\n",
       "Bimestre                 \n",
       "1                1.119533\n",
       "2                1.002584\n",
       "3                0.768604\n",
       "4                0.701881\n",
       "5                1.061903\n",
       "6                1.345495"
      ]
     },
     "execution_count": 154,
     "metadata": {},
     "output_type": "execute_result"
    }
   ],
   "source": [
    "df_bim = df2[['Bimestre','Toneladas_anual']].groupby('Bimestre').mean()\n",
    "df_bim"
   ]
  },
  {
   "cell_type": "markdown",
   "metadata": {},
   "source": [
    "Validación del número de periodos"
   ]
  },
  {
   "cell_type": "code",
   "execution_count": 155,
   "metadata": {},
   "outputs": [
    {
     "data": {
      "text/plain": [
       "30.0"
      ]
     },
     "execution_count": 155,
     "metadata": {},
     "output_type": "execute_result"
    }
   ],
   "source": [
    "df2.groupby('Bimestre').sum().reset_index()['Toneladas_anual'].sum()"
   ]
  },
  {
   "cell_type": "markdown",
   "metadata": {},
   "source": [
    "División del promedio por periodos. "
   ]
  },
  {
   "cell_type": "code",
   "execution_count": 156,
   "metadata": {},
   "outputs": [
    {
     "data": {
      "text/html": [
       "<div>\n",
       "<style scoped>\n",
       "    .dataframe tbody tr th:only-of-type {\n",
       "        vertical-align: middle;\n",
       "    }\n",
       "\n",
       "    .dataframe tbody tr th {\n",
       "        vertical-align: top;\n",
       "    }\n",
       "\n",
       "    .dataframe thead th {\n",
       "        text-align: right;\n",
       "    }\n",
       "</style>\n",
       "<table border=\"1\" class=\"dataframe\">\n",
       "  <thead>\n",
       "    <tr style=\"text-align: right;\">\n",
       "      <th></th>\n",
       "      <th>Año</th>\n",
       "      <th>Bimestre</th>\n",
       "      <th>t</th>\n",
       "      <th>Toneladas</th>\n",
       "      <th>Toneladas_periodo</th>\n",
       "    </tr>\n",
       "  </thead>\n",
       "  <tbody>\n",
       "    <tr>\n",
       "      <th>0</th>\n",
       "      <td>2019</td>\n",
       "      <td>1</td>\n",
       "      <td>1</td>\n",
       "      <td>224604.04</td>\n",
       "      <td>200623.063470</td>\n",
       "    </tr>\n",
       "    <tr>\n",
       "      <th>1</th>\n",
       "      <td>2019</td>\n",
       "      <td>2</td>\n",
       "      <td>2</td>\n",
       "      <td>201125.90</td>\n",
       "      <td>200607.464279</td>\n",
       "    </tr>\n",
       "    <tr>\n",
       "      <th>2</th>\n",
       "      <td>2019</td>\n",
       "      <td>3</td>\n",
       "      <td>3</td>\n",
       "      <td>154184.06</td>\n",
       "      <td>200602.655511</td>\n",
       "    </tr>\n",
       "    <tr>\n",
       "      <th>3</th>\n",
       "      <td>2019</td>\n",
       "      <td>4</td>\n",
       "      <td>4</td>\n",
       "      <td>140857.77</td>\n",
       "      <td>200686.099233</td>\n",
       "    </tr>\n",
       "    <tr>\n",
       "      <th>4</th>\n",
       "      <td>2019</td>\n",
       "      <td>5</td>\n",
       "      <td>5</td>\n",
       "      <td>213070.50</td>\n",
       "      <td>200649.747725</td>\n",
       "    </tr>\n",
       "    <tr>\n",
       "      <th>5</th>\n",
       "      <td>2019</td>\n",
       "      <td>6</td>\n",
       "      <td>6</td>\n",
       "      <td>268644.20</td>\n",
       "      <td>199661.956083</td>\n",
       "    </tr>\n",
       "    <tr>\n",
       "      <th>6</th>\n",
       "      <td>2020</td>\n",
       "      <td>1</td>\n",
       "      <td>7</td>\n",
       "      <td>316793.52</td>\n",
       "      <td>282969.471385</td>\n",
       "    </tr>\n",
       "    <tr>\n",
       "      <th>7</th>\n",
       "      <td>2020</td>\n",
       "      <td>2</td>\n",
       "      <td>8</td>\n",
       "      <td>283659.09</td>\n",
       "      <td>282927.911147</td>\n",
       "    </tr>\n",
       "    <tr>\n",
       "      <th>8</th>\n",
       "      <td>2020</td>\n",
       "      <td>3</td>\n",
       "      <td>9</td>\n",
       "      <td>217428.69</td>\n",
       "      <td>282887.690194</td>\n",
       "    </tr>\n",
       "    <tr>\n",
       "      <th>9</th>\n",
       "      <td>2020</td>\n",
       "      <td>4</td>\n",
       "      <td>10</td>\n",
       "      <td>198535.98</td>\n",
       "      <td>282862.715941</td>\n",
       "    </tr>\n",
       "    <tr>\n",
       "      <th>10</th>\n",
       "      <td>2020</td>\n",
       "      <td>5</td>\n",
       "      <td>11</td>\n",
       "      <td>300467.80</td>\n",
       "      <td>282952.301090</td>\n",
       "    </tr>\n",
       "    <tr>\n",
       "      <th>11</th>\n",
       "      <td>2020</td>\n",
       "      <td>6</td>\n",
       "      <td>12</td>\n",
       "      <td>378764.26</td>\n",
       "      <td>281505.474699</td>\n",
       "    </tr>\n",
       "    <tr>\n",
       "      <th>12</th>\n",
       "      <td>2021</td>\n",
       "      <td>1</td>\n",
       "      <td>13</td>\n",
       "      <td>410806.71</td>\n",
       "      <td>366944.871758</td>\n",
       "    </tr>\n",
       "    <tr>\n",
       "      <th>13</th>\n",
       "      <td>2021</td>\n",
       "      <td>2</td>\n",
       "      <td>14</td>\n",
       "      <td>367955.31</td>\n",
       "      <td>367006.843509</td>\n",
       "    </tr>\n",
       "    <tr>\n",
       "      <th>14</th>\n",
       "      <td>2021</td>\n",
       "      <td>3</td>\n",
       "      <td>15</td>\n",
       "      <td>282092.18</td>\n",
       "      <td>367018.746340</td>\n",
       "    </tr>\n",
       "    <tr>\n",
       "      <th>15</th>\n",
       "      <td>2021</td>\n",
       "      <td>4</td>\n",
       "      <td>16</td>\n",
       "      <td>257532.45</td>\n",
       "      <td>366917.514146</td>\n",
       "    </tr>\n",
       "    <tr>\n",
       "      <th>16</th>\n",
       "      <td>2021</td>\n",
       "      <td>5</td>\n",
       "      <td>17</td>\n",
       "      <td>389706.87</td>\n",
       "      <td>366989.260138</td>\n",
       "    </tr>\n",
       "    <tr>\n",
       "      <th>17</th>\n",
       "      <td>2021</td>\n",
       "      <td>6</td>\n",
       "      <td>18</td>\n",
       "      <td>491240.80</td>\n",
       "      <td>365100.378254</td>\n",
       "    </tr>\n",
       "    <tr>\n",
       "      <th>18</th>\n",
       "      <td>2022</td>\n",
       "      <td>1</td>\n",
       "      <td>19</td>\n",
       "      <td>405077.56</td>\n",
       "      <td>361827.423184</td>\n",
       "    </tr>\n",
       "    <tr>\n",
       "      <th>19</th>\n",
       "      <td>2022</td>\n",
       "      <td>2</td>\n",
       "      <td>20</td>\n",
       "      <td>362765.23</td>\n",
       "      <td>361830.141810</td>\n",
       "    </tr>\n",
       "    <tr>\n",
       "      <th>20</th>\n",
       "      <td>2022</td>\n",
       "      <td>3</td>\n",
       "      <td>21</td>\n",
       "      <td>278092.64</td>\n",
       "      <td>361815.106321</td>\n",
       "    </tr>\n",
       "    <tr>\n",
       "      <th>21</th>\n",
       "      <td>2022</td>\n",
       "      <td>4</td>\n",
       "      <td>22</td>\n",
       "      <td>253986.68</td>\n",
       "      <td>361865.703727</td>\n",
       "    </tr>\n",
       "    <tr>\n",
       "      <th>22</th>\n",
       "      <td>2022</td>\n",
       "      <td>5</td>\n",
       "      <td>23</td>\n",
       "      <td>384156.60</td>\n",
       "      <td>361762.538112</td>\n",
       "    </tr>\n",
       "    <tr>\n",
       "      <th>23</th>\n",
       "      <td>2022</td>\n",
       "      <td>6</td>\n",
       "      <td>24</td>\n",
       "      <td>484431.36</td>\n",
       "      <td>360039.460839</td>\n",
       "    </tr>\n",
       "    <tr>\n",
       "      <th>24</th>\n",
       "      <td>2023</td>\n",
       "      <td>1</td>\n",
       "      <td>25</td>\n",
       "      <td>426151.46</td>\n",
       "      <td>380651.262583</td>\n",
       "    </tr>\n",
       "    <tr>\n",
       "      <th>25</th>\n",
       "      <td>2023</td>\n",
       "      <td>2</td>\n",
       "      <td>26</td>\n",
       "      <td>381653.51</td>\n",
       "      <td>380669.734103</td>\n",
       "    </tr>\n",
       "    <tr>\n",
       "      <th>26</th>\n",
       "      <td>2023</td>\n",
       "      <td>3</td>\n",
       "      <td>27</td>\n",
       "      <td>292635.95</td>\n",
       "      <td>380736.819797</td>\n",
       "    </tr>\n",
       "    <tr>\n",
       "      <th>27</th>\n",
       "      <td>2023</td>\n",
       "      <td>4</td>\n",
       "      <td>28</td>\n",
       "      <td>267180.48</td>\n",
       "      <td>380663.475806</td>\n",
       "    </tr>\n",
       "    <tr>\n",
       "      <th>28</th>\n",
       "      <td>2023</td>\n",
       "      <td>5</td>\n",
       "      <td>29</td>\n",
       "      <td>404208.92</td>\n",
       "      <td>380645.926236</td>\n",
       "    </tr>\n",
       "    <tr>\n",
       "      <th>29</th>\n",
       "      <td>2023</td>\n",
       "      <td>6</td>\n",
       "      <td>30</td>\n",
       "      <td>522430.98</td>\n",
       "      <td>388281.568652</td>\n",
       "    </tr>\n",
       "  </tbody>\n",
       "</table>\n",
       "</div>"
      ],
      "text/plain": [
       "     Año  Bimestre   t  Toneladas  Toneladas_periodo\n",
       "0   2019         1   1  224604.04      200623.063470\n",
       "1   2019         2   2  201125.90      200607.464279\n",
       "2   2019         3   3  154184.06      200602.655511\n",
       "3   2019         4   4  140857.77      200686.099233\n",
       "4   2019         5   5  213070.50      200649.747725\n",
       "5   2019         6   6  268644.20      199661.956083\n",
       "6   2020         1   7  316793.52      282969.471385\n",
       "7   2020         2   8  283659.09      282927.911147\n",
       "8   2020         3   9  217428.69      282887.690194\n",
       "9   2020         4  10  198535.98      282862.715941\n",
       "10  2020         5  11  300467.80      282952.301090\n",
       "11  2020         6  12  378764.26      281505.474699\n",
       "12  2021         1  13  410806.71      366944.871758\n",
       "13  2021         2  14  367955.31      367006.843509\n",
       "14  2021         3  15  282092.18      367018.746340\n",
       "15  2021         4  16  257532.45      366917.514146\n",
       "16  2021         5  17  389706.87      366989.260138\n",
       "17  2021         6  18  491240.80      365100.378254\n",
       "18  2022         1  19  405077.56      361827.423184\n",
       "19  2022         2  20  362765.23      361830.141810\n",
       "20  2022         3  21  278092.64      361815.106321\n",
       "21  2022         4  22  253986.68      361865.703727\n",
       "22  2022         5  23  384156.60      361762.538112\n",
       "23  2022         6  24  484431.36      360039.460839\n",
       "24  2023         1  25  426151.46      380651.262583\n",
       "25  2023         2  26  381653.51      380669.734103\n",
       "26  2023         3  27  292635.95      380736.819797\n",
       "27  2023         4  28  267180.48      380663.475806\n",
       "28  2023         5  29  404208.92      380645.926236\n",
       "29  2023         6  30  522430.98      388281.568652"
      ]
     },
     "execution_count": 156,
     "metadata": {},
     "output_type": "execute_result"
    }
   ],
   "source": [
    "df2 = df.copy()\n",
    "df2['Toneladas_periodo'] = df2.apply(lambda row: row['Toneladas'] / df_bim.loc[row['Bimestre'], 'Toneladas_anual'], axis=1)\n",
    "df2"
   ]
  },
  {
   "cell_type": "markdown",
   "metadata": {},
   "source": [
    "### 6. Obtenga la regresión lineal simple con los datos desestacionalizados y el tiempo y elabore la prueba de hipótesis correspondiente con un 0.05 de significancia para validar si la tendencia de las exportaciones de aguacate ha venido creciendo en el tiempo."
   ]
  },
  {
   "cell_type": "code",
   "execution_count": 157,
   "metadata": {},
   "outputs": [],
   "source": [
    "model_df2 = (\n",
    "    smf.ols(\n",
    "        formula='Toneladas_periodo ~ t',\n",
    "        data=df2\n",
    "    )\n",
    "    .fit()\n",
    ")"
   ]
  },
  {
   "cell_type": "markdown",
   "metadata": {},
   "source": [
    "### 7. Proporcione un intervalo al 95% de confianza para el valor de la tendencia de la serie de exportaciones de aguacate en el segundo bimestre del 2024."
   ]
  },
  {
   "cell_type": "code",
   "execution_count": 159,
   "metadata": {},
   "outputs": [
    {
     "name": "stdout",
     "output_type": "stream",
     "text": [
      "El estimador del coeficiente de la ordenada = b1 = slope = 208,947.4114\n",
      "El estimador de la eslasticidad = b0 = intercept = 7,078.0236\n"
     ]
    }
   ],
   "source": [
    "b0_des : float = model_df2.params['t']\n",
    "b1_des : float = model_df2.params['Intercept']\n",
    "\n",
    "print(f\"El estimador del coeficiente de la ordenada = b1 = slope = {b1_des:,.4f}\")\n",
    "print(f\"El estimador de la eslasticidad = b0 = intercept = {b0_des:,.4f}\")"
   ]
  },
  {
   "cell_type": "code",
   "execution_count": 192,
   "metadata": {},
   "outputs": [],
   "source": [
    "data = {\n",
    "    'Año': [2024, 2024, 2024, 2024, 2024, 2024],\n",
    "    'Bimestre': [1, 2, 3, 4, 5, 6],\n",
    "    't': [31, 32, 33, 34, 35, 36]\n",
    "}\n",
    "\n",
    "df3 = pd.DataFrame(data)\n",
    "# df3"
   ]
  },
  {
   "cell_type": "code",
   "execution_count": 168,
   "metadata": {},
   "outputs": [],
   "source": [
    "# Modelo sin desestacionalidad\n",
    "predictions = model_df.get_prediction(df3['t'])\n",
    "predicted_values = predictions.predicted_mean\n",
    "df3['base_model'] = predicted_values"
   ]
  },
  {
   "cell_type": "code",
   "execution_count": 170,
   "metadata": {},
   "outputs": [],
   "source": [
    "# Modelo desestacionalizado\n",
    "predictions = model_df2.get_prediction(df3['t'])\n",
    "predicted_values = predictions.predicted_mean\n",
    "df3['des_model'] = predicted_values"
   ]
  },
  {
   "cell_type": "code",
   "execution_count": 171,
   "metadata": {},
   "outputs": [
    {
     "data": {
      "text/html": [
       "<div>\n",
       "<style scoped>\n",
       "    .dataframe tbody tr th:only-of-type {\n",
       "        vertical-align: middle;\n",
       "    }\n",
       "\n",
       "    .dataframe tbody tr th {\n",
       "        vertical-align: top;\n",
       "    }\n",
       "\n",
       "    .dataframe thead th {\n",
       "        text-align: right;\n",
       "    }\n",
       "</style>\n",
       "<table border=\"1\" class=\"dataframe\">\n",
       "  <thead>\n",
       "    <tr style=\"text-align: right;\">\n",
       "      <th></th>\n",
       "      <th>Año</th>\n",
       "      <th>Bimestre</th>\n",
       "      <th>t</th>\n",
       "      <th>base_model</th>\n",
       "      <th>des_model</th>\n",
       "    </tr>\n",
       "  </thead>\n",
       "  <tbody>\n",
       "    <tr>\n",
       "      <th>0</th>\n",
       "      <td>2024</td>\n",
       "      <td>1</td>\n",
       "      <td>31</td>\n",
       "      <td>435448.271908</td>\n",
       "      <td>428366.143716</td>\n",
       "    </tr>\n",
       "    <tr>\n",
       "      <th>1</th>\n",
       "      <td>2024</td>\n",
       "      <td>2</td>\n",
       "      <td>32</td>\n",
       "      <td>442982.049666</td>\n",
       "      <td>435444.167341</td>\n",
       "    </tr>\n",
       "    <tr>\n",
       "      <th>2</th>\n",
       "      <td>2024</td>\n",
       "      <td>3</td>\n",
       "      <td>33</td>\n",
       "      <td>450515.827423</td>\n",
       "      <td>442522.190965</td>\n",
       "    </tr>\n",
       "    <tr>\n",
       "      <th>3</th>\n",
       "      <td>2024</td>\n",
       "      <td>4</td>\n",
       "      <td>34</td>\n",
       "      <td>458049.605181</td>\n",
       "      <td>449600.214590</td>\n",
       "    </tr>\n",
       "    <tr>\n",
       "      <th>4</th>\n",
       "      <td>2024</td>\n",
       "      <td>5</td>\n",
       "      <td>35</td>\n",
       "      <td>465583.382938</td>\n",
       "      <td>456678.238214</td>\n",
       "    </tr>\n",
       "    <tr>\n",
       "      <th>5</th>\n",
       "      <td>2024</td>\n",
       "      <td>6</td>\n",
       "      <td>36</td>\n",
       "      <td>473117.160696</td>\n",
       "      <td>463756.261839</td>\n",
       "    </tr>\n",
       "  </tbody>\n",
       "</table>\n",
       "</div>"
      ],
      "text/plain": [
       "    Año  Bimestre   t     base_model      des_model\n",
       "0  2024         1  31  435448.271908  428366.143716\n",
       "1  2024         2  32  442982.049666  435444.167341\n",
       "2  2024         3  33  450515.827423  442522.190965\n",
       "3  2024         4  34  458049.605181  449600.214590\n",
       "4  2024         5  35  465583.382938  456678.238214\n",
       "5  2024         6  36  473117.160696  463756.261839"
      ]
     },
     "execution_count": 171,
     "metadata": {},
     "output_type": "execute_result"
    }
   ],
   "source": [
    "df3"
   ]
  },
  {
   "cell_type": "code",
   "execution_count": 182,
   "metadata": {},
   "outputs": [
    {
     "data": {
      "text/plain": [
       "32"
      ]
     },
     "execution_count": 182,
     "metadata": {},
     "output_type": "execute_result"
    }
   ],
   "source": [
    "t_2024_b2 = df3[(df3['Año'] == 2024) & (df3['Bimestre'] == 2)]['t'][1]\n",
    "t_2024_b2"
   ]
  },
  {
   "cell_type": "markdown",
   "metadata": {},
   "source": [
    "Para el segúndo bimestre del 2024, el valor de t debe ser 32."
   ]
  },
  {
   "cell_type": "markdown",
   "metadata": {},
   "source": [
    "Obtención de las predicciones:"
   ]
  },
  {
   "cell_type": "code",
   "execution_count": 162,
   "metadata": {},
   "outputs": [],
   "source": [
    "prediction = model_df2.get_prediction({\"t\": t_2024_b2})"
   ]
  },
  {
   "cell_type": "markdown",
   "metadata": {},
   "source": [
    "Cálculo de intervalo de confianza."
   ]
  },
  {
   "cell_type": "code",
   "execution_count": 193,
   "metadata": {},
   "outputs": [
    {
     "data": {
      "text/plain": [
       "665.9985631191898"
      ]
     },
     "execution_count": 193,
     "metadata": {},
     "output_type": "execute_result"
    }
   ],
   "source": [
    "model_df2.bse['t']"
   ]
  },
  {
   "cell_type": "code",
   "execution_count": 163,
   "metadata": {},
   "outputs": [
    {
     "name": "stdout",
     "output_type": "stream",
     "text": [
      "(410,025.16, 460,863.17)\n"
     ]
    }
   ],
   "source": [
    "confience = 0.95\n",
    "mean_ci = prediction.conf_int(alpha=1-confience)[0]\n",
    "print(f\"({mean_ci[0]:,.2f}, {mean_ci[1]:,.2f})\")"
   ]
  },
  {
   "cell_type": "markdown",
   "metadata": {},
   "source": [
    "### 8. Compare los resultados de los modelos de regresión lineal simple ajustados a la serie de tiempo original y a la serie desestacionalizada, ambos contra el tiempo. ¿cuál es una explicación sólida para justificar el hecho de que el coeficiente de determinación cambie?"
   ]
  },
  {
   "cell_type": "markdown",
   "metadata": {},
   "source": [
    "Resumen de la regresión estacionalizada"
   ]
  },
  {
   "cell_type": "code",
   "execution_count": 189,
   "metadata": {},
   "outputs": [
    {
     "data": {
      "text/html": [
       "<table class=\"simpletable\">\n",
       "<caption>OLS Regression Results</caption>\n",
       "<tr>\n",
       "  <th>Dep. Variable:</th>        <td>Toneladas</td>    <th>  R-squared:         </th> <td>   0.439</td>\n",
       "</tr>\n",
       "<tr>\n",
       "  <th>Model:</th>                   <td>OLS</td>       <th>  Adj. R-squared:    </th> <td>   0.419</td>\n",
       "</tr>\n",
       "<tr>\n",
       "  <th>Method:</th>             <td>Least Squares</td>  <th>  F-statistic:       </th> <td>   21.94</td>\n",
       "</tr>\n",
       "<tr>\n",
       "  <th>Date:</th>             <td>Sun, 01 Sep 2024</td> <th>  Prob (F-statistic):</th> <td>6.58e-05</td>\n",
       "</tr>\n",
       "<tr>\n",
       "  <th>Time:</th>                 <td>13:10:45</td>     <th>  Log-Likelihood:    </th> <td> -378.79</td>\n",
       "</tr>\n",
       "<tr>\n",
       "  <th>No. Observations:</th>      <td>    30</td>      <th>  AIC:               </th> <td>   761.6</td>\n",
       "</tr>\n",
       "<tr>\n",
       "  <th>Df Residuals:</th>          <td>    28</td>      <th>  BIC:               </th> <td>   764.4</td>\n",
       "</tr>\n",
       "<tr>\n",
       "  <th>Df Model:</th>              <td>     1</td>      <th>                     </th>     <td> </td>   \n",
       "</tr>\n",
       "<tr>\n",
       "  <th>Covariance Type:</th>      <td>nonrobust</td>    <th>                     </th>     <td> </td>   \n",
       "</tr>\n",
       "</table>\n",
       "<table class=\"simpletable\">\n",
       "<tr>\n",
       "      <td></td>         <th>coef</th>     <th>std err</th>      <th>t</th>      <th>P>|t|</th>  <th>[0.025</th>    <th>0.975]</th>  \n",
       "</tr>\n",
       "<tr>\n",
       "  <th>Intercept</th> <td> 2.019e+05</td> <td> 2.86e+04</td> <td>    7.071</td> <td> 0.000</td> <td> 1.43e+05</td> <td>  2.6e+05</td>\n",
       "</tr>\n",
       "<tr>\n",
       "  <th>t</th>         <td> 7533.7778</td> <td> 1608.383</td> <td>    4.684</td> <td> 0.000</td> <td> 4239.155</td> <td> 1.08e+04</td>\n",
       "</tr>\n",
       "</table>\n",
       "<table class=\"simpletable\">\n",
       "<tr>\n",
       "  <th>Omnibus:</th>       <td> 0.711</td> <th>  Durbin-Watson:     </th> <td>   0.997</td>\n",
       "</tr>\n",
       "<tr>\n",
       "  <th>Prob(Omnibus):</th> <td> 0.701</td> <th>  Jarque-Bera (JB):  </th> <td>   0.695</td>\n",
       "</tr>\n",
       "<tr>\n",
       "  <th>Skew:</th>          <td>-0.009</td> <th>  Prob(JB):          </th> <td>   0.707</td>\n",
       "</tr>\n",
       "<tr>\n",
       "  <th>Kurtosis:</th>      <td> 2.255</td> <th>  Cond. No.          </th> <td>    36.5</td>\n",
       "</tr>\n",
       "</table><br/><br/>Notes:<br/>[1] Standard Errors assume that the covariance matrix of the errors is correctly specified."
      ],
      "text/latex": [
       "\\begin{center}\n",
       "\\begin{tabular}{lclc}\n",
       "\\toprule\n",
       "\\textbf{Dep. Variable:}    &    Toneladas     & \\textbf{  R-squared:         } &     0.439   \\\\\n",
       "\\textbf{Model:}            &       OLS        & \\textbf{  Adj. R-squared:    } &     0.419   \\\\\n",
       "\\textbf{Method:}           &  Least Squares   & \\textbf{  F-statistic:       } &     21.94   \\\\\n",
       "\\textbf{Date:}             & Sun, 01 Sep 2024 & \\textbf{  Prob (F-statistic):} &  6.58e-05   \\\\\n",
       "\\textbf{Time:}             &     13:10:45     & \\textbf{  Log-Likelihood:    } &   -378.79   \\\\\n",
       "\\textbf{No. Observations:} &          30      & \\textbf{  AIC:               } &     761.6   \\\\\n",
       "\\textbf{Df Residuals:}     &          28      & \\textbf{  BIC:               } &     764.4   \\\\\n",
       "\\textbf{Df Model:}         &           1      & \\textbf{                     } &             \\\\\n",
       "\\textbf{Covariance Type:}  &    nonrobust     & \\textbf{                     } &             \\\\\n",
       "\\bottomrule\n",
       "\\end{tabular}\n",
       "\\begin{tabular}{lcccccc}\n",
       "                   & \\textbf{coef} & \\textbf{std err} & \\textbf{t} & \\textbf{P$> |$t$|$} & \\textbf{[0.025} & \\textbf{0.975]}  \\\\\n",
       "\\midrule\n",
       "\\textbf{Intercept} &    2.019e+05  &     2.86e+04     &     7.071  &         0.000        &     1.43e+05    &      2.6e+05     \\\\\n",
       "\\textbf{t}         &    7533.7778  &     1608.383     &     4.684  &         0.000        &     4239.155    &     1.08e+04     \\\\\n",
       "\\bottomrule\n",
       "\\end{tabular}\n",
       "\\begin{tabular}{lclc}\n",
       "\\textbf{Omnibus:}       &  0.711 & \\textbf{  Durbin-Watson:     } &    0.997  \\\\\n",
       "\\textbf{Prob(Omnibus):} &  0.701 & \\textbf{  Jarque-Bera (JB):  } &    0.695  \\\\\n",
       "\\textbf{Skew:}          & -0.009 & \\textbf{  Prob(JB):          } &    0.707  \\\\\n",
       "\\textbf{Kurtosis:}      &  2.255 & \\textbf{  Cond. No.          } &     36.5  \\\\\n",
       "\\bottomrule\n",
       "\\end{tabular}\n",
       "%\\caption{OLS Regression Results}\n",
       "\\end{center}\n",
       "\n",
       "Notes: \\newline\n",
       " [1] Standard Errors assume that the covariance matrix of the errors is correctly specified."
      ],
      "text/plain": [
       "<class 'statsmodels.iolib.summary.Summary'>\n",
       "\"\"\"\n",
       "                            OLS Regression Results                            \n",
       "==============================================================================\n",
       "Dep. Variable:              Toneladas   R-squared:                       0.439\n",
       "Model:                            OLS   Adj. R-squared:                  0.419\n",
       "Method:                 Least Squares   F-statistic:                     21.94\n",
       "Date:                Sun, 01 Sep 2024   Prob (F-statistic):           6.58e-05\n",
       "Time:                        13:10:45   Log-Likelihood:                -378.79\n",
       "No. Observations:                  30   AIC:                             761.6\n",
       "Df Residuals:                      28   BIC:                             764.4\n",
       "Df Model:                           1                                         \n",
       "Covariance Type:            nonrobust                                         \n",
       "==============================================================================\n",
       "                 coef    std err          t      P>|t|      [0.025      0.975]\n",
       "------------------------------------------------------------------------------\n",
       "Intercept   2.019e+05   2.86e+04      7.071      0.000    1.43e+05     2.6e+05\n",
       "t           7533.7778   1608.383      4.684      0.000    4239.155    1.08e+04\n",
       "==============================================================================\n",
       "Omnibus:                        0.711   Durbin-Watson:                   0.997\n",
       "Prob(Omnibus):                  0.701   Jarque-Bera (JB):                0.695\n",
       "Skew:                          -0.009   Prob(JB):                        0.707\n",
       "Kurtosis:                       2.255   Cond. No.                         36.5\n",
       "==============================================================================\n",
       "\n",
       "Notes:\n",
       "[1] Standard Errors assume that the covariance matrix of the errors is correctly specified.\n",
       "\"\"\""
      ]
     },
     "execution_count": 189,
     "metadata": {},
     "output_type": "execute_result"
    }
   ],
   "source": [
    "model_df.summary()"
   ]
  },
  {
   "cell_type": "markdown",
   "metadata": {},
   "source": [
    "Resumen de la regresión desestacionalizada"
   ]
  },
  {
   "cell_type": "code",
   "execution_count": 190,
   "metadata": {},
   "outputs": [
    {
     "data": {
      "text/html": [
       "<table class=\"simpletable\">\n",
       "<caption>OLS Regression Results</caption>\n",
       "<tr>\n",
       "  <th>Dep. Variable:</th>    <td>Toneladas_periodo</td> <th>  R-squared:         </th> <td>   0.801</td>\n",
       "</tr>\n",
       "<tr>\n",
       "  <th>Model:</th>                   <td>OLS</td>        <th>  Adj. R-squared:    </th> <td>   0.794</td>\n",
       "</tr>\n",
       "<tr>\n",
       "  <th>Method:</th>             <td>Least Squares</td>   <th>  F-statistic:       </th> <td>   112.9</td>\n",
       "</tr>\n",
       "<tr>\n",
       "  <th>Date:</th>             <td>Sun, 01 Sep 2024</td>  <th>  Prob (F-statistic):</th> <td>2.47e-11</td>\n",
       "</tr>\n",
       "<tr>\n",
       "  <th>Time:</th>                 <td>13:10:57</td>      <th>  Log-Likelihood:    </th> <td> -352.34</td>\n",
       "</tr>\n",
       "<tr>\n",
       "  <th>No. Observations:</th>      <td>    30</td>       <th>  AIC:               </th> <td>   708.7</td>\n",
       "</tr>\n",
       "<tr>\n",
       "  <th>Df Residuals:</th>          <td>    28</td>       <th>  BIC:               </th> <td>   711.5</td>\n",
       "</tr>\n",
       "<tr>\n",
       "  <th>Df Model:</th>              <td>     1</td>       <th>                     </th>     <td> </td>   \n",
       "</tr>\n",
       "<tr>\n",
       "  <th>Covariance Type:</th>      <td>nonrobust</td>     <th>                     </th>     <td> </td>   \n",
       "</tr>\n",
       "</table>\n",
       "<table class=\"simpletable\">\n",
       "<tr>\n",
       "      <td></td>         <th>coef</th>     <th>std err</th>      <th>t</th>      <th>P>|t|</th>  <th>[0.025</th>    <th>0.975]</th>  \n",
       "</tr>\n",
       "<tr>\n",
       "  <th>Intercept</th> <td> 2.089e+05</td> <td> 1.18e+04</td> <td>   17.672</td> <td> 0.000</td> <td> 1.85e+05</td> <td> 2.33e+05</td>\n",
       "</tr>\n",
       "<tr>\n",
       "  <th>t</th>         <td> 7078.0236</td> <td>  665.999</td> <td>   10.628</td> <td> 0.000</td> <td> 5713.787</td> <td> 8442.260</td>\n",
       "</tr>\n",
       "</table>\n",
       "<table class=\"simpletable\">\n",
       "<tr>\n",
       "  <th>Omnibus:</th>       <td> 1.705</td> <th>  Durbin-Watson:     </th> <td>   0.485</td>\n",
       "</tr>\n",
       "<tr>\n",
       "  <th>Prob(Omnibus):</th> <td> 0.426</td> <th>  Jarque-Bera (JB):  </th> <td>   1.567</td>\n",
       "</tr>\n",
       "<tr>\n",
       "  <th>Skew:</th>          <td> 0.475</td> <th>  Prob(JB):          </th> <td>   0.457</td>\n",
       "</tr>\n",
       "<tr>\n",
       "  <th>Kurtosis:</th>      <td> 2.409</td> <th>  Cond. No.          </th> <td>    36.5</td>\n",
       "</tr>\n",
       "</table><br/><br/>Notes:<br/>[1] Standard Errors assume that the covariance matrix of the errors is correctly specified."
      ],
      "text/latex": [
       "\\begin{center}\n",
       "\\begin{tabular}{lclc}\n",
       "\\toprule\n",
       "\\textbf{Dep. Variable:}    & Toneladas\\_periodo & \\textbf{  R-squared:         } &     0.801   \\\\\n",
       "\\textbf{Model:}            &        OLS         & \\textbf{  Adj. R-squared:    } &     0.794   \\\\\n",
       "\\textbf{Method:}           &   Least Squares    & \\textbf{  F-statistic:       } &     112.9   \\\\\n",
       "\\textbf{Date:}             &  Sun, 01 Sep 2024  & \\textbf{  Prob (F-statistic):} &  2.47e-11   \\\\\n",
       "\\textbf{Time:}             &      13:10:57      & \\textbf{  Log-Likelihood:    } &   -352.34   \\\\\n",
       "\\textbf{No. Observations:} &           30       & \\textbf{  AIC:               } &     708.7   \\\\\n",
       "\\textbf{Df Residuals:}     &           28       & \\textbf{  BIC:               } &     711.5   \\\\\n",
       "\\textbf{Df Model:}         &            1       & \\textbf{                     } &             \\\\\n",
       "\\textbf{Covariance Type:}  &     nonrobust      & \\textbf{                     } &             \\\\\n",
       "\\bottomrule\n",
       "\\end{tabular}\n",
       "\\begin{tabular}{lcccccc}\n",
       "                   & \\textbf{coef} & \\textbf{std err} & \\textbf{t} & \\textbf{P$> |$t$|$} & \\textbf{[0.025} & \\textbf{0.975]}  \\\\\n",
       "\\midrule\n",
       "\\textbf{Intercept} &    2.089e+05  &     1.18e+04     &    17.672  &         0.000        &     1.85e+05    &     2.33e+05     \\\\\n",
       "\\textbf{t}         &    7078.0236  &      665.999     &    10.628  &         0.000        &     5713.787    &     8442.260     \\\\\n",
       "\\bottomrule\n",
       "\\end{tabular}\n",
       "\\begin{tabular}{lclc}\n",
       "\\textbf{Omnibus:}       &  1.705 & \\textbf{  Durbin-Watson:     } &    0.485  \\\\\n",
       "\\textbf{Prob(Omnibus):} &  0.426 & \\textbf{  Jarque-Bera (JB):  } &    1.567  \\\\\n",
       "\\textbf{Skew:}          &  0.475 & \\textbf{  Prob(JB):          } &    0.457  \\\\\n",
       "\\textbf{Kurtosis:}      &  2.409 & \\textbf{  Cond. No.          } &     36.5  \\\\\n",
       "\\bottomrule\n",
       "\\end{tabular}\n",
       "%\\caption{OLS Regression Results}\n",
       "\\end{center}\n",
       "\n",
       "Notes: \\newline\n",
       " [1] Standard Errors assume that the covariance matrix of the errors is correctly specified."
      ],
      "text/plain": [
       "<class 'statsmodels.iolib.summary.Summary'>\n",
       "\"\"\"\n",
       "                            OLS Regression Results                            \n",
       "==============================================================================\n",
       "Dep. Variable:      Toneladas_periodo   R-squared:                       0.801\n",
       "Model:                            OLS   Adj. R-squared:                  0.794\n",
       "Method:                 Least Squares   F-statistic:                     112.9\n",
       "Date:                Sun, 01 Sep 2024   Prob (F-statistic):           2.47e-11\n",
       "Time:                        13:10:57   Log-Likelihood:                -352.34\n",
       "No. Observations:                  30   AIC:                             708.7\n",
       "Df Residuals:                      28   BIC:                             711.5\n",
       "Df Model:                           1                                         \n",
       "Covariance Type:            nonrobust                                         \n",
       "==============================================================================\n",
       "                 coef    std err          t      P>|t|      [0.025      0.975]\n",
       "------------------------------------------------------------------------------\n",
       "Intercept   2.089e+05   1.18e+04     17.672      0.000    1.85e+05    2.33e+05\n",
       "t           7078.0236    665.999     10.628      0.000    5713.787    8442.260\n",
       "==============================================================================\n",
       "Omnibus:                        1.705   Durbin-Watson:                   0.485\n",
       "Prob(Omnibus):                  0.426   Jarque-Bera (JB):                1.567\n",
       "Skew:                           0.475   Prob(JB):                        0.457\n",
       "Kurtosis:                       2.409   Cond. No.                         36.5\n",
       "==============================================================================\n",
       "\n",
       "Notes:\n",
       "[1] Standard Errors assume that the covariance matrix of the errors is correctly specified.\n",
       "\"\"\""
      ]
     },
     "execution_count": 190,
     "metadata": {},
     "output_type": "execute_result"
    }
   ],
   "source": [
    "model_df2.summary()"
   ]
  },
  {
   "cell_type": "markdown",
   "metadata": {},
   "source": [
    "Comparando valores de R al cuadrado"
   ]
  },
  {
   "cell_type": "code",
   "execution_count": 216,
   "metadata": {},
   "outputs": [
    {
     "name": "stdout",
     "output_type": "stream",
     "text": [
      "El modelo base de regresión tiene una R2 de 0.439, mientras que el modelo desetacionalizado tiene una R2 de: 0.801\n",
      "La diferencia es de: -0.362\n",
      "Implicando que -> Modelo desestacionalizado <- tiene un mejor ajuste\n"
     ]
    }
   ],
   "source": [
    "print(f\"El modelo base de regresión tiene una R2 de {model_df.rsquared:.3f}, mientras que el modelo desetacionalizado tiene una R2 de: {model_df2.rsquared:.3f}\")\n",
    "print(f\"La diferencia es de: {(model_df.rsquared - model_df2.rsquared):.3f}\")\n",
    "print(f\"Implicando que -> {'Modelo con estacionalidad' if model_df.rsquared > model_df2.rsquared else 'Modelo desestacionalizado'} <- tiene un mejor ajuste\")\n"
   ]
  },
  {
   "cell_type": "markdown",
   "metadata": {},
   "source": [
    "Al eliminar el ruido causado por la estacionalidad de la serie de tiempo, el modelo se vuelve más lineal, permitiendo que una línea recta se ajuste con menor error. Esto se refleja en un valor de $R^2$ superior para el modelo desestacionalizado en comparación con el modelo que conserva la estacionalidad"
   ]
  },
  {
   "cell_type": "markdown",
   "metadata": {},
   "source": [
    "### 9. Grafique los pronósticos obtenidos con ambas técnicas y comente los resultados."
   ]
  },
  {
   "cell_type": "code",
   "execution_count": 184,
   "metadata": {},
   "outputs": [
    {
     "data": {
      "text/html": [
       "<div>\n",
       "<style scoped>\n",
       "    .dataframe tbody tr th:only-of-type {\n",
       "        vertical-align: middle;\n",
       "    }\n",
       "\n",
       "    .dataframe tbody tr th {\n",
       "        vertical-align: top;\n",
       "    }\n",
       "\n",
       "    .dataframe thead th {\n",
       "        text-align: right;\n",
       "    }\n",
       "</style>\n",
       "<table border=\"1\" class=\"dataframe\">\n",
       "  <thead>\n",
       "    <tr style=\"text-align: right;\">\n",
       "      <th></th>\n",
       "      <th>Año</th>\n",
       "      <th>Bimestre</th>\n",
       "      <th>t</th>\n",
       "      <th>base_model</th>\n",
       "      <th>des_model</th>\n",
       "    </tr>\n",
       "  </thead>\n",
       "  <tbody>\n",
       "    <tr>\n",
       "      <th>0</th>\n",
       "      <td>2024</td>\n",
       "      <td>1</td>\n",
       "      <td>31</td>\n",
       "      <td>435448.271908</td>\n",
       "      <td>428366.143716</td>\n",
       "    </tr>\n",
       "    <tr>\n",
       "      <th>1</th>\n",
       "      <td>2024</td>\n",
       "      <td>2</td>\n",
       "      <td>32</td>\n",
       "      <td>442982.049666</td>\n",
       "      <td>435444.167341</td>\n",
       "    </tr>\n",
       "    <tr>\n",
       "      <th>2</th>\n",
       "      <td>2024</td>\n",
       "      <td>3</td>\n",
       "      <td>33</td>\n",
       "      <td>450515.827423</td>\n",
       "      <td>442522.190965</td>\n",
       "    </tr>\n",
       "    <tr>\n",
       "      <th>3</th>\n",
       "      <td>2024</td>\n",
       "      <td>4</td>\n",
       "      <td>34</td>\n",
       "      <td>458049.605181</td>\n",
       "      <td>449600.214590</td>\n",
       "    </tr>\n",
       "    <tr>\n",
       "      <th>4</th>\n",
       "      <td>2024</td>\n",
       "      <td>5</td>\n",
       "      <td>35</td>\n",
       "      <td>465583.382938</td>\n",
       "      <td>456678.238214</td>\n",
       "    </tr>\n",
       "    <tr>\n",
       "      <th>5</th>\n",
       "      <td>2024</td>\n",
       "      <td>6</td>\n",
       "      <td>36</td>\n",
       "      <td>473117.160696</td>\n",
       "      <td>463756.261839</td>\n",
       "    </tr>\n",
       "  </tbody>\n",
       "</table>\n",
       "</div>"
      ],
      "text/plain": [
       "    Año  Bimestre   t     base_model      des_model\n",
       "0  2024         1  31  435448.271908  428366.143716\n",
       "1  2024         2  32  442982.049666  435444.167341\n",
       "2  2024         3  33  450515.827423  442522.190965\n",
       "3  2024         4  34  458049.605181  449600.214590\n",
       "4  2024         5  35  465583.382938  456678.238214\n",
       "5  2024         6  36  473117.160696  463756.261839"
      ]
     },
     "execution_count": 184,
     "metadata": {},
     "output_type": "execute_result"
    }
   ],
   "source": [
    "df3"
   ]
  },
  {
   "cell_type": "code",
   "execution_count": 185,
   "metadata": {},
   "outputs": [
    {
     "data": {
      "text/plain": [
       "<Axes: xlabel='t', ylabel='Toneladas'>"
      ]
     },
     "execution_count": 185,
     "metadata": {},
     "output_type": "execute_result"
    },
    {
     "data": {
      "image/png": "[encoded data removed]",
      "text/plain": [
       "<Figure size 640x480 with 1 Axes>"
      ]
     },
     "metadata": {},
     "output_type": "display_data"
    }
   ],
   "source": [
    "sns.lineplot(data=df2, x='t', y='Toneladas', label='Toneladas')\n",
    "sns.lineplot(data=df2, x='t', y='Toneladas_periodo', label='Toneladas Periodo')\n",
    "sns.lineplot(data=df3, x='t', y='base_model', label='Regresión simple')\n",
    "sns.lineplot(data=df3, x='t', y='des_model', label='Regresión desestacionalizada')"
   ]
  }
 ],
 "metadata": {
  "kernelspec": {
   "display_name": "mcd_econometrics",
   "language": "python",
   "name": "python3"
  },
  "language_info": {
   "codemirror_mode": {
    "name": "ipython",
    "version": 3
   },
   "file_extension": ".py",
   "mimetype": "text/x-python",
   "name": "python",
   "nbconvert_exporter": "python",
   "pygments_lexer": "ipython3",
   "version": "3.11.5"
  }
 },
 "nbformat": 4,
 "nbformat_minor": 2
}
